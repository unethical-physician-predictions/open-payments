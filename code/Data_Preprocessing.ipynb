{
 "cells": [
  {
   "cell_type": "code",
   "execution_count": 1,
   "metadata": {},
   "outputs": [],
   "source": [
    "# to automatically update code as we go\n",
    "\n",
    "%load_ext autoreload\n",
    "%autoreload 2\n",
    "%matplotlib inline"
   ]
  },
  {
   "cell_type": "code",
   "execution_count": 2,
   "metadata": {},
   "outputs": [
    {
     "name": "stdout",
     "output_type": "stream",
     "text": [
      "Starting Spark application\n"
     ]
    },
    {
     "data": {
      "text/html": [
       "<table>\n",
       "<tr><th>ID</th><th>YARN Application ID</th><th>Kind</th><th>State</th><th>Spark UI</th><th>Driver log</th><th>Current session?</th></tr><tr><td>4</td><td>application_1547683576186_0005</td><td>pyspark</td><td>idle</td><td><a target=\"_blank\" href=\"http://ip-172-31-45-120.ec2.internal:20888/proxy/application_1547683576186_0005/\">Link</a></td><td><a target=\"_blank\" href=\"http://ip-172-31-32-75.ec2.internal:8042/node/containerlogs/container_1547683576186_0005_01_000001/livy\">Link</a></td><td>✔</td></tr></table>"
      ],
      "text/plain": [
       "<IPython.core.display.HTML object>"
      ]
     },
     "metadata": {},
     "output_type": "display_data"
    },
    {
     "name": "stdout",
     "output_type": "stream",
     "text": [
      "SparkSession available as 'spark'.\n"
     ]
    }
   ],
   "source": [
    "from csv import reader\n",
    "\n",
    "from pyspark import SparkContext, SparkConf\n",
    "from pyspark.sql import SparkSession\n",
    "from pyspark.sql.types import *\n",
    "from pyspark.sql.functions import lit\n",
    "from pyspark.sql.functions import udf"
   ]
  },
  {
   "cell_type": "code",
   "execution_count": 58,
   "metadata": {},
   "outputs": [],
   "source": [
    "research_data_2013_2014_2015 = sc.textFile(\"s3a://msds697-openpayments/OP_DTL_RSRCH_PGYR2013_P06292018.csv,\" + \n",
    "                                           \"s3a://msds697-openpayments/OP_DTL_RSRCH_PGYR2014_P06292018.csv,\" + \n",
    "                                           \"s3a://msds697-openpayments/OP_DTL_RSRCH_PGYR2015_P06292018.csv\", 2)\n",
    "\n"
   ]
  },
  {
   "cell_type": "code",
   "execution_count": 59,
   "metadata": {},
   "outputs": [],
   "source": [
    "research_data_2016_2017 = sc.textFile(\"s3a://msds697-openpayments/OP_DTL_RSRCH_PGYR2016_P06292018.csv,\" + \n",
    "                                      \"s3a://msds697-openpayments/OP_DTL_RSRCH_PGYR2017_P06292018.csv\")\n",
    "\n"
   ]
  },
  {
   "cell_type": "code",
   "execution_count": 60,
   "metadata": {},
   "outputs": [],
   "source": [
    "\n",
    "\n",
    "def split_comma(x):\n",
    "    return list(reader([x], delimiter=',', quotechar='\"'))[0]\n",
    "\n",
    "def check_columns(first_column, second_column):\n",
    "    if first_column != '':\n",
    "        return first_column\n",
    "    else:\n",
    "        return second_column"
   ]
  },
  {
   "cell_type": "code",
   "execution_count": 61,
   "metadata": {},
   "outputs": [
    {
     "name": "stdout",
     "output_type": "stream",
     "text": [
      "[['Change_Type', 'Covered_Recipient_Type', 'Noncovered_Recipient_Entity_Name', 'Teaching_Hospital_CCN', 'Teaching_Hospital_ID', 'Teaching_Hospital_Name', 'Physician_Profile_ID', 'Physician_First_Name', 'Physician_Middle_Name', 'Physician_Last_Name', 'Physician_Name_Suffix', 'Recipient_Primary_Business_Street_Address_Line1', 'Recipient_Primary_Business_Street_Address_Line2', 'Recipient_City', 'Recipient_State', 'Recipient_Zip_Code', 'Recipient_Country', 'Recipient_Province', 'Recipient_Postal_Code', 'Physician_Primary_Type', 'Physician_Specialty', 'Physician_License_State_code1', 'Physician_License_State_code2', 'Physician_License_State_code3', 'Physician_License_State_code4', 'Physician_License_State_code5', 'Principal_Investigator_1_Profile_ID', 'Principal_Investigator_1_First_Name', 'Principal_Investigator_1_Middle_Name', 'Principal_Investigator_1_Last_Name', 'Principal_Investigator_1_Name_Suffix', 'Principal_Investigator_1_Business_Street_Address_Line1', 'Principal_Investigator_1_Business_Street_Address_Line2', 'Principal_Investigator_1_City', 'Principal_Investigator_1_State', 'Principal_Investigator_1_Zip_Code', 'Principal_Investigator_1_Country', 'Principal_Investigator_1_Province', 'Principal_Investigator_1_Postal_Code', 'Principal_Investigator_1_Primary_Type', 'Principal_Investigator_1_Specialty', 'Principal_Investigator_1_License_State_code1', 'Principal_Investigator_1_License_State_code2', 'Principal_Investigator_1_License_State_code3', 'Principal_Investigator_1_License_State_code4', 'Principal_Investigator_1_License_State_code5', 'Principal_Investigator_2_Profile_ID', 'Principal_Investigator_2_First_Name', 'Principal_Investigator_2_Middle_Name', 'Principal_Investigator_2_Last_Name', 'Principal_Investigator_2_Name_Suffix', 'Principal_Investigator_2_Business_Street_Address_Line1', 'Principal_Investigator_2_Business_Street_Address_Line2', 'Principal_Investigator_2_City', 'Principal_Investigator_2_State', 'Principal_Investigator_2_Zip_Code', 'Principal_Investigator_2_Country', 'Principal_Investigator_2_Province', 'Principal_Investigator_2_Postal_Code', 'Principal_Investigator_2_Primary_Type', 'Principal_Investigator_2_Specialty', 'Principal_Investigator_2_License_State_code1', 'Principal_Investigator_2_License_State_code2', 'Principal_Investigator_2_License_State_code3', 'Principal_Investigator_2_License_State_code4', 'Principal_Investigator_2_License_State_code5', 'Principal_Investigator_3_Profile_ID', 'Principal_Investigator_3_First_Name', 'Principal_Investigator_3_Middle_Name', 'Principal_Investigator_3_Last_Name', 'Principal_Investigator_3_Name_Suffix', 'Principal_Investigator_3_Business_Street_Address_Line1', 'Principal_Investigator_3_Business_Street_Address_Line2', 'Principal_Investigator_3_City', 'Principal_Investigator_3_State', 'Principal_Investigator_3_Zip_Code', 'Principal_Investigator_3_Country', 'Principal_Investigator_3_Province', 'Principal_Investigator_3_Postal_Code', 'Principal_Investigator_3_Primary_Type', 'Principal_Investigator_3_Specialty', 'Principal_Investigator_3_License_State_code1', 'Principal_Investigator_3_License_State_code2', 'Principal_Investigator_3_License_State_code3', 'Principal_Investigator_3_License_State_code4', 'Principal_Investigator_3_License_State_code5', 'Principal_Investigator_4_Profile_ID', 'Principal_Investigator_4_First_Name', 'Principal_Investigator_4_Middle_Name', 'Principal_Investigator_4_Last_Name', 'Principal_Investigator_4_Name_Suffix', 'Principal_Investigator_4_Business_Street_Address_Line1', 'Principal_Investigator_4_Business_Street_Address_Line2', 'Principal_Investigator_4_City', 'Principal_Investigator_4_State', 'Principal_Investigator_4_Zip_Code', 'Principal_Investigator_4_Country', 'Principal_Investigator_4_Province', 'Principal_Investigator_4_Postal_Code', 'Principal_Investigator_4_Primary_Type', 'Principal_Investigator_4_Specialty', 'Principal_Investigator_4_License_State_code1', 'Principal_Investigator_4_License_State_code2', 'Principal_Investigator_4_License_State_code3', 'Principal_Investigator_4_License_State_code4', 'Principal_Investigator_4_License_State_code5', 'Principal_Investigator_5_Profile_ID', 'Principal_Investigator_5_First_Name', 'Principal_Investigator_5_Middle_Name', 'Principal_Investigator_5_Last_Name', 'Principal_Investigator_5_Name_Suffix', 'Principal_Investigator_5_Business_Street_Address_Line1', 'Principal_Investigator_5_Business_Street_Address_Line2', 'Principal_Investigator_5_City', 'Principal_Investigator_5_State', 'Principal_Investigator_5_Zip_Code', 'Principal_Investigator_5_Country', 'Principal_Investigator_5_Province', 'Principal_Investigator_5_Postal_Code', 'Principal_Investigator_5_Primary_Type', 'Principal_Investigator_5_Specialty', 'Principal_Investigator_5_License_State_code1', 'Principal_Investigator_5_License_State_code2', 'Principal_Investigator_5_License_State_code3', 'Principal_Investigator_5_License_State_code4', 'Principal_Investigator_5_License_State_code5', 'Submitting_Applicable_Manufacturer_or_Applicable_GPO_Name', 'Applicable_Manufacturer_or_Applicable_GPO_Making_Payment_ID', 'Applicable_Manufacturer_or_Applicable_GPO_Making_Payment_Name', 'Applicable_Manufacturer_or_Applicable_GPO_Making_Payment_State', 'Applicable_Manufacturer_or_Applicable_GPO_Making_Payment_Country', 'Product_Indicator', 'Name_of_Associated_Covered_Drug_or_Biological1', 'Name_of_Associated_Covered_Drug_or_Biological2', 'Name_of_Associated_Covered_Drug_or_Biological3', 'Name_of_Associated_Covered_Drug_or_Biological4', 'Name_of_Associated_Covered_Drug_or_Biological5', 'NDC_of_Associated_Covered_Drug_or_Biological1', 'NDC_of_Associated_Covered_Drug_or_Biological2', 'NDC_of_Associated_Covered_Drug_or_Biological3', 'NDC_of_Associated_Covered_Drug_or_Biological4', 'NDC_of_Associated_Covered_Drug_or_Biological5', 'Name_of_Associated_Covered_Device_or_Medical_Supply1', 'Name_of_Associated_Covered_Device_or_Medical_Supply2', 'Name_of_Associated_Covered_Device_or_Medical_Supply3', 'Name_of_Associated_Covered_Device_or_Medical_Supply4', 'Name_of_Associated_Covered_Device_or_Medical_Supply5', 'Total_Amount_of_Payment_USDollars', 'Date_of_Payment', 'Form_of_Payment_or_Transfer_of_Value', 'Expenditure_Category1', 'Expenditure_Category2', 'Expenditure_Category3', 'Expenditure_Category4', 'Expenditure_Category5', 'Expenditure_Category6', 'Preclinical_Research_Indicator', 'Delay_in_Publication_Indicator', 'Name_of_Study', 'Dispute_Status_for_Publication', 'Record_ID', 'Program_Year', 'Payment_Publication_Date', 'ClinicalTrials_Gov_Identifier', 'Research_Information_Link', 'Context_of_Research']]"
     ]
    }
   ],
   "source": [
    "# loading in the data from 2013-2015 since they have the same columns\n",
    "# however the data from 2016-2017 has slightly different columns\n",
    "# checking that the columns are what we expect\n",
    "\n",
    "columns_1 = research_data_2013_2014_2015.map(split_comma).take(1)\n",
    "print(columns_1)"
   ]
  },
  {
   "cell_type": "code",
   "execution_count": 62,
   "metadata": {},
   "outputs": [
    {
     "name": "stdout",
     "output_type": "stream",
     "text": [
      "[['Change_Type', 'Covered_Recipient_Type', 'Noncovered_Recipient_Entity_Name', 'Teaching_Hospital_CCN', 'Teaching_Hospital_ID', 'Teaching_Hospital_Name', 'Physician_Profile_ID', 'Physician_First_Name', 'Physician_Middle_Name', 'Physician_Last_Name', 'Physician_Name_Suffix', 'Recipient_Primary_Business_Street_Address_Line1', 'Recipient_Primary_Business_Street_Address_Line2', 'Recipient_City', 'Recipient_State', 'Recipient_Zip_Code', 'Recipient_Country', 'Recipient_Province', 'Recipient_Postal_Code', 'Physician_Primary_Type', 'Physician_Specialty', 'Physician_License_State_code1', 'Physician_License_State_code2', 'Physician_License_State_code3', 'Physician_License_State_code4', 'Physician_License_State_code5', 'Principal_Investigator_1_Profile_ID', 'Principal_Investigator_1_First_Name', 'Principal_Investigator_1_Middle_Name', 'Principal_Investigator_1_Last_Name', 'Principal_Investigator_1_Name_Suffix', 'Principal_Investigator_1_Business_Street_Address_Line1', 'Principal_Investigator_1_Business_Street_Address_Line2', 'Principal_Investigator_1_City', 'Principal_Investigator_1_State', 'Principal_Investigator_1_Zip_Code', 'Principal_Investigator_1_Country', 'Principal_Investigator_1_Province', 'Principal_Investigator_1_Postal_Code', 'Principal_Investigator_1_Primary_Type', 'Principal_Investigator_1_Specialty', 'Principal_Investigator_1_License_State_code1', 'Principal_Investigator_1_License_State_code2', 'Principal_Investigator_1_License_State_code3', 'Principal_Investigator_1_License_State_code4', 'Principal_Investigator_1_License_State_code5', 'Principal_Investigator_2_Profile_ID', 'Principal_Investigator_2_First_Name', 'Principal_Investigator_2_Middle_Name', 'Principal_Investigator_2_Last_Name', 'Principal_Investigator_2_Name_Suffix', 'Principal_Investigator_2_Business_Street_Address_Line1', 'Principal_Investigator_2_Business_Street_Address_Line2', 'Principal_Investigator_2_City', 'Principal_Investigator_2_State', 'Principal_Investigator_2_Zip_Code', 'Principal_Investigator_2_Country', 'Principal_Investigator_2_Province', 'Principal_Investigator_2_Postal_Code', 'Principal_Investigator_2_Primary_Type', 'Principal_Investigator_2_Specialty', 'Principal_Investigator_2_License_State_code1', 'Principal_Investigator_2_License_State_code2', 'Principal_Investigator_2_License_State_code3', 'Principal_Investigator_2_License_State_code4', 'Principal_Investigator_2_License_State_code5', 'Principal_Investigator_3_Profile_ID', 'Principal_Investigator_3_First_Name', 'Principal_Investigator_3_Middle_Name', 'Principal_Investigator_3_Last_Name', 'Principal_Investigator_3_Name_Suffix', 'Principal_Investigator_3_Business_Street_Address_Line1', 'Principal_Investigator_3_Business_Street_Address_Line2', 'Principal_Investigator_3_City', 'Principal_Investigator_3_State', 'Principal_Investigator_3_Zip_Code', 'Principal_Investigator_3_Country', 'Principal_Investigator_3_Province', 'Principal_Investigator_3_Postal_Code', 'Principal_Investigator_3_Primary_Type', 'Principal_Investigator_3_Specialty', 'Principal_Investigator_3_License_State_code1', 'Principal_Investigator_3_License_State_code2', 'Principal_Investigator_3_License_State_code3', 'Principal_Investigator_3_License_State_code4', 'Principal_Investigator_3_License_State_code5', 'Principal_Investigator_4_Profile_ID', 'Principal_Investigator_4_First_Name', 'Principal_Investigator_4_Middle_Name', 'Principal_Investigator_4_Last_Name', 'Principal_Investigator_4_Name_Suffix', 'Principal_Investigator_4_Business_Street_Address_Line1', 'Principal_Investigator_4_Business_Street_Address_Line2', 'Principal_Investigator_4_City', 'Principal_Investigator_4_State', 'Principal_Investigator_4_Zip_Code', 'Principal_Investigator_4_Country', 'Principal_Investigator_4_Province', 'Principal_Investigator_4_Postal_Code', 'Principal_Investigator_4_Primary_Type', 'Principal_Investigator_4_Specialty', 'Principal_Investigator_4_License_State_code1', 'Principal_Investigator_4_License_State_code2', 'Principal_Investigator_4_License_State_code3', 'Principal_Investigator_4_License_State_code4', 'Principal_Investigator_4_License_State_code5', 'Principal_Investigator_5_Profile_ID', 'Principal_Investigator_5_First_Name', 'Principal_Investigator_5_Middle_Name', 'Principal_Investigator_5_Last_Name', 'Principal_Investigator_5_Name_Suffix', 'Principal_Investigator_5_Business_Street_Address_Line1', 'Principal_Investigator_5_Business_Street_Address_Line2', 'Principal_Investigator_5_City', 'Principal_Investigator_5_State', 'Principal_Investigator_5_Zip_Code', 'Principal_Investigator_5_Country', 'Principal_Investigator_5_Province', 'Principal_Investigator_5_Postal_Code', 'Principal_Investigator_5_Primary_Type', 'Principal_Investigator_5_Specialty', 'Principal_Investigator_5_License_State_code1', 'Principal_Investigator_5_License_State_code2', 'Principal_Investigator_5_License_State_code3', 'Principal_Investigator_5_License_State_code4', 'Principal_Investigator_5_License_State_code5', 'Submitting_Applicable_Manufacturer_or_Applicable_GPO_Name', 'Applicable_Manufacturer_or_Applicable_GPO_Making_Payment_ID', 'Applicable_Manufacturer_or_Applicable_GPO_Making_Payment_Name', 'Applicable_Manufacturer_or_Applicable_GPO_Making_Payment_State', 'Applicable_Manufacturer_or_Applicable_GPO_Making_Payment_Country', 'Related_Product_Indicator', 'Covered_or_Noncovered_Indicator_1', 'Indicate_Drug_or_Biological_or_Device_or_Medical_Supply_1', 'Product_Category_or_Therapeutic_Area_1', 'Name_of_Drug_or_Biological_or_Device_or_Medical_Supply_1', 'Associated_Drug_or_Biological_NDC_1', 'Covered_or_Noncovered_Indicator_2', 'Indicate_Drug_or_Biological_or_Device_or_Medical_Supply_2', 'Product_Category_or_Therapeutic_Area_2', 'Name_of_Drug_or_Biological_or_Device_or_Medical_Supply_2', 'Associated_Drug_or_Biological_NDC_2', 'Covered_or_Noncovered_Indicator_3', 'Indicate_Drug_or_Biological_or_Device_or_Medical_Supply_3', 'Product_Category_or_Therapeutic_Area_3', 'Name_of_Drug_or_Biological_or_Device_or_Medical_Supply_3', 'Associated_Drug_or_Biological_NDC_3', 'Covered_or_Noncovered_Indicator_4', 'Indicate_Drug_or_Biological_or_Device_or_Medical_Supply_4', 'Product_Category_or_Therapeutic_Area_4', 'Name_of_Drug_or_Biological_or_Device_or_Medical_Supply_4', 'Associated_Drug_or_Biological_NDC_4', 'Covered_or_Noncovered_Indicator_5', 'Indicate_Drug_or_Biological_or_Device_or_Medical_Supply_5', 'Product_Category_or_Therapeutic_Area_5', 'Name_of_Drug_or_Biological_or_Device_or_Medical_Supply_5', 'Associated_Drug_or_Biological_NDC_5', 'Total_Amount_of_Payment_USDollars', 'Date_of_Payment', 'Form_of_Payment_or_Transfer_of_Value', 'Expenditure_Category1', 'Expenditure_Category2', 'Expenditure_Category3', 'Expenditure_Category4', 'Expenditure_Category5', 'Expenditure_Category6', 'Preclinical_Research_Indicator', 'Delay_in_Publication_Indicator', 'Name_of_Study', 'Dispute_Status_for_Publication', 'Record_ID', 'Program_Year', 'Payment_Publication_Date', 'ClinicalTrials_Gov_Identifier', 'Research_Information_Link', 'Context_of_Research']]"
     ]
    }
   ],
   "source": [
    "# loading in the data from 2016-2017 since they have the same columns\n",
    "# (with respect to eachother)\n",
    "# checking that the columns are what we expect\n",
    "\n",
    "columns_2 = research_data_2016_2017.map(split_comma).take(1)\n",
    "print(columns_2)"
   ]
  },
  {
   "cell_type": "code",
   "execution_count": 63,
   "metadata": {},
   "outputs": [
    {
     "name": "stdout",
     "output_type": "stream",
     "text": [
      "set(['Principal_Investigator_2_License_State_code3', 'Principal_Investigator_2_License_State_code2', 'Principal_Investigator_2_License_State_code1', 'Principal_Investigator_3_First_Name', 'Principal_Investigator_5_Business_Street_Address_Line2', 'Principal_Investigator_2_License_State_code5', 'Principal_Investigator_2_License_State_code4', 'Principal_Investigator_1_Middle_Name', 'Applicable_Manufacturer_or_Applicable_GPO_Making_Payment_State', 'Recipient_Primary_Business_Street_Address_Line2', 'Principal_Investigator_4_Middle_Name', 'Recipient_Primary_Business_Street_Address_Line1', 'Submitting_Applicable_Manufacturer_or_Applicable_GPO_Name', 'Principal_Investigator_3_Name_Suffix', 'Principal_Investigator_2_Name_Suffix', 'Principal_Investigator_5_Middle_Name', 'Physician_Primary_Type', 'Principal_Investigator_4_Business_Street_Address_Line2', 'Principal_Investigator_4_Business_Street_Address_Line1', 'Principal_Investigator_5_Name_Suffix', 'Total_Amount_of_Payment_USDollars', 'Principal_Investigator_1_License_State_code4', 'Principal_Investigator_1_License_State_code5', 'Recipient_Postal_Code', 'Principal_Investigator_1_License_State_code1', 'Principal_Investigator_1_License_State_code2', 'Principal_Investigator_1_License_State_code3', 'Principal_Investigator_5_Business_Street_Address_Line1', 'Principal_Investigator_2_Country', 'Principal_Investigator_4_Name_Suffix', 'Principal_Investigator_3_Specialty', 'Recipient_Province', 'Principal_Investigator_3_Primary_Type', 'Dispute_Status_for_Publication', 'Research_Information_Link', 'Covered_Recipient_Type', 'Principal_Investigator_1_Specialty', 'Principal_Investigator_5_License_State_code1', 'Principal_Investigator_5_License_State_code2', 'Principal_Investigator_5_License_State_code3', 'Principal_Investigator_5_License_State_code4', 'Principal_Investigator_5_License_State_code5', 'Principal_Investigator_2_City', 'Principal_Investigator_1_Business_Street_Address_Line2', 'Principal_Investigator_1_Business_Street_Address_Line1', 'Principal_Investigator_5_City', 'Physician_Last_Name', 'Principal_Investigator_2_Primary_Type', 'Recipient_City', 'Principal_Investigator_2_Business_Street_Address_Line1', 'Principal_Investigator_2_Business_Street_Address_Line2', 'Physician_License_State_code3', 'Physician_License_State_code2', 'Physician_License_State_code1', 'Principal_Investigator_1_City', 'Physician_License_State_code5', 'Physician_License_State_code4', 'Principal_Investigator_5_Specialty', 'Principal_Investigator_3_Middle_Name', 'Principal_Investigator_5_Last_Name', 'Principal_Investigator_5_First_Name', 'Physician_Specialty', 'Teaching_Hospital_ID', 'Physician_Name_Suffix', 'Principal_Investigator_2_Last_Name', 'Principal_Investigator_1_Last_Name', 'Principal_Investigator_4_Specialty', 'Principal_Investigator_3_State', 'Principal_Investigator_3_Postal_Code', 'Principal_Investigator_4_Country', 'Principal_Investigator_4_Primary_Type', 'Physician_First_Name', 'Principal_Investigator_3_Profile_ID', 'Physician_Profile_ID', 'Form_of_Payment_or_Transfer_of_Value', 'Principal_Investigator_2_Postal_Code', 'Expenditure_Category3', 'Principal_Investigator_4_Postal_Code', 'Expenditure_Category1', 'Expenditure_Category6', 'Expenditure_Category5', 'Expenditure_Category4', 'Principal_Investigator_5_Primary_Type', 'Principal_Investigator_5_Zip_Code', 'Program_Year', 'Principal_Investigator_1_Country', 'Applicable_Manufacturer_or_Applicable_GPO_Making_Payment_Name', 'Principal_Investigator_3_License_State_code2', 'Principal_Investigator_5_State', 'Principal_Investigator_2_First_Name', 'Record_ID', 'Principal_Investigator_4_First_Name', 'Principal_Investigator_3_License_State_code4', 'Principal_Investigator_3_License_State_code5', 'Preclinical_Research_Indicator', 'Principal_Investigator_3_License_State_code3', 'Principal_Investigator_3_License_State_code1', 'Payment_Publication_Date', 'Recipient_Country', 'Principal_Investigator_3_Business_Street_Address_Line1', 'Principal_Investigator_5_Country', 'Principal_Investigator_3_Business_Street_Address_Line2', 'Principal_Investigator_3_Last_Name', 'Principal_Investigator_2_Specialty', 'Principal_Investigator_4_State', 'Name_of_Study', 'Principal_Investigator_4_License_State_code5', 'Principal_Investigator_4_License_State_code4', 'Principal_Investigator_4_License_State_code1', 'Principal_Investigator_4_License_State_code3', 'Principal_Investigator_4_License_State_code2', 'Physician_Middle_Name', 'Principal_Investigator_2_Zip_Code', 'Change_Type', 'Principal_Investigator_4_Zip_Code', 'Principal_Investigator_4_Profile_ID', 'Applicable_Manufacturer_or_Applicable_GPO_Making_Payment_ID', 'Recipient_State', 'Principal_Investigator_2_Profile_ID', 'Principal_Investigator_1_Postal_Code', 'Principal_Investigator_4_Last_Name', 'Principal_Investigator_1_Province', 'Date_of_Payment', 'Principal_Investigator_3_Province', 'Principal_Investigator_5_Province', 'Principal_Investigator_1_Primary_Type', 'Principal_Investigator_3_City', 'Principal_Investigator_2_State', 'Teaching_Hospital_CCN', 'Principal_Investigator_1_Profile_ID', 'Applicable_Manufacturer_or_Applicable_GPO_Making_Payment_Country', 'Principal_Investigator_4_Province', 'Principal_Investigator_2_Province', 'Delay_in_Publication_Indicator', 'Principal_Investigator_3_Country', 'Principal_Investigator_1_Name_Suffix', 'Principal_Investigator_4_City', 'Expenditure_Category2', 'Principal_Investigator_3_Zip_Code', 'Principal_Investigator_1_State', 'Noncovered_Recipient_Entity_Name', 'Principal_Investigator_2_Middle_Name', 'Recipient_Zip_Code', 'Teaching_Hospital_Name', 'Principal_Investigator_5_Profile_ID', 'ClinicalTrials_Gov_Identifier', 'Principal_Investigator_5_Postal_Code', 'Context_of_Research', 'Principal_Investigator_1_First_Name', 'Principal_Investigator_1_Zip_Code'])"
     ]
    }
   ],
   "source": [
    "# checking for what columns the 2 different timeframes \n",
    "# (columns_1 (2013-2015) & columns_2 (2016-2017))\n",
    "# have in common using sets\n",
    "\n",
    "intersection = set(columns_1[0]).intersection(set(columns_2[0]))\n",
    "print(intersection)"
   ]
  },
  {
   "cell_type": "code",
   "execution_count": 64,
   "metadata": {},
   "outputs": [
    {
     "name": "stdout",
     "output_type": "stream",
     "text": [
      "+-----------+----------------------+--------------------------------+---------------------+--------------------+----------------------+--------------------+--------------------+---------------------+-------------------+---------------------+-----------------------------------------------+-----------------------------------------------+--------------+---------------+------------------+-----------------+------------------+---------------------+----------------------+-------------------+-----------------------------+-----------------------------+-----------------------------+-----------------------------+-----------------------------+-----------------------------------+-----------------------------------+------------------------------------+----------------------------------+------------------------------------+------------------------------------------------------+------------------------------------------------------+-----------------------------+------------------------------+---------------------------------+--------------------------------+---------------------------------+------------------------------------+-------------------------------------+----------------------------------+--------------------------------------------+--------------------------------------------+--------------------------------------------+--------------------------------------------+--------------------------------------------+-----------------------------------+-----------------------------------+------------------------------------+----------------------------------+------------------------------------+------------------------------------------------------+------------------------------------------------------+-----------------------------+------------------------------+---------------------------------+--------------------------------+---------------------------------+------------------------------------+-------------------------------------+----------------------------------+--------------------------------------------+--------------------------------------------+--------------------------------------------+--------------------------------------------+--------------------------------------------+-----------------------------------+-----------------------------------+------------------------------------+----------------------------------+------------------------------------+------------------------------------------------------+------------------------------------------------------+-----------------------------+------------------------------+---------------------------------+--------------------------------+---------------------------------+------------------------------------+-------------------------------------+----------------------------------+--------------------------------------------+--------------------------------------------+--------------------------------------------+--------------------------------------------+--------------------------------------------+-----------------------------------+-----------------------------------+------------------------------------+----------------------------------+------------------------------------+------------------------------------------------------+------------------------------------------------------+-----------------------------+------------------------------+---------------------------------+--------------------------------+---------------------------------+------------------------------------+-------------------------------------+----------------------------------+--------------------------------------------+--------------------------------------------+--------------------------------------------+--------------------------------------------+--------------------------------------------+-----------------------------------+-----------------------------------+------------------------------------+----------------------------------+------------------------------------+------------------------------------------------------+------------------------------------------------------+-----------------------------+------------------------------+---------------------------------+--------------------------------+---------------------------------+------------------------------------+-------------------------------------+----------------------------------+--------------------------------------------+--------------------------------------------+--------------------------------------------+--------------------------------------------+--------------------------------------------+---------------------------------------------------------+-----------------------------------------------------------+-------------------------------------------------------------+--------------------------------------------------------------+----------------------------------------------------------------+-------------------------+---------------------------------+---------------------------------------------------------+--------------------------------------+--------------------------------------------------------+-----------------------------------+---------------------------------+---------------------------------------------------------+--------------------------------------+--------------------------------------------------------+-----------------------------------+---------------------------------+---------------------------------------------------------+--------------------------------------+--------------------------------------------------------+-----------------------------------+---------------------------------+---------------------------------------------------------+--------------------------------------+--------------------------------------------------------+-----------------------------------+---------------------------------+---------------------------------------------------------+--------------------------------------+--------------------------------------------------------+-----------------------------------+---------------------------------+---------------+------------------------------------+---------------------+---------------------+---------------------+---------------------+---------------------+---------------------+------------------------------+------------------------------+--------------------+------------------------------+---------+------------+------------------------+-----------------------------+-------------------------+-------------------+\n",
      "|Change_Type|Covered_Recipient_Type|Noncovered_Recipient_Entity_Name|Teaching_Hospital_CCN|Teaching_Hospital_ID|Teaching_Hospital_Name|Physician_Profile_ID|Physician_First_Name|Physician_Middle_Name|Physician_Last_Name|Physician_Name_Suffix|Recipient_Primary_Business_Street_Address_Line1|Recipient_Primary_Business_Street_Address_Line2|Recipient_City|Recipient_State|Recipient_Zip_Code|Recipient_Country|Recipient_Province|Recipient_Postal_Code|Physician_Primary_Type|Physician_Specialty|Physician_License_State_code1|Physician_License_State_code2|Physician_License_State_code3|Physician_License_State_code4|Physician_License_State_code5|Principal_Investigator_1_Profile_ID|Principal_Investigator_1_First_Name|Principal_Investigator_1_Middle_Name|Principal_Investigator_1_Last_Name|Principal_Investigator_1_Name_Suffix|Principal_Investigator_1_Business_Street_Address_Line1|Principal_Investigator_1_Business_Street_Address_Line2|Principal_Investigator_1_City|Principal_Investigator_1_State|Principal_Investigator_1_Zip_Code|Principal_Investigator_1_Country|Principal_Investigator_1_Province|Principal_Investigator_1_Postal_Code|Principal_Investigator_1_Primary_Type|Principal_Investigator_1_Specialty|Principal_Investigator_1_License_State_code1|Principal_Investigator_1_License_State_code2|Principal_Investigator_1_License_State_code3|Principal_Investigator_1_License_State_code4|Principal_Investigator_1_License_State_code5|Principal_Investigator_2_Profile_ID|Principal_Investigator_2_First_Name|Principal_Investigator_2_Middle_Name|Principal_Investigator_2_Last_Name|Principal_Investigator_2_Name_Suffix|Principal_Investigator_2_Business_Street_Address_Line1|Principal_Investigator_2_Business_Street_Address_Line2|Principal_Investigator_2_City|Principal_Investigator_2_State|Principal_Investigator_2_Zip_Code|Principal_Investigator_2_Country|Principal_Investigator_2_Province|Principal_Investigator_2_Postal_Code|Principal_Investigator_2_Primary_Type|Principal_Investigator_2_Specialty|Principal_Investigator_2_License_State_code1|Principal_Investigator_2_License_State_code2|Principal_Investigator_2_License_State_code3|Principal_Investigator_2_License_State_code4|Principal_Investigator_2_License_State_code5|Principal_Investigator_3_Profile_ID|Principal_Investigator_3_First_Name|Principal_Investigator_3_Middle_Name|Principal_Investigator_3_Last_Name|Principal_Investigator_3_Name_Suffix|Principal_Investigator_3_Business_Street_Address_Line1|Principal_Investigator_3_Business_Street_Address_Line2|Principal_Investigator_3_City|Principal_Investigator_3_State|Principal_Investigator_3_Zip_Code|Principal_Investigator_3_Country|Principal_Investigator_3_Province|Principal_Investigator_3_Postal_Code|Principal_Investigator_3_Primary_Type|Principal_Investigator_3_Specialty|Principal_Investigator_3_License_State_code1|Principal_Investigator_3_License_State_code2|Principal_Investigator_3_License_State_code3|Principal_Investigator_3_License_State_code4|Principal_Investigator_3_License_State_code5|Principal_Investigator_4_Profile_ID|Principal_Investigator_4_First_Name|Principal_Investigator_4_Middle_Name|Principal_Investigator_4_Last_Name|Principal_Investigator_4_Name_Suffix|Principal_Investigator_4_Business_Street_Address_Line1|Principal_Investigator_4_Business_Street_Address_Line2|Principal_Investigator_4_City|Principal_Investigator_4_State|Principal_Investigator_4_Zip_Code|Principal_Investigator_4_Country|Principal_Investigator_4_Province|Principal_Investigator_4_Postal_Code|Principal_Investigator_4_Primary_Type|Principal_Investigator_4_Specialty|Principal_Investigator_4_License_State_code1|Principal_Investigator_4_License_State_code2|Principal_Investigator_4_License_State_code3|Principal_Investigator_4_License_State_code4|Principal_Investigator_4_License_State_code5|Principal_Investigator_5_Profile_ID|Principal_Investigator_5_First_Name|Principal_Investigator_5_Middle_Name|Principal_Investigator_5_Last_Name|Principal_Investigator_5_Name_Suffix|Principal_Investigator_5_Business_Street_Address_Line1|Principal_Investigator_5_Business_Street_Address_Line2|Principal_Investigator_5_City|Principal_Investigator_5_State|Principal_Investigator_5_Zip_Code|Principal_Investigator_5_Country|Principal_Investigator_5_Province|Principal_Investigator_5_Postal_Code|Principal_Investigator_5_Primary_Type|Principal_Investigator_5_Specialty|Principal_Investigator_5_License_State_code1|Principal_Investigator_5_License_State_code2|Principal_Investigator_5_License_State_code3|Principal_Investigator_5_License_State_code4|Principal_Investigator_5_License_State_code5|Submitting_Applicable_Manufacturer_or_Applicable_GPO_Name|Applicable_Manufacturer_or_Applicable_GPO_Making_Payment_ID|Applicable_Manufacturer_or_Applicable_GPO_Making_Payment_Name|Applicable_Manufacturer_or_Applicable_GPO_Making_Payment_State|Applicable_Manufacturer_or_Applicable_GPO_Making_Payment_Country|Related_Product_Indicator|Covered_or_Noncovered_Indicator_1|Indicate_Drug_or_Biological_or_Device_or_Medical_Supply_1|Product_Category_or_Therapeutic_Area_1|Name_of_Drug_or_Biological_or_Device_or_Medical_Supply_1|Associated_Drug_or_Biological_NDC_1|Covered_or_Noncovered_Indicator_2|Indicate_Drug_or_Biological_or_Device_or_Medical_Supply_2|Product_Category_or_Therapeutic_Area_2|Name_of_Drug_or_Biological_or_Device_or_Medical_Supply_2|Associated_Drug_or_Biological_NDC_2|Covered_or_Noncovered_Indicator_3|Indicate_Drug_or_Biological_or_Device_or_Medical_Supply_3|Product_Category_or_Therapeutic_Area_3|Name_of_Drug_or_Biological_or_Device_or_Medical_Supply_3|Associated_Drug_or_Biological_NDC_3|Covered_or_Noncovered_Indicator_4|Indicate_Drug_or_Biological_or_Device_or_Medical_Supply_4|Product_Category_or_Therapeutic_Area_4|Name_of_Drug_or_Biological_or_Device_or_Medical_Supply_4|Associated_Drug_or_Biological_NDC_4|Covered_or_Noncovered_Indicator_5|Indicate_Drug_or_Biological_or_Device_or_Medical_Supply_5|Product_Category_or_Therapeutic_Area_5|Name_of_Drug_or_Biological_or_Device_or_Medical_Supply_5|Associated_Drug_or_Biological_NDC_5|Total_Amount_of_Payment_USDollars|Date_of_Payment|Form_of_Payment_or_Transfer_of_Value|Expenditure_Category1|Expenditure_Category2|Expenditure_Category3|Expenditure_Category4|Expenditure_Category5|Expenditure_Category6|Preclinical_Research_Indicator|Delay_in_Publication_Indicator|       Name_of_Study|Dispute_Status_for_Publication|Record_ID|Program_Year|Payment_Publication_Date|ClinicalTrials_Gov_Identifier|Research_Information_Link|Context_of_Research|\n",
      "+-----------+----------------------+--------------------------------+---------------------+--------------------+----------------------+--------------------+--------------------+---------------------+-------------------+---------------------+-----------------------------------------------+-----------------------------------------------+--------------+---------------+------------------+-----------------+------------------+---------------------+----------------------+-------------------+-----------------------------+-----------------------------+-----------------------------+-----------------------------+-----------------------------+-----------------------------------+-----------------------------------+------------------------------------+----------------------------------+------------------------------------+------------------------------------------------------+------------------------------------------------------+-----------------------------+------------------------------+---------------------------------+--------------------------------+---------------------------------+------------------------------------+-------------------------------------+----------------------------------+--------------------------------------------+--------------------------------------------+--------------------------------------------+--------------------------------------------+--------------------------------------------+-----------------------------------+-----------------------------------+------------------------------------+----------------------------------+------------------------------------+------------------------------------------------------+------------------------------------------------------+-----------------------------+------------------------------+---------------------------------+--------------------------------+---------------------------------+------------------------------------+-------------------------------------+----------------------------------+--------------------------------------------+--------------------------------------------+--------------------------------------------+--------------------------------------------+--------------------------------------------+-----------------------------------+-----------------------------------+------------------------------------+----------------------------------+------------------------------------+------------------------------------------------------+------------------------------------------------------+-----------------------------+------------------------------+---------------------------------+--------------------------------+---------------------------------+------------------------------------+-------------------------------------+----------------------------------+--------------------------------------------+--------------------------------------------+--------------------------------------------+--------------------------------------------+--------------------------------------------+-----------------------------------+-----------------------------------+------------------------------------+----------------------------------+------------------------------------+------------------------------------------------------+------------------------------------------------------+-----------------------------+------------------------------+---------------------------------+--------------------------------+---------------------------------+------------------------------------+-------------------------------------+----------------------------------+--------------------------------------------+--------------------------------------------+--------------------------------------------+--------------------------------------------+--------------------------------------------+-----------------------------------+-----------------------------------+------------------------------------+----------------------------------+------------------------------------+------------------------------------------------------+------------------------------------------------------+-----------------------------+------------------------------+---------------------------------+--------------------------------+---------------------------------+------------------------------------+-------------------------------------+----------------------------------+--------------------------------------------+--------------------------------------------+--------------------------------------------+--------------------------------------------+--------------------------------------------+---------------------------------------------------------+-----------------------------------------------------------+-------------------------------------------------------------+--------------------------------------------------------------+----------------------------------------------------------------+-------------------------+---------------------------------+---------------------------------------------------------+--------------------------------------+--------------------------------------------------------+-----------------------------------+---------------------------------+---------------------------------------------------------+--------------------------------------+--------------------------------------------------------+-----------------------------------+---------------------------------+---------------------------------------------------------+--------------------------------------+--------------------------------------------------------+-----------------------------------+---------------------------------+---------------------------------------------------------+--------------------------------------+--------------------------------------------------------+-----------------------------------+---------------------------------+---------------------------------------------------------+--------------------------------------+--------------------------------------------------------+-----------------------------------+---------------------------------+---------------+------------------------------------+---------------------+---------------------+---------------------+---------------------+---------------------+---------------------+------------------------------+------------------------------+--------------------+------------------------------+---------+------------+------------------------+-----------------------------+-------------------------+-------------------+\n",
      "|Change_Type|  Covered_Recipient...|            Noncovered_Recipi...| Teaching_Hospital...|Teaching_Hospital_ID|  Teaching_Hospital...|Physician_Profile_ID|Physician_First_Name| Physician_Middle_...|Physician_Last_Name| Physician_Name_Su...|                           Recipient_Primary...|                           Recipient_Primary...|Recipient_City|Recipient_State|Recipient_Zip_Code|Recipient_Country|Recipient_Province| Recipient_Postal_...|  Physician_Primary...|Physician_Specialty|         Physician_License...|         Physician_License...|         Physician_License...|         Physician_License...|         Physician_License...|               Principal_Investi...|               Principal_Investi...|                Principal_Investi...|              Principal_Investi...|                Principal_Investi...|                                  Principal_Investi...|                                  Principal_Investi...|         Principal_Investi...|          Principal_Investi...|             Principal_Investi...|            Principal_Investi...|             Principal_Investi...|                Principal_Investi...|                 Principal_Investi...|              Principal_Investi...|                        Principal_Investi...|                        Principal_Investi...|                        Principal_Investi...|                        Principal_Investi...|                        Principal_Investi...|               Principal_Investi...|               Principal_Investi...|                Principal_Investi...|              Principal_Investi...|                Principal_Investi...|                                  Principal_Investi...|                                  Principal_Investi...|         Principal_Investi...|          Principal_Investi...|             Principal_Investi...|            Principal_Investi...|             Principal_Investi...|                Principal_Investi...|                 Principal_Investi...|              Principal_Investi...|                        Principal_Investi...|                        Principal_Investi...|                        Principal_Investi...|                        Principal_Investi...|                        Principal_Investi...|               Principal_Investi...|               Principal_Investi...|                Principal_Investi...|              Principal_Investi...|                Principal_Investi...|                                  Principal_Investi...|                                  Principal_Investi...|         Principal_Investi...|          Principal_Investi...|             Principal_Investi...|            Principal_Investi...|             Principal_Investi...|                Principal_Investi...|                 Principal_Investi...|              Principal_Investi...|                        Principal_Investi...|                        Principal_Investi...|                        Principal_Investi...|                        Principal_Investi...|                        Principal_Investi...|               Principal_Investi...|               Principal_Investi...|                Principal_Investi...|              Principal_Investi...|                Principal_Investi...|                                  Principal_Investi...|                                  Principal_Investi...|         Principal_Investi...|          Principal_Investi...|             Principal_Investi...|            Principal_Investi...|             Principal_Investi...|                Principal_Investi...|                 Principal_Investi...|              Principal_Investi...|                        Principal_Investi...|                        Principal_Investi...|                        Principal_Investi...|                        Principal_Investi...|                        Principal_Investi...|               Principal_Investi...|               Principal_Investi...|                Principal_Investi...|              Principal_Investi...|                Principal_Investi...|                                  Principal_Investi...|                                  Principal_Investi...|         Principal_Investi...|          Principal_Investi...|             Principal_Investi...|            Principal_Investi...|             Principal_Investi...|                Principal_Investi...|                 Principal_Investi...|              Principal_Investi...|                        Principal_Investi...|                        Principal_Investi...|                        Principal_Investi...|                        Principal_Investi...|                        Principal_Investi...|                                     Submitting_Applic...|                                       Applicable_Manufa...|                                         Applicable_Manufa...|                                          Applicable_Manufa...|                                            Applicable_Manufa...|     Related_Product_I...|             Covered_or_Noncov...|                                     Indicate_Drug_or_...|                  Product_Category_...|                                    Name_of_Drug_or_B...|               Associated_Drug_o...|             Covered_or_Noncov...|                                     Indicate_Drug_or_...|                  Product_Category_...|                                    Name_of_Drug_or_B...|               Associated_Drug_o...|             Covered_or_Noncov...|                                     Indicate_Drug_or_...|                  Product_Category_...|                                    Name_of_Drug_or_B...|               Associated_Drug_o...|             Covered_or_Noncov...|                                     Indicate_Drug_or_...|                  Product_Category_...|                                    Name_of_Drug_or_B...|               Associated_Drug_o...|             Covered_or_Noncov...|                                     Indicate_Drug_or_...|                  Product_Category_...|                                    Name_of_Drug_or_B...|               Associated_Drug_o...|             Total_Amount_of_P...|Date_of_Payment|                Form_of_Payment_o...| Expenditure_Categ...| Expenditure_Categ...| Expenditure_Categ...| Expenditure_Categ...| Expenditure_Categ...| Expenditure_Categ...|          Preclinical_Resea...|          Delay_in_Publicat...|       Name_of_Study|          Dispute_Status_fo...|Record_ID|Program_Year|    Payment_Publicati...|         ClinicalTrials_Go...|     Research_Informat...|Context_of_Research|\n",
      "|  UNCHANGED|  Covered Recipient...|                                |               050660|                4736|  USC NORRIS CANCER...|                    |                    |                     |                   |                     |                              1441 Eastlake Ave|                                               |   Los Angeles|             CA|             90033|    United States|                  |                     |                      |                   |                             |                             |                             |                             |                             |                             240407|                               Eric|                                    |                             Chang|                                    |                                  1441 Eastlake Ave...|                                                      |                  Los Angeles|                            CA|                            90089|                   United States|                                 |                                    |                       Medical Doctor|              Allopathic & Oste...|                                          CA|                                            |                                            |                                            |                                            |                                   |                                   |                                    |                                  |                                    |                                                      |                                                      |                             |                              |                                 |                                |                                 |                                    |                                     |                                  |                                            |                                            |                                            |                                            |                                            |                                   |                                   |                                    |                                  |                                    |                                                      |                                                      |                             |                              |                                 |                                |                                 |                                    |                                     |                                  |                                            |                                            |                                            |                                            |                                            |                                   |                                   |                                    |                                  |                                    |                                                      |                                                      |                             |                              |                                 |                                |                                 |                                    |                                     |                                  |                                            |                                            |                                            |                                            |                                            |                                   |                                   |                                    |                                  |                                    |                                                      |                                                      |                             |                              |                                 |                                |                                 |                                    |                                     |                                  |                                            |                                            |                                            |                                            |                                            |                                               DFINE, Inc|                                               100000000326|                                                   DFINE, Inc|                                                            CA|                                                   United States|                      Yes|                          Covered|                                                   Device|                             Radiology|                                    STAR Tumor Ablati...|                                   |                                 |                                                         |                                      |                                                        |                                   |                                 |                                                         |                                      |                                                        |                                   |                                 |                                                         |                                      |                                                        |                                   |                                 |                                                         |                                      |                                                        |                                   |                          1839.71|     09/07/2016|                Cash or cash equi...|         Patient Care|                     |                     |                     |                     |                     |                            No|                            No|Evaluation of t-R...|                            No|346058876|        2016|              06/29/2018|                  NCT02225223|                         |                   |\n",
      "|  UNCHANGED|  Covered Recipient...|                                |               050660|                4736|  USC NORRIS CANCER...|                    |                    |                     |                   |                     |                              1441 Eastlake Ave|                                               |   Los Angeles|             CA|             90033|    United States|                  |                     |                      |                   |                             |                             |                             |                             |                             |                             240407|                               Eric|                                    |                             Chang|                                    |                                  1441 Eastlake Ave...|                                                      |                  Los Angeles|                            CA|                            90089|                   United States|                                 |                                    |                       Medical Doctor|              Allopathic & Oste...|                                          CA|                                            |                                            |                                            |                                            |                                   |                                   |                                    |                                  |                                    |                                                      |                                                      |                             |                              |                                 |                                |                                 |                                    |                                     |                                  |                                            |                                            |                                            |                                            |                                            |                                   |                                   |                                    |                                  |                                    |                                                      |                                                      |                             |                              |                                 |                                |                                 |                                    |                                     |                                  |                                            |                                            |                                            |                                            |                                            |                                   |                                   |                                    |                                  |                                    |                                                      |                                                      |                             |                              |                                 |                                |                                 |                                    |                                     |                                  |                                            |                                            |                                            |                                            |                                            |                                   |                                   |                                    |                                  |                                    |                                                      |                                                      |                             |                              |                                 |                                |                                 |                                    |                                     |                                  |                                            |                                            |                                            |                                            |                                            |                                               DFINE, Inc|                                               100000000326|                                                   DFINE, Inc|                                                            CA|                                                   United States|                      Yes|                          Covered|                                                   Device|                             Radiology|                                    STAR Tumor Ablati...|                                   |                                 |                                                         |                                      |                                                        |                                   |                                 |                                                         |                                      |                                                        |                                   |                                 |                                                         |                                      |                                                        |                                   |                                 |                                                         |                                      |                                                        |                                   |                          1235.00|     09/07/2016|                Cash or cash equi...|                Other|                     |                     |                     |                     |                     |                            No|                            No|Evaluation of t-R...|                            No|346058878|        2016|              06/29/2018|                  NCT02225223|                         |                   |\n",
      "|  UNCHANGED|  Covered Recipient...|                                |               440015|                3927|  UNIVERSITY OF TN ...|                    |                    |                     |                   |                     |                             1924 Alcoa Highway|                                               |     Knoxville|             TN|             37920|    United States|                  |                     |                      |                   |                             |                             |                             |                             |                             |                              72249|                             Andrew|                                    |                           Ferrell|                                    |                                        1924 Alcoa Hwy|                                                      |                    Knoxville|                            TN|                            37920|                   United States|                                 |                                    |                       Medical Doctor|              Allopathic & Oste...|                                          TN|                                            |                                            |                                            |                                            |                                   |                                   |                                    |                                  |                                    |                                                      |                                                      |                             |                              |                                 |                                |                                 |                                    |                                     |                                  |                                            |                                            |                                            |                                            |                                            |                                   |                                   |                                    |                                  |                                    |                                                      |                                                      |                             |                              |                                 |                                |                                 |                                    |                                     |                                  |                                            |                                            |                                            |                                            |                                            |                                   |                                   |                                    |                                  |                                    |                                                      |                                                      |                             |                              |                                 |                                |                                 |                                    |                                     |                                  |                                            |                                            |                                            |                                            |                                            |                                   |                                   |                                    |                                  |                                    |                                                      |                                                      |                             |                              |                                 |                                |                                 |                                    |                                     |                                  |                                            |                                            |                                            |                                            |                                            |                                               DFINE, Inc|                                               100000000326|                                                   DFINE, Inc|                                                            CA|                                                   United States|                      Yes|                          Covered|                                                   Device|                             Radiology|                                    STAR Tumor Ablati...|                                   |                                 |                                                         |                                      |                                                        |                                   |                                 |                                                         |                                      |                                                        |                                   |                                 |                                                         |                                      |                                                        |                                   |                                 |                                                         |                                      |                                                        |                                   |                          4000.00|     01/13/2016|                Cash or cash equi...|             Overhead|                     |                     |                     |                     |                     |                            No|                            No|STAR Tumor Ablati...|                            No|346058880|        2016|              06/29/2018|                  NCT02419703|                         |                   |\n",
      "|  UNCHANGED|  Covered Recipient...|                                |               440015|                3927|  UNIVERSITY OF TN ...|                    |                    |                     |                   |                     |                             1924 Alcoa Highway|                                               |     Knoxville|             TN|             37920|    United States|                  |                     |                      |                   |                             |                             |                             |                             |                             |                              72249|                             Andrew|                                    |                           Ferrell|                                    |                                        1924 Alcoa Hwy|                                                      |                    Knoxville|                            TN|                            37920|                   United States|                                 |                                    |                       Medical Doctor|              Allopathic & Oste...|                                          TN|                                            |                                            |                                            |                                            |                                   |                                   |                                    |                                  |                                    |                                                      |                                                      |                             |                              |                                 |                                |                                 |                                    |                                     |                                  |                                            |                                            |                                            |                                            |                                            |                                   |                                   |                                    |                                  |                                    |                                                      |                                                      |                             |                              |                                 |                                |                                 |                                    |                                     |                                  |                                            |                                            |                                            |                                            |                                            |                                   |                                   |                                    |                                  |                                    |                                                      |                                                      |                             |                              |                                 |                                |                                 |                                    |                                     |                                  |                                            |                                            |                                            |                                            |                                            |                                   |                                   |                                    |                                  |                                    |                                                      |                                                      |                             |                              |                                 |                                |                                 |                                    |                                     |                                  |                                            |                                            |                                            |                                            |                                            |                                               DFINE, Inc|                                               100000000326|                                                   DFINE, Inc|                                                            CA|                                                   United States|                      Yes|                          Covered|                                                   Device|                             Radiology|                                    STAR Tumor Ablati...|                                   |                                 |                                                         |                                      |                                                        |                                   |                                 |                                                         |                                      |                                                        |                                   |                                 |                                                         |                                      |                                                        |                                   |                                 |                                                         |                                      |                                                        |                                   |                           448.00|     04/27/2016|                Cash or cash equi...|         Patient Care|                     |                     |                     |                     |                     |                            No|                            No|STAR Tumor Ablati...|                            No|346058882|        2016|              06/29/2018|                  NCT02419703|                         |                   |\n",
      "+-----------+----------------------+--------------------------------+---------------------+--------------------+----------------------+--------------------+--------------------+---------------------+-------------------+---------------------+-----------------------------------------------+-----------------------------------------------+--------------+---------------+------------------+-----------------+------------------+---------------------+----------------------+-------------------+-----------------------------+-----------------------------+-----------------------------+-----------------------------+-----------------------------+-----------------------------------+-----------------------------------+------------------------------------+----------------------------------+------------------------------------+------------------------------------------------------+------------------------------------------------------+-----------------------------+------------------------------+---------------------------------+--------------------------------+---------------------------------+------------------------------------+-------------------------------------+----------------------------------+--------------------------------------------+--------------------------------------------+--------------------------------------------+--------------------------------------------+--------------------------------------------+-----------------------------------+-----------------------------------+------------------------------------+----------------------------------+------------------------------------+------------------------------------------------------+------------------------------------------------------+-----------------------------+------------------------------+---------------------------------+--------------------------------+---------------------------------+------------------------------------+-------------------------------------+----------------------------------+--------------------------------------------+--------------------------------------------+--------------------------------------------+--------------------------------------------+--------------------------------------------+-----------------------------------+-----------------------------------+------------------------------------+----------------------------------+------------------------------------+------------------------------------------------------+------------------------------------------------------+-----------------------------+------------------------------+---------------------------------+--------------------------------+---------------------------------+------------------------------------+-------------------------------------+----------------------------------+--------------------------------------------+--------------------------------------------+--------------------------------------------+--------------------------------------------+--------------------------------------------+-----------------------------------+-----------------------------------+------------------------------------+----------------------------------+------------------------------------+------------------------------------------------------+------------------------------------------------------+-----------------------------+------------------------------+---------------------------------+--------------------------------+---------------------------------+------------------------------------+-------------------------------------+----------------------------------+--------------------------------------------+--------------------------------------------+--------------------------------------------+--------------------------------------------+--------------------------------------------+-----------------------------------+-----------------------------------+------------------------------------+----------------------------------+------------------------------------+------------------------------------------------------+------------------------------------------------------+-----------------------------+------------------------------+---------------------------------+--------------------------------+---------------------------------+------------------------------------+-------------------------------------+----------------------------------+--------------------------------------------+--------------------------------------------+--------------------------------------------+--------------------------------------------+--------------------------------------------+---------------------------------------------------------+-----------------------------------------------------------+-------------------------------------------------------------+--------------------------------------------------------------+----------------------------------------------------------------+-------------------------+---------------------------------+---------------------------------------------------------+--------------------------------------+--------------------------------------------------------+-----------------------------------+---------------------------------+---------------------------------------------------------+--------------------------------------+--------------------------------------------------------+-----------------------------------+---------------------------------+---------------------------------------------------------+--------------------------------------+--------------------------------------------------------+-----------------------------------+---------------------------------+---------------------------------------------------------+--------------------------------------+--------------------------------------------------------+-----------------------------------+---------------------------------+---------------------------------------------------------+--------------------------------------+--------------------------------------------------------+-----------------------------------+---------------------------------+---------------+------------------------------------+---------------------+---------------------+---------------------+---------------------+---------------------+---------------------+------------------------------+------------------------------+--------------------+------------------------------+---------+------------+------------------------+-----------------------------+-------------------------+-------------------+\n",
      "only showing top 5 rows"
     ]
    }
   ],
   "source": [
    "# loading into a PySpark DataFrame (inferring from the schema to get it working quickly)\n",
    "\n",
    "research_2016_2017_df = research_data_2016_2017.map(split_comma).toDF(columns_2[0])\n",
    "research_2016_2017_df.show(5)"
   ]
  },
  {
   "cell_type": "code",
   "execution_count": 10,
   "metadata": {},
   "outputs": [
    {
     "name": "stdout",
     "output_type": "stream",
     "text": [
      "1343102"
     ]
    }
   ],
   "source": [
    "# checking the row count\n",
    "\n",
    "research_2016_2017_df.count()"
   ]
  },
  {
   "cell_type": "code",
   "execution_count": 65,
   "metadata": {},
   "outputs": [],
   "source": [
    "# removing the column headers for 2016-2017\n",
    "\n",
    "research_2016_2017_df = research_2016_2017_df.filter('Change_Type != \"Change_Type\"')"
   ]
  },
  {
   "cell_type": "code",
   "execution_count": 17,
   "metadata": {},
   "outputs": [
    {
     "name": "stdout",
     "output_type": "stream",
     "text": [
      "1343100"
     ]
    }
   ],
   "source": [
    "# double checking the row count\n",
    "\n",
    "research_2016_2017_df.count()"
   ]
  },
  {
   "cell_type": "code",
   "execution_count": 19,
   "metadata": {},
   "outputs": [
    {
     "name": "stdout",
     "output_type": "stream",
     "text": [
      "[Row(Change_Type=u'UNCHANGED', Covered_Recipient_Type=u'Covered Recipient Teaching Hospital', Noncovered_Recipient_Entity_Name=u'', Teaching_Hospital_CCN=u'050660', Teaching_Hospital_ID=u'4736', Teaching_Hospital_Name=u'USC NORRIS CANCER HOSPITAL', Physician_Profile_ID=u'', Physician_First_Name=u'', Physician_Middle_Name=u'', Physician_Last_Name=u'', Physician_Name_Suffix=u'', Recipient_Primary_Business_Street_Address_Line1=u'1441 Eastlake Ave', Recipient_Primary_Business_Street_Address_Line2=u'', Recipient_City=u'Los Angeles', Recipient_State=u'CA', Recipient_Zip_Code=u'90033', Recipient_Country=u'United States', Recipient_Province=u'', Recipient_Postal_Code=u'', Physician_Primary_Type=u'', Physician_Specialty=u'', Physician_License_State_code1=u'', Physician_License_State_code2=u'', Physician_License_State_code3=u'', Physician_License_State_code4=u'', Physician_License_State_code5=u'', Principal_Investigator_1_Profile_ID=u'240407', Principal_Investigator_1_First_Name=u'Eric', Principal_Investigator_1_Middle_Name=u'', Principal_Investigator_1_Last_Name=u'Chang', Principal_Investigator_1_Name_Suffix=u'', Principal_Investigator_1_Business_Street_Address_Line1=u'1441 Eastlake Ave Nor G-356', Principal_Investigator_1_Business_Street_Address_Line2=u'', Principal_Investigator_1_City=u'Los Angeles', Principal_Investigator_1_State=u'CA', Principal_Investigator_1_Zip_Code=u'90089', Principal_Investigator_1_Country=u'United States', Principal_Investigator_1_Province=u'', Principal_Investigator_1_Postal_Code=u'', Principal_Investigator_1_Primary_Type=u'Medical Doctor', Principal_Investigator_1_Specialty=u'Allopathic & Osteopathic Physicians|Radiology|Radiation Oncology', Principal_Investigator_1_License_State_code1=u'CA', Principal_Investigator_1_License_State_code2=u'', Principal_Investigator_1_License_State_code3=u'', Principal_Investigator_1_License_State_code4=u'', Principal_Investigator_1_License_State_code5=u'', Principal_Investigator_2_Profile_ID=u'', Principal_Investigator_2_First_Name=u'', Principal_Investigator_2_Middle_Name=u'', Principal_Investigator_2_Last_Name=u'', Principal_Investigator_2_Name_Suffix=u'', Principal_Investigator_2_Business_Street_Address_Line1=u'', Principal_Investigator_2_Business_Street_Address_Line2=u'', Principal_Investigator_2_City=u'', Principal_Investigator_2_State=u'', Principal_Investigator_2_Zip_Code=u'', Principal_Investigator_2_Country=u'', Principal_Investigator_2_Province=u'', Principal_Investigator_2_Postal_Code=u'', Principal_Investigator_2_Primary_Type=u'', Principal_Investigator_2_Specialty=u'', Principal_Investigator_2_License_State_code1=u'', Principal_Investigator_2_License_State_code2=u'', Principal_Investigator_2_License_State_code3=u'', Principal_Investigator_2_License_State_code4=u'', Principal_Investigator_2_License_State_code5=u'', Principal_Investigator_3_Profile_ID=u'', Principal_Investigator_3_First_Name=u'', Principal_Investigator_3_Middle_Name=u'', Principal_Investigator_3_Last_Name=u'', Principal_Investigator_3_Name_Suffix=u'', Principal_Investigator_3_Business_Street_Address_Line1=u'', Principal_Investigator_3_Business_Street_Address_Line2=u'', Principal_Investigator_3_City=u'', Principal_Investigator_3_State=u'', Principal_Investigator_3_Zip_Code=u'', Principal_Investigator_3_Country=u'', Principal_Investigator_3_Province=u'', Principal_Investigator_3_Postal_Code=u'', Principal_Investigator_3_Primary_Type=u'', Principal_Investigator_3_Specialty=u'', Principal_Investigator_3_License_State_code1=u'', Principal_Investigator_3_License_State_code2=u'', Principal_Investigator_3_License_State_code3=u'', Principal_Investigator_3_License_State_code4=u'', Principal_Investigator_3_License_State_code5=u'', Principal_Investigator_4_Profile_ID=u'', Principal_Investigator_4_First_Name=u'', Principal_Investigator_4_Middle_Name=u'', Principal_Investigator_4_Last_Name=u'', Principal_Investigator_4_Name_Suffix=u'', Principal_Investigator_4_Business_Street_Address_Line1=u'', Principal_Investigator_4_Business_Street_Address_Line2=u'', Principal_Investigator_4_City=u'', Principal_Investigator_4_State=u'', Principal_Investigator_4_Zip_Code=u'', Principal_Investigator_4_Country=u'', Principal_Investigator_4_Province=u'', Principal_Investigator_4_Postal_Code=u'', Principal_Investigator_4_Primary_Type=u'', Principal_Investigator_4_Specialty=u'', Principal_Investigator_4_License_State_code1=u'', Principal_Investigator_4_License_State_code2=u'', Principal_Investigator_4_License_State_code3=u'', Principal_Investigator_4_License_State_code4=u'', Principal_Investigator_4_License_State_code5=u'', Principal_Investigator_5_Profile_ID=u'', Principal_Investigator_5_First_Name=u'', Principal_Investigator_5_Middle_Name=u'', Principal_Investigator_5_Last_Name=u'', Principal_Investigator_5_Name_Suffix=u'', Principal_Investigator_5_Business_Street_Address_Line1=u'', Principal_Investigator_5_Business_Street_Address_Line2=u'', Principal_Investigator_5_City=u'', Principal_Investigator_5_State=u'', Principal_Investigator_5_Zip_Code=u'', Principal_Investigator_5_Country=u'', Principal_Investigator_5_Province=u'', Principal_Investigator_5_Postal_Code=u'', Principal_Investigator_5_Primary_Type=u'', Principal_Investigator_5_Specialty=u'', Principal_Investigator_5_License_State_code1=u'', Principal_Investigator_5_License_State_code2=u'', Principal_Investigator_5_License_State_code3=u'', Principal_Investigator_5_License_State_code4=u'', Principal_Investigator_5_License_State_code5=u'', Submitting_Applicable_Manufacturer_or_Applicable_GPO_Name=u'DFINE, Inc', Applicable_Manufacturer_or_Applicable_GPO_Making_Payment_ID=u'100000000326', Applicable_Manufacturer_or_Applicable_GPO_Making_Payment_Name=u'DFINE, Inc', Applicable_Manufacturer_or_Applicable_GPO_Making_Payment_State=u'CA', Applicable_Manufacturer_or_Applicable_GPO_Making_Payment_Country=u'United States', Related_Product_Indicator=u'Yes', Covered_or_Noncovered_Indicator_1=u'Covered', Indicate_Drug_or_Biological_or_Device_or_Medical_Supply_1=u'Device', Product_Category_or_Therapeutic_Area_1=u'Radiology', Name_of_Drug_or_Biological_or_Device_or_Medical_Supply_1=u'STAR Tumor Ablation System', Associated_Drug_or_Biological_NDC_1=u'', Covered_or_Noncovered_Indicator_2=u'', Indicate_Drug_or_Biological_or_Device_or_Medical_Supply_2=u'', Product_Category_or_Therapeutic_Area_2=u'', Name_of_Drug_or_Biological_or_Device_or_Medical_Supply_2=u'', Associated_Drug_or_Biological_NDC_2=u'', Covered_or_Noncovered_Indicator_3=u'', Indicate_Drug_or_Biological_or_Device_or_Medical_Supply_3=u'', Product_Category_or_Therapeutic_Area_3=u'', Name_of_Drug_or_Biological_or_Device_or_Medical_Supply_3=u'', Associated_Drug_or_Biological_NDC_3=u'', Covered_or_Noncovered_Indicator_4=u'', Indicate_Drug_or_Biological_or_Device_or_Medical_Supply_4=u'', Product_Category_or_Therapeutic_Area_4=u'', Name_of_Drug_or_Biological_or_Device_or_Medical_Supply_4=u'', Associated_Drug_or_Biological_NDC_4=u'', Covered_or_Noncovered_Indicator_5=u'', Indicate_Drug_or_Biological_or_Device_or_Medical_Supply_5=u'', Product_Category_or_Therapeutic_Area_5=u'', Name_of_Drug_or_Biological_or_Device_or_Medical_Supply_5=u'', Associated_Drug_or_Biological_NDC_5=u'', Total_Amount_of_Payment_USDollars=u'1839.71', Date_of_Payment=u'09/07/2016', Form_of_Payment_or_Transfer_of_Value=u'Cash or cash equivalent', Expenditure_Category1=u'Patient Care', Expenditure_Category2=u'', Expenditure_Category3=u'', Expenditure_Category4=u'', Expenditure_Category5=u'', Expenditure_Category6=u'', Preclinical_Research_Indicator=u'No', Delay_in_Publication_Indicator=u'No', Name_of_Study=u'Evaluation of t-RFA & RF-TVA Prior to/Following RT to Treat Painful Metastatic Vertebral Body Tumors (STARRT) DF-14-01', Dispute_Status_for_Publication=u'No', Record_ID=u'346058876', Program_Year=u'2016', Payment_Publication_Date=u'06/29/2018', ClinicalTrials_Gov_Identifier=u'NCT02225223', Research_Information_Link=u'', Context_of_Research=u''), Row(Change_Type=u'UNCHANGED', Covered_Recipient_Type=u'Covered Recipient Teaching Hospital', Noncovered_Recipient_Entity_Name=u'', Teaching_Hospital_CCN=u'050660', Teaching_Hospital_ID=u'4736', Teaching_Hospital_Name=u'USC NORRIS CANCER HOSPITAL', Physician_Profile_ID=u'', Physician_First_Name=u'', Physician_Middle_Name=u'', Physician_Last_Name=u'', Physician_Name_Suffix=u'', Recipient_Primary_Business_Street_Address_Line1=u'1441 Eastlake Ave', Recipient_Primary_Business_Street_Address_Line2=u'', Recipient_City=u'Los Angeles', Recipient_State=u'CA', Recipient_Zip_Code=u'90033', Recipient_Country=u'United States', Recipient_Province=u'', Recipient_Postal_Code=u'', Physician_Primary_Type=u'', Physician_Specialty=u'', Physician_License_State_code1=u'', Physician_License_State_code2=u'', Physician_License_State_code3=u'', Physician_License_State_code4=u'', Physician_License_State_code5=u'', Principal_Investigator_1_Profile_ID=u'240407', Principal_Investigator_1_First_Name=u'Eric', Principal_Investigator_1_Middle_Name=u'', Principal_Investigator_1_Last_Name=u'Chang', Principal_Investigator_1_Name_Suffix=u'', Principal_Investigator_1_Business_Street_Address_Line1=u'1441 Eastlake Ave Nor G-356', Principal_Investigator_1_Business_Street_Address_Line2=u'', Principal_Investigator_1_City=u'Los Angeles', Principal_Investigator_1_State=u'CA', Principal_Investigator_1_Zip_Code=u'90089', Principal_Investigator_1_Country=u'United States', Principal_Investigator_1_Province=u'', Principal_Investigator_1_Postal_Code=u'', Principal_Investigator_1_Primary_Type=u'Medical Doctor', Principal_Investigator_1_Specialty=u'Allopathic & Osteopathic Physicians|Radiology|Radiation Oncology', Principal_Investigator_1_License_State_code1=u'CA', Principal_Investigator_1_License_State_code2=u'', Principal_Investigator_1_License_State_code3=u'', Principal_Investigator_1_License_State_code4=u'', Principal_Investigator_1_License_State_code5=u'', Principal_Investigator_2_Profile_ID=u'', Principal_Investigator_2_First_Name=u'', Principal_Investigator_2_Middle_Name=u'', Principal_Investigator_2_Last_Name=u'', Principal_Investigator_2_Name_Suffix=u'', Principal_Investigator_2_Business_Street_Address_Line1=u'', Principal_Investigator_2_Business_Street_Address_Line2=u'', Principal_Investigator_2_City=u'', Principal_Investigator_2_State=u'', Principal_Investigator_2_Zip_Code=u'', Principal_Investigator_2_Country=u'', Principal_Investigator_2_Province=u'', Principal_Investigator_2_Postal_Code=u'', Principal_Investigator_2_Primary_Type=u'', Principal_Investigator_2_Specialty=u'', Principal_Investigator_2_License_State_code1=u'', Principal_Investigator_2_License_State_code2=u'', Principal_Investigator_2_License_State_code3=u'', Principal_Investigator_2_License_State_code4=u'', Principal_Investigator_2_License_State_code5=u'', Principal_Investigator_3_Profile_ID=u'', Principal_Investigator_3_First_Name=u'', Principal_Investigator_3_Middle_Name=u'', Principal_Investigator_3_Last_Name=u'', Principal_Investigator_3_Name_Suffix=u'', Principal_Investigator_3_Business_Street_Address_Line1=u'', Principal_Investigator_3_Business_Street_Address_Line2=u'', Principal_Investigator_3_City=u'', Principal_Investigator_3_State=u'', Principal_Investigator_3_Zip_Code=u'', Principal_Investigator_3_Country=u'', Principal_Investigator_3_Province=u'', Principal_Investigator_3_Postal_Code=u'', Principal_Investigator_3_Primary_Type=u'', Principal_Investigator_3_Specialty=u'', Principal_Investigator_3_License_State_code1=u'', Principal_Investigator_3_License_State_code2=u'', Principal_Investigator_3_License_State_code3=u'', Principal_Investigator_3_License_State_code4=u'', Principal_Investigator_3_License_State_code5=u'', Principal_Investigator_4_Profile_ID=u'', Principal_Investigator_4_First_Name=u'', Principal_Investigator_4_Middle_Name=u'', Principal_Investigator_4_Last_Name=u'', Principal_Investigator_4_Name_Suffix=u'', Principal_Investigator_4_Business_Street_Address_Line1=u'', Principal_Investigator_4_Business_Street_Address_Line2=u'', Principal_Investigator_4_City=u'', Principal_Investigator_4_State=u'', Principal_Investigator_4_Zip_Code=u'', Principal_Investigator_4_Country=u'', Principal_Investigator_4_Province=u'', Principal_Investigator_4_Postal_Code=u'', Principal_Investigator_4_Primary_Type=u'', Principal_Investigator_4_Specialty=u'', Principal_Investigator_4_License_State_code1=u'', Principal_Investigator_4_License_State_code2=u'', Principal_Investigator_4_License_State_code3=u'', Principal_Investigator_4_License_State_code4=u'', Principal_Investigator_4_License_State_code5=u'', Principal_Investigator_5_Profile_ID=u'', Principal_Investigator_5_First_Name=u'', Principal_Investigator_5_Middle_Name=u'', Principal_Investigator_5_Last_Name=u'', Principal_Investigator_5_Name_Suffix=u'', Principal_Investigator_5_Business_Street_Address_Line1=u'', Principal_Investigator_5_Business_Street_Address_Line2=u'', Principal_Investigator_5_City=u'', Principal_Investigator_5_State=u'', Principal_Investigator_5_Zip_Code=u'', Principal_Investigator_5_Country=u'', Principal_Investigator_5_Province=u'', Principal_Investigator_5_Postal_Code=u'', Principal_Investigator_5_Primary_Type=u'', Principal_Investigator_5_Specialty=u'', Principal_Investigator_5_License_State_code1=u'', Principal_Investigator_5_License_State_code2=u'', Principal_Investigator_5_License_State_code3=u'', Principal_Investigator_5_License_State_code4=u'', Principal_Investigator_5_License_State_code5=u'', Submitting_Applicable_Manufacturer_or_Applicable_GPO_Name=u'DFINE, Inc', Applicable_Manufacturer_or_Applicable_GPO_Making_Payment_ID=u'100000000326', Applicable_Manufacturer_or_Applicable_GPO_Making_Payment_Name=u'DFINE, Inc', Applicable_Manufacturer_or_Applicable_GPO_Making_Payment_State=u'CA', Applicable_Manufacturer_or_Applicable_GPO_Making_Payment_Country=u'United States', Related_Product_Indicator=u'Yes', Covered_or_Noncovered_Indicator_1=u'Covered', Indicate_Drug_or_Biological_or_Device_or_Medical_Supply_1=u'Device', Product_Category_or_Therapeutic_Area_1=u'Radiology', Name_of_Drug_or_Biological_or_Device_or_Medical_Supply_1=u'STAR Tumor Ablation System', Associated_Drug_or_Biological_NDC_1=u'', Covered_or_Noncovered_Indicator_2=u'', Indicate_Drug_or_Biological_or_Device_or_Medical_Supply_2=u'', Product_Category_or_Therapeutic_Area_2=u'', Name_of_Drug_or_Biological_or_Device_or_Medical_Supply_2=u'', Associated_Drug_or_Biological_NDC_2=u'', Covered_or_Noncovered_Indicator_3=u'', Indicate_Drug_or_Biological_or_Device_or_Medical_Supply_3=u'', Product_Category_or_Therapeutic_Area_3=u'', Name_of_Drug_or_Biological_or_Device_or_Medical_Supply_3=u'', Associated_Drug_or_Biological_NDC_3=u'', Covered_or_Noncovered_Indicator_4=u'', Indicate_Drug_or_Biological_or_Device_or_Medical_Supply_4=u'', Product_Category_or_Therapeutic_Area_4=u'', Name_of_Drug_or_Biological_or_Device_or_Medical_Supply_4=u'', Associated_Drug_or_Biological_NDC_4=u'', Covered_or_Noncovered_Indicator_5=u'', Indicate_Drug_or_Biological_or_Device_or_Medical_Supply_5=u'', Product_Category_or_Therapeutic_Area_5=u'', Name_of_Drug_or_Biological_or_Device_or_Medical_Supply_5=u'', Associated_Drug_or_Biological_NDC_5=u'', Total_Amount_of_Payment_USDollars=u'1235.00', Date_of_Payment=u'09/07/2016', Form_of_Payment_or_Transfer_of_Value=u'Cash or cash equivalent', Expenditure_Category1=u'Other', Expenditure_Category2=u'', Expenditure_Category3=u'', Expenditure_Category4=u'', Expenditure_Category5=u'', Expenditure_Category6=u'', Preclinical_Research_Indicator=u'No', Delay_in_Publication_Indicator=u'No', Name_of_Study=u'Evaluation of t-RFA & RF-TVA Prior to/Following RT to Treat Painful Metastatic Vertebral Body Tumors (STARRT) DF-14-01', Dispute_Status_for_Publication=u'No', Record_ID=u'346058878', Program_Year=u'2016', Payment_Publication_Date=u'06/29/2018', ClinicalTrials_Gov_Identifier=u'NCT02225223', Research_Information_Link=u'', Context_of_Research=u'')]"
     ]
    }
   ],
   "source": [
    "# visually confirming the row is what we expect\n",
    "\n",
    "research_2016_2017_df.take(2)"
   ]
  },
  {
   "cell_type": "code",
   "execution_count": 66,
   "metadata": {},
   "outputs": [
    {
     "name": "stdout",
     "output_type": "stream",
     "text": [
      "+-----------+----------------------+--------------------------------+---------------------+--------------------+----------------------+--------------------+--------------------+---------------------+-------------------+---------------------+-----------------------------------------------+-----------------------------------------------+--------------+---------------+------------------+-----------------+------------------+---------------------+----------------------+-------------------+-----------------------------+-----------------------------+-----------------------------+-----------------------------+-----------------------------+-----------------------------------+-----------------------------------+------------------------------------+----------------------------------+------------------------------------+------------------------------------------------------+------------------------------------------------------+-----------------------------+------------------------------+---------------------------------+--------------------------------+---------------------------------+------------------------------------+-------------------------------------+----------------------------------+--------------------------------------------+--------------------------------------------+--------------------------------------------+--------------------------------------------+--------------------------------------------+-----------------------------------+-----------------------------------+------------------------------------+----------------------------------+------------------------------------+------------------------------------------------------+------------------------------------------------------+-----------------------------+------------------------------+---------------------------------+--------------------------------+---------------------------------+------------------------------------+-------------------------------------+----------------------------------+--------------------------------------------+--------------------------------------------+--------------------------------------------+--------------------------------------------+--------------------------------------------+-----------------------------------+-----------------------------------+------------------------------------+----------------------------------+------------------------------------+------------------------------------------------------+------------------------------------------------------+-----------------------------+------------------------------+---------------------------------+--------------------------------+---------------------------------+------------------------------------+-------------------------------------+----------------------------------+--------------------------------------------+--------------------------------------------+--------------------------------------------+--------------------------------------------+--------------------------------------------+-----------------------------------+-----------------------------------+------------------------------------+----------------------------------+------------------------------------+------------------------------------------------------+------------------------------------------------------+-----------------------------+------------------------------+---------------------------------+--------------------------------+---------------------------------+------------------------------------+-------------------------------------+----------------------------------+--------------------------------------------+--------------------------------------------+--------------------------------------------+--------------------------------------------+--------------------------------------------+-----------------------------------+-----------------------------------+------------------------------------+----------------------------------+------------------------------------+------------------------------------------------------+------------------------------------------------------+-----------------------------+------------------------------+---------------------------------+--------------------------------+---------------------------------+------------------------------------+-------------------------------------+----------------------------------+--------------------------------------------+--------------------------------------------+--------------------------------------------+--------------------------------------------+--------------------------------------------+---------------------------------------------------------+-----------------------------------------------------------+-------------------------------------------------------------+--------------------------------------------------------------+----------------------------------------------------------------+-----------------+----------------------------------------------+----------------------------------------------+----------------------------------------------+----------------------------------------------+----------------------------------------------+---------------------------------------------+---------------------------------------------+---------------------------------------------+---------------------------------------------+---------------------------------------------+----------------------------------------------------+----------------------------------------------------+----------------------------------------------------+----------------------------------------------------+----------------------------------------------------+---------------------------------+---------------+------------------------------------+---------------------+---------------------+---------------------+---------------------+---------------------+---------------------+------------------------------+------------------------------+--------------------+------------------------------+---------+------------+------------------------+-----------------------------+-------------------------+-------------------+\n",
      "|Change_Type|Covered_Recipient_Type|Noncovered_Recipient_Entity_Name|Teaching_Hospital_CCN|Teaching_Hospital_ID|Teaching_Hospital_Name|Physician_Profile_ID|Physician_First_Name|Physician_Middle_Name|Physician_Last_Name|Physician_Name_Suffix|Recipient_Primary_Business_Street_Address_Line1|Recipient_Primary_Business_Street_Address_Line2|Recipient_City|Recipient_State|Recipient_Zip_Code|Recipient_Country|Recipient_Province|Recipient_Postal_Code|Physician_Primary_Type|Physician_Specialty|Physician_License_State_code1|Physician_License_State_code2|Physician_License_State_code3|Physician_License_State_code4|Physician_License_State_code5|Principal_Investigator_1_Profile_ID|Principal_Investigator_1_First_Name|Principal_Investigator_1_Middle_Name|Principal_Investigator_1_Last_Name|Principal_Investigator_1_Name_Suffix|Principal_Investigator_1_Business_Street_Address_Line1|Principal_Investigator_1_Business_Street_Address_Line2|Principal_Investigator_1_City|Principal_Investigator_1_State|Principal_Investigator_1_Zip_Code|Principal_Investigator_1_Country|Principal_Investigator_1_Province|Principal_Investigator_1_Postal_Code|Principal_Investigator_1_Primary_Type|Principal_Investigator_1_Specialty|Principal_Investigator_1_License_State_code1|Principal_Investigator_1_License_State_code2|Principal_Investigator_1_License_State_code3|Principal_Investigator_1_License_State_code4|Principal_Investigator_1_License_State_code5|Principal_Investigator_2_Profile_ID|Principal_Investigator_2_First_Name|Principal_Investigator_2_Middle_Name|Principal_Investigator_2_Last_Name|Principal_Investigator_2_Name_Suffix|Principal_Investigator_2_Business_Street_Address_Line1|Principal_Investigator_2_Business_Street_Address_Line2|Principal_Investigator_2_City|Principal_Investigator_2_State|Principal_Investigator_2_Zip_Code|Principal_Investigator_2_Country|Principal_Investigator_2_Province|Principal_Investigator_2_Postal_Code|Principal_Investigator_2_Primary_Type|Principal_Investigator_2_Specialty|Principal_Investigator_2_License_State_code1|Principal_Investigator_2_License_State_code2|Principal_Investigator_2_License_State_code3|Principal_Investigator_2_License_State_code4|Principal_Investigator_2_License_State_code5|Principal_Investigator_3_Profile_ID|Principal_Investigator_3_First_Name|Principal_Investigator_3_Middle_Name|Principal_Investigator_3_Last_Name|Principal_Investigator_3_Name_Suffix|Principal_Investigator_3_Business_Street_Address_Line1|Principal_Investigator_3_Business_Street_Address_Line2|Principal_Investigator_3_City|Principal_Investigator_3_State|Principal_Investigator_3_Zip_Code|Principal_Investigator_3_Country|Principal_Investigator_3_Province|Principal_Investigator_3_Postal_Code|Principal_Investigator_3_Primary_Type|Principal_Investigator_3_Specialty|Principal_Investigator_3_License_State_code1|Principal_Investigator_3_License_State_code2|Principal_Investigator_3_License_State_code3|Principal_Investigator_3_License_State_code4|Principal_Investigator_3_License_State_code5|Principal_Investigator_4_Profile_ID|Principal_Investigator_4_First_Name|Principal_Investigator_4_Middle_Name|Principal_Investigator_4_Last_Name|Principal_Investigator_4_Name_Suffix|Principal_Investigator_4_Business_Street_Address_Line1|Principal_Investigator_4_Business_Street_Address_Line2|Principal_Investigator_4_City|Principal_Investigator_4_State|Principal_Investigator_4_Zip_Code|Principal_Investigator_4_Country|Principal_Investigator_4_Province|Principal_Investigator_4_Postal_Code|Principal_Investigator_4_Primary_Type|Principal_Investigator_4_Specialty|Principal_Investigator_4_License_State_code1|Principal_Investigator_4_License_State_code2|Principal_Investigator_4_License_State_code3|Principal_Investigator_4_License_State_code4|Principal_Investigator_4_License_State_code5|Principal_Investigator_5_Profile_ID|Principal_Investigator_5_First_Name|Principal_Investigator_5_Middle_Name|Principal_Investigator_5_Last_Name|Principal_Investigator_5_Name_Suffix|Principal_Investigator_5_Business_Street_Address_Line1|Principal_Investigator_5_Business_Street_Address_Line2|Principal_Investigator_5_City|Principal_Investigator_5_State|Principal_Investigator_5_Zip_Code|Principal_Investigator_5_Country|Principal_Investigator_5_Province|Principal_Investigator_5_Postal_Code|Principal_Investigator_5_Primary_Type|Principal_Investigator_5_Specialty|Principal_Investigator_5_License_State_code1|Principal_Investigator_5_License_State_code2|Principal_Investigator_5_License_State_code3|Principal_Investigator_5_License_State_code4|Principal_Investigator_5_License_State_code5|Submitting_Applicable_Manufacturer_or_Applicable_GPO_Name|Applicable_Manufacturer_or_Applicable_GPO_Making_Payment_ID|Applicable_Manufacturer_or_Applicable_GPO_Making_Payment_Name|Applicable_Manufacturer_or_Applicable_GPO_Making_Payment_State|Applicable_Manufacturer_or_Applicable_GPO_Making_Payment_Country|Product_Indicator|Name_of_Associated_Covered_Drug_or_Biological1|Name_of_Associated_Covered_Drug_or_Biological2|Name_of_Associated_Covered_Drug_or_Biological3|Name_of_Associated_Covered_Drug_or_Biological4|Name_of_Associated_Covered_Drug_or_Biological5|NDC_of_Associated_Covered_Drug_or_Biological1|NDC_of_Associated_Covered_Drug_or_Biological2|NDC_of_Associated_Covered_Drug_or_Biological3|NDC_of_Associated_Covered_Drug_or_Biological4|NDC_of_Associated_Covered_Drug_or_Biological5|Name_of_Associated_Covered_Device_or_Medical_Supply1|Name_of_Associated_Covered_Device_or_Medical_Supply2|Name_of_Associated_Covered_Device_or_Medical_Supply3|Name_of_Associated_Covered_Device_or_Medical_Supply4|Name_of_Associated_Covered_Device_or_Medical_Supply5|Total_Amount_of_Payment_USDollars|Date_of_Payment|Form_of_Payment_or_Transfer_of_Value|Expenditure_Category1|Expenditure_Category2|Expenditure_Category3|Expenditure_Category4|Expenditure_Category5|Expenditure_Category6|Preclinical_Research_Indicator|Delay_in_Publication_Indicator|       Name_of_Study|Dispute_Status_for_Publication|Record_ID|Program_Year|Payment_Publication_Date|ClinicalTrials_Gov_Identifier|Research_Information_Link|Context_of_Research|\n",
      "+-----------+----------------------+--------------------------------+---------------------+--------------------+----------------------+--------------------+--------------------+---------------------+-------------------+---------------------+-----------------------------------------------+-----------------------------------------------+--------------+---------------+------------------+-----------------+------------------+---------------------+----------------------+-------------------+-----------------------------+-----------------------------+-----------------------------+-----------------------------+-----------------------------+-----------------------------------+-----------------------------------+------------------------------------+----------------------------------+------------------------------------+------------------------------------------------------+------------------------------------------------------+-----------------------------+------------------------------+---------------------------------+--------------------------------+---------------------------------+------------------------------------+-------------------------------------+----------------------------------+--------------------------------------------+--------------------------------------------+--------------------------------------------+--------------------------------------------+--------------------------------------------+-----------------------------------+-----------------------------------+------------------------------------+----------------------------------+------------------------------------+------------------------------------------------------+------------------------------------------------------+-----------------------------+------------------------------+---------------------------------+--------------------------------+---------------------------------+------------------------------------+-------------------------------------+----------------------------------+--------------------------------------------+--------------------------------------------+--------------------------------------------+--------------------------------------------+--------------------------------------------+-----------------------------------+-----------------------------------+------------------------------------+----------------------------------+------------------------------------+------------------------------------------------------+------------------------------------------------------+-----------------------------+------------------------------+---------------------------------+--------------------------------+---------------------------------+------------------------------------+-------------------------------------+----------------------------------+--------------------------------------------+--------------------------------------------+--------------------------------------------+--------------------------------------------+--------------------------------------------+-----------------------------------+-----------------------------------+------------------------------------+----------------------------------+------------------------------------+------------------------------------------------------+------------------------------------------------------+-----------------------------+------------------------------+---------------------------------+--------------------------------+---------------------------------+------------------------------------+-------------------------------------+----------------------------------+--------------------------------------------+--------------------------------------------+--------------------------------------------+--------------------------------------------+--------------------------------------------+-----------------------------------+-----------------------------------+------------------------------------+----------------------------------+------------------------------------+------------------------------------------------------+------------------------------------------------------+-----------------------------+------------------------------+---------------------------------+--------------------------------+---------------------------------+------------------------------------+-------------------------------------+----------------------------------+--------------------------------------------+--------------------------------------------+--------------------------------------------+--------------------------------------------+--------------------------------------------+---------------------------------------------------------+-----------------------------------------------------------+-------------------------------------------------------------+--------------------------------------------------------------+----------------------------------------------------------------+-----------------+----------------------------------------------+----------------------------------------------+----------------------------------------------+----------------------------------------------+----------------------------------------------+---------------------------------------------+---------------------------------------------+---------------------------------------------+---------------------------------------------+---------------------------------------------+----------------------------------------------------+----------------------------------------------------+----------------------------------------------------+----------------------------------------------------+----------------------------------------------------+---------------------------------+---------------+------------------------------------+---------------------+---------------------+---------------------+---------------------+---------------------+---------------------+------------------------------+------------------------------+--------------------+------------------------------+---------+------------+------------------------+-----------------------------+-------------------------+-------------------+\n",
      "|Change_Type|  Covered_Recipient...|            Noncovered_Recipi...| Teaching_Hospital...|Teaching_Hospital_ID|  Teaching_Hospital...|Physician_Profile_ID|Physician_First_Name| Physician_Middle_...|Physician_Last_Name| Physician_Name_Su...|                           Recipient_Primary...|                           Recipient_Primary...|Recipient_City|Recipient_State|Recipient_Zip_Code|Recipient_Country|Recipient_Province| Recipient_Postal_...|  Physician_Primary...|Physician_Specialty|         Physician_License...|         Physician_License...|         Physician_License...|         Physician_License...|         Physician_License...|               Principal_Investi...|               Principal_Investi...|                Principal_Investi...|              Principal_Investi...|                Principal_Investi...|                                  Principal_Investi...|                                  Principal_Investi...|         Principal_Investi...|          Principal_Investi...|             Principal_Investi...|            Principal_Investi...|             Principal_Investi...|                Principal_Investi...|                 Principal_Investi...|              Principal_Investi...|                        Principal_Investi...|                        Principal_Investi...|                        Principal_Investi...|                        Principal_Investi...|                        Principal_Investi...|               Principal_Investi...|               Principal_Investi...|                Principal_Investi...|              Principal_Investi...|                Principal_Investi...|                                  Principal_Investi...|                                  Principal_Investi...|         Principal_Investi...|          Principal_Investi...|             Principal_Investi...|            Principal_Investi...|             Principal_Investi...|                Principal_Investi...|                 Principal_Investi...|              Principal_Investi...|                        Principal_Investi...|                        Principal_Investi...|                        Principal_Investi...|                        Principal_Investi...|                        Principal_Investi...|               Principal_Investi...|               Principal_Investi...|                Principal_Investi...|              Principal_Investi...|                Principal_Investi...|                                  Principal_Investi...|                                  Principal_Investi...|         Principal_Investi...|          Principal_Investi...|             Principal_Investi...|            Principal_Investi...|             Principal_Investi...|                Principal_Investi...|                 Principal_Investi...|              Principal_Investi...|                        Principal_Investi...|                        Principal_Investi...|                        Principal_Investi...|                        Principal_Investi...|                        Principal_Investi...|               Principal_Investi...|               Principal_Investi...|                Principal_Investi...|              Principal_Investi...|                Principal_Investi...|                                  Principal_Investi...|                                  Principal_Investi...|         Principal_Investi...|          Principal_Investi...|             Principal_Investi...|            Principal_Investi...|             Principal_Investi...|                Principal_Investi...|                 Principal_Investi...|              Principal_Investi...|                        Principal_Investi...|                        Principal_Investi...|                        Principal_Investi...|                        Principal_Investi...|                        Principal_Investi...|               Principal_Investi...|               Principal_Investi...|                Principal_Investi...|              Principal_Investi...|                Principal_Investi...|                                  Principal_Investi...|                                  Principal_Investi...|         Principal_Investi...|          Principal_Investi...|             Principal_Investi...|            Principal_Investi...|             Principal_Investi...|                Principal_Investi...|                 Principal_Investi...|              Principal_Investi...|                        Principal_Investi...|                        Principal_Investi...|                        Principal_Investi...|                        Principal_Investi...|                        Principal_Investi...|                                     Submitting_Applic...|                                       Applicable_Manufa...|                                         Applicable_Manufa...|                                          Applicable_Manufa...|                                            Applicable_Manufa...|Product_Indicator|                          Name_of_Associate...|                          Name_of_Associate...|                          Name_of_Associate...|                          Name_of_Associate...|                          Name_of_Associate...|                         NDC_of_Associated...|                         NDC_of_Associated...|                         NDC_of_Associated...|                         NDC_of_Associated...|                         NDC_of_Associated...|                                Name_of_Associate...|                                Name_of_Associate...|                                Name_of_Associate...|                                Name_of_Associate...|                                Name_of_Associate...|             Total_Amount_of_P...|Date_of_Payment|                Form_of_Payment_o...| Expenditure_Categ...| Expenditure_Categ...| Expenditure_Categ...| Expenditure_Categ...| Expenditure_Categ...| Expenditure_Categ...|          Preclinical_Resea...|          Delay_in_Publicat...|       Name_of_Study|          Dispute_Status_fo...|Record_ID|Program_Year|    Payment_Publicati...|         ClinicalTrials_Go...|     Research_Informat...|Context_of_Research|\n",
      "|  UNCHANGED|  Covered Recipient...|                                |               073300|                  52|  CONNECTICUT CHILD...|                    |                    |                     |                   |                     |                              282 WASHINGTON ST|                                               |      HARTFORD|             CT|             06106|    United States|                  |                     |                      |                   |                             |                             |                             |                             |                             |                             261237|                              KAREN|                           GREENBERG|                             RUBIN|                                    |                                     282 WASHINGTON ST|                                                      |                     HARTFORD|                            CT|                            06106|                   United States|                                 |                                    |                       Medical Doctor|              Allopathic & Oste...|                                          CT|                                            |                                            |                                            |                                            |                                   |                                   |                                    |                                  |                                    |                                                      |                                                      |                             |                              |                                 |                                |                                 |                                    |                                     |                                  |                                            |                                            |                                            |                                            |                                            |                                   |                                   |                                    |                                  |                                    |                                                      |                                                      |                             |                              |                                 |                                |                                 |                                    |                                     |                                  |                                            |                                            |                                            |                                            |                                            |                                   |                                   |                                    |                                  |                                    |                                                      |                                                      |                             |                              |                                 |                                |                                 |                                    |                                     |                                  |                                            |                                            |                                            |                                            |                                            |                                   |                                   |                                    |                                  |                                    |                                                      |                                                      |                             |                              |                                 |                                |                                 |                                    |                                     |                                  |                                            |                                            |                                            |                                            |                                            |                                     Eli Lilly and Com...|                                               100000000066|                                               LILLY USA, LLC|                                                            IN|                                                   United States|          Covered|                                     HUMATROPE|                                              |                                              |                                              |                                              |                                   0002814801|                                             |                                             |                                             |                                             |                                                    |                                                    |                                                    |                                                    |                                                    |                          3080.00|     09/24/2013|                Cash or cash equi...|                     |                     |                     |                     |                     |                     |                            No|                            No|THE GENETICS AND ...|                            No|105731384|        2013|              06/29/2018|                  NCT01088412|     http://clinicaltr...|                   |\n",
      "|  UNCHANGED|  Covered Recipient...|                                |               230046|                 528|  REGENTS OF THE UN...|                    |                    |                     |                   |                     |                           1500 EAST MEDICAL...|                                               |     ANN ARBOR|             MI|             48109|    United States|                  |                     |                      |                   |                             |                             |                             |                             |                             |                             350306|                               PAUL|                                   M|                          GROSSMAN|                                    |                                  1500 EAST MEDICAL...|                                  3RD FLOOR CARDIOV...|                    ANN ARBOR|                            MI|                            48109|                   United States|                                 |                                    |                       Medical Doctor|              Allopathic & Oste...|                                          MI|                                            |                                            |                                            |                                            |                                   |                                   |                                    |                                  |                                    |                                                      |                                                      |                             |                              |                                 |                                |                                 |                                    |                                     |                                  |                                            |                                            |                                            |                                            |                                            |                                   |                                   |                                    |                                  |                                    |                                                      |                                                      |                             |                              |                                 |                                |                                 |                                    |                                     |                                  |                                            |                                            |                                            |                                            |                                            |                                   |                                   |                                    |                                  |                                    |                                                      |                                                      |                             |                              |                                 |                                |                                 |                                    |                                     |                                  |                                            |                                            |                                            |                                            |                                            |                                   |                                   |                                    |                                  |                                    |                                                      |                                                      |                             |                              |                                 |                                |                                 |                                    |                                     |                                  |                                            |                                            |                                            |                                            |                                            |                                     Eli Lilly and Com...|                                               100000000066|                                               LILLY USA, LLC|                                                            IN|                                                   United States|          Covered|                                       EFFIENT|                                              |                                              |                                              |                                              |                                   0002512330|                                             |                                             |                                             |                                             |                                                    |                                                    |                                                    |                                                    |                                                    |                          2650.00|     09/17/2013|                Cash or cash equi...|                     |                     |                     |                     |                     |                     |                            No|                            No|THE TRANSLATE ACS...|                            No|105731715|        2013|              06/29/2018|                  NCT01088503|     http://clinicaltr...|                   |\n",
      "|  UNCHANGED|  Covered Recipient...|                                |               150089|                 397|  INDIANA UNIVERSIT...|                    |                    |                     |                   |                     |                           2401 W UNIVERSITY...|                                               |        MUNCIE|             IN|             47303|    United States|                  |                     |                      |                   |                             |                             |                             |                             |                             |                              72420|                              BRUCE|                                   M|                            GRAHAM|                                    |                                  2525 W UNIVERSITY...|                                             SUITE 300|                       MUNCIE|                            IN|                            47303|                   United States|                                 |                                    |                       Medical Doctor|              Allopathic & Oste...|                                          IN|                                            |                                            |                                            |                                            |                                   |                                   |                                    |                                  |                                    |                                                      |                                                      |                             |                              |                                 |                                |                                 |                                    |                                     |                                  |                                            |                                            |                                            |                                            |                                            |                                   |                                   |                                    |                                  |                                    |                                                      |                                                      |                             |                              |                                 |                                |                                 |                                    |                                     |                                  |                                            |                                            |                                            |                                            |                                            |                                   |                                   |                                    |                                  |                                    |                                                      |                                                      |                             |                              |                                 |                                |                                 |                                    |                                     |                                  |                                            |                                            |                                            |                                            |                                            |                                   |                                   |                                    |                                  |                                    |                                                      |                                                      |                             |                              |                                 |                                |                                 |                                    |                                     |                                  |                                            |                                            |                                            |                                            |                                            |                                     Eli Lilly and Com...|                                               100000000066|                                               LILLY USA, LLC|                                                            IN|                                                   United States|          Covered|                                       EFFIENT|                                              |                                              |                                              |                                              |                                   0002512330|                                             |                                             |                                             |                                             |                                                    |                                                    |                                                    |                                                    |                                                    |                           725.00|     09/17/2013|                Cash or cash equi...|                     |                     |                     |                     |                     |                     |                            No|                            No|THE TRANSLATE ACS...|                            No|105731565|        2013|              06/29/2018|                  NCT01088503|     http://clinicaltr...|                   |\n",
      "|  UNCHANGED|  Covered Recipient...|                                |               140113|                 462|  PRESENCE HOSPITAL...|                    |                    |                     |                   |                     |                                 1400 W PARK ST|                                               |        URBANA|             IL|             61801|    United States|                  |                     |                      |                   |                             |                             |                             |                             |                             |                              25690|                             DENNIS|                                   M|                           KILLIAN|                                    |                                  301 MADISON ST ST...|                                                      |                       JOLIET|                            IL|                            60435|                   United States|                                 |                                    |                       Medical Doctor|              Allopathic & Oste...|                                          IL|                                            |                                            |                                            |                                            |                                   |                                   |                                    |                                  |                                    |                                                      |                                                      |                             |                              |                                 |                                |                                 |                                    |                                     |                                  |                                            |                                            |                                            |                                            |                                            |                                   |                                   |                                    |                                  |                                    |                                                      |                                                      |                             |                              |                                 |                                |                                 |                                    |                                     |                                  |                                            |                                            |                                            |                                            |                                            |                                   |                                   |                                    |                                  |                                    |                                                      |                                                      |                             |                              |                                 |                                |                                 |                                    |                                     |                                  |                                            |                                            |                                            |                                            |                                            |                                   |                                   |                                    |                                  |                                    |                                                      |                                                      |                             |                              |                                 |                                |                                 |                                    |                                     |                                  |                                            |                                            |                                            |                                            |                                            |                                     Eli Lilly and Com...|                                               100000000066|                                               LILLY USA, LLC|                                                            IN|                                                   United States|          Covered|                                       EFFIENT|                                              |                                              |                                              |                                              |                                   0002512330|                                             |                                             |                                             |                                             |                                                    |                                                    |                                                    |                                                    |                                                    |                          1435.00|     08/05/2013|                Cash or cash equi...|                     |                     |                     |                     |                     |                     |                            No|                            No|THE TRANSLATE ACS...|                            No|105731580|        2013|              06/29/2018|                  NCT01088503|     http://clinicaltr...|                   |\n",
      "+-----------+----------------------+--------------------------------+---------------------+--------------------+----------------------+--------------------+--------------------+---------------------+-------------------+---------------------+-----------------------------------------------+-----------------------------------------------+--------------+---------------+------------------+-----------------+------------------+---------------------+----------------------+-------------------+-----------------------------+-----------------------------+-----------------------------+-----------------------------+-----------------------------+-----------------------------------+-----------------------------------+------------------------------------+----------------------------------+------------------------------------+------------------------------------------------------+------------------------------------------------------+-----------------------------+------------------------------+---------------------------------+--------------------------------+---------------------------------+------------------------------------+-------------------------------------+----------------------------------+--------------------------------------------+--------------------------------------------+--------------------------------------------+--------------------------------------------+--------------------------------------------+-----------------------------------+-----------------------------------+------------------------------------+----------------------------------+------------------------------------+------------------------------------------------------+------------------------------------------------------+-----------------------------+------------------------------+---------------------------------+--------------------------------+---------------------------------+------------------------------------+-------------------------------------+----------------------------------+--------------------------------------------+--------------------------------------------+--------------------------------------------+--------------------------------------------+--------------------------------------------+-----------------------------------+-----------------------------------+------------------------------------+----------------------------------+------------------------------------+------------------------------------------------------+------------------------------------------------------+-----------------------------+------------------------------+---------------------------------+--------------------------------+---------------------------------+------------------------------------+-------------------------------------+----------------------------------+--------------------------------------------+--------------------------------------------+--------------------------------------------+--------------------------------------------+--------------------------------------------+-----------------------------------+-----------------------------------+------------------------------------+----------------------------------+------------------------------------+------------------------------------------------------+------------------------------------------------------+-----------------------------+------------------------------+---------------------------------+--------------------------------+---------------------------------+------------------------------------+-------------------------------------+----------------------------------+--------------------------------------------+--------------------------------------------+--------------------------------------------+--------------------------------------------+--------------------------------------------+-----------------------------------+-----------------------------------+------------------------------------+----------------------------------+------------------------------------+------------------------------------------------------+------------------------------------------------------+-----------------------------+------------------------------+---------------------------------+--------------------------------+---------------------------------+------------------------------------+-------------------------------------+----------------------------------+--------------------------------------------+--------------------------------------------+--------------------------------------------+--------------------------------------------+--------------------------------------------+---------------------------------------------------------+-----------------------------------------------------------+-------------------------------------------------------------+--------------------------------------------------------------+----------------------------------------------------------------+-----------------+----------------------------------------------+----------------------------------------------+----------------------------------------------+----------------------------------------------+----------------------------------------------+---------------------------------------------+---------------------------------------------+---------------------------------------------+---------------------------------------------+---------------------------------------------+----------------------------------------------------+----------------------------------------------------+----------------------------------------------------+----------------------------------------------------+----------------------------------------------------+---------------------------------+---------------+------------------------------------+---------------------+---------------------+---------------------+---------------------+---------------------+---------------------+------------------------------+------------------------------+--------------------+------------------------------+---------+------------+------------------------+-----------------------------+-------------------------+-------------------+\n",
      "only showing top 5 rows"
     ]
    }
   ],
   "source": [
    "# loading into a PySpark DataFrame (inferring from the schema to get it working quickly)\n",
    "\n",
    "research_2013_2015_df = research_data_2013_2014_2015.map(split_comma).toDF(columns_1[0])\n",
    "research_2013_2015_df.show(5)"
   ]
  },
  {
   "cell_type": "code",
   "execution_count": 67,
   "metadata": {},
   "outputs": [],
   "source": [
    "# removing the column headers for 2013-2015\n",
    "\n",
    "research_2013_2015_df = research_2013_2015_df.filter('Change_Type != \"Change_Type\"')"
   ]
  },
  {
   "cell_type": "code",
   "execution_count": 23,
   "metadata": {},
   "outputs": [
    {
     "name": "stdout",
     "output_type": "stream",
     "text": [
      "2035191"
     ]
    }
   ],
   "source": [
    "# double checking the row count\n",
    "\n",
    "research_2013_2015_df.count()"
   ]
  },
  {
   "cell_type": "code",
   "execution_count": 25,
   "metadata": {},
   "outputs": [],
   "source": [
    "research_2013_2015_df.filter('Form_of_Payment_or_Transfer_of_Value == \"In-kind items and services\"')\\\n",
    "                     .select('Total_Amount_of_Payment_USDollars', 'Form_of_Payment_or_Transfer_of_Value').show(20)"
   ]
  },
  {
   "cell_type": "code",
   "execution_count": 26,
   "metadata": {},
   "outputs": [],
   "source": [
    "# counting rows that have no monetary value\n",
    "# since they affect predictions\n",
    "\n",
    "research_2013_2015_df.filter('Total_Amount_of_Payment_USDollars == 0.0').count()\n"
   ]
  },
  {
   "cell_type": "code",
   "execution_count": 68,
   "metadata": {},
   "outputs": [
    {
     "name": "stdout",
     "output_type": "stream",
     "text": [
      "set(['Name_of_Associated_Covered_Drug_or_Biological2', 'Name_of_Associated_Covered_Drug_or_Biological3', 'Name_of_Associated_Covered_Drug_or_Biological1', 'Name_of_Associated_Covered_Drug_or_Biological4', 'Name_of_Associated_Covered_Drug_or_Biological5', 'NDC_of_Associated_Covered_Drug_or_Biological1', 'NDC_of_Associated_Covered_Drug_or_Biological3', 'NDC_of_Associated_Covered_Drug_or_Biological2', 'NDC_of_Associated_Covered_Drug_or_Biological5', 'NDC_of_Associated_Covered_Drug_or_Biological4', 'Name_of_Associated_Covered_Device_or_Medical_Supply4', 'Name_of_Associated_Covered_Device_or_Medical_Supply5', 'Name_of_Associated_Covered_Device_or_Medical_Supply2', 'Name_of_Associated_Covered_Device_or_Medical_Supply3', 'Name_of_Associated_Covered_Device_or_Medical_Supply1', 'Product_Indicator'])"
     ]
    }
   ],
   "source": [
    "# finding the columns that were in 2013-2015 but not in 2016-17\n",
    "\n",
    "unique_2013_2014_2015 = set(columns_1[0]).difference(set(columns_2[0]))\n",
    "print(unique_2013_2014_2015)"
   ]
  },
  {
   "cell_type": "code",
   "execution_count": 69,
   "metadata": {},
   "outputs": [
    {
     "name": "stdout",
     "output_type": "stream",
     "text": [
      "+----------------------------------------------+---------------------------------------------+----------------------------------------------------+-----------------+\n",
      "|Name_of_Associated_Covered_Drug_or_Biological1|NDC_of_Associated_Covered_Drug_or_Biological1|Name_of_Associated_Covered_Device_or_Medical_Supply1|Product_Indicator|\n",
      "+----------------------------------------------+---------------------------------------------+----------------------------------------------------+-----------------+\n",
      "|                                     HUMATROPE|                                   0002814801|                                                    |          Covered|\n",
      "|                                       EFFIENT|                                   0002512330|                                                    |          Covered|\n",
      "|                                       EFFIENT|                                   0002512330|                                                    |          Covered|\n",
      "+----------------------------------------------+---------------------------------------------+----------------------------------------------------+-----------------+\n",
      "only showing top 3 rows"
     ]
    }
   ],
   "source": [
    "# looking at the values of some of the columns to see \n",
    "# if they're similar to columns from the 2016-2017 dataset\n",
    "\n",
    "research_2013_2015_df.select('Name_of_Associated_Covered_Drug_or_Biological1', \n",
    "                             'NDC_of_Associated_Covered_Drug_or_Biological1',\n",
    "                             'Name_of_Associated_Covered_Device_or_Medical_Supply1',\n",
    "                             'Product_Indicator').show(3)\n"
   ]
  },
  {
   "cell_type": "code",
   "execution_count": 70,
   "metadata": {},
   "outputs": [
    {
     "name": "stdout",
     "output_type": "stream",
     "text": [
      "set(['Product_Category_or_Therapeutic_Area_1', 'Product_Category_or_Therapeutic_Area_2', 'Product_Category_or_Therapeutic_Area_3', 'Product_Category_or_Therapeutic_Area_4', 'Product_Category_or_Therapeutic_Area_5', 'Associated_Drug_or_Biological_NDC_1', 'Associated_Drug_or_Biological_NDC_3', 'Associated_Drug_or_Biological_NDC_2', 'Associated_Drug_or_Biological_NDC_5', 'Associated_Drug_or_Biological_NDC_4', 'Indicate_Drug_or_Biological_or_Device_or_Medical_Supply_5', 'Indicate_Drug_or_Biological_or_Device_or_Medical_Supply_4', 'Covered_or_Noncovered_Indicator_1', 'Indicate_Drug_or_Biological_or_Device_or_Medical_Supply_1', 'Indicate_Drug_or_Biological_or_Device_or_Medical_Supply_3', 'Indicate_Drug_or_Biological_or_Device_or_Medical_Supply_2', 'Name_of_Drug_or_Biological_or_Device_or_Medical_Supply_4', 'Name_of_Drug_or_Biological_or_Device_or_Medical_Supply_5', 'Name_of_Drug_or_Biological_or_Device_or_Medical_Supply_2', 'Name_of_Drug_or_Biological_or_Device_or_Medical_Supply_3', 'Name_of_Drug_or_Biological_or_Device_or_Medical_Supply_1', 'Covered_or_Noncovered_Indicator_2', 'Covered_or_Noncovered_Indicator_3', 'Covered_or_Noncovered_Indicator_4', 'Related_Product_Indicator', 'Covered_or_Noncovered_Indicator_5'])"
     ]
    }
   ],
   "source": [
    "# finding the columns that were in 2016-2017 but not in 2013-15\n",
    "\n",
    "unique_2016_2017 = set(columns_2[0]).difference(set(columns_1[0]))\n",
    "print(unique_2016_2017)"
   ]
  },
  {
   "cell_type": "code",
   "execution_count": 71,
   "metadata": {},
   "outputs": [
    {
     "name": "stdout",
     "output_type": "stream",
     "text": [
      "+--------------------------------------+-----------------------------------+---------------------------------------------------------+--------------------------------------------------------+---------------------------------+-------------------------+\n",
      "|Product_Category_or_Therapeutic_Area_1|Associated_Drug_or_Biological_NDC_1|Indicate_Drug_or_Biological_or_Device_or_Medical_Supply_1|Name_of_Drug_or_Biological_or_Device_or_Medical_Supply_1|Covered_or_Noncovered_Indicator_1|Related_Product_Indicator|\n",
      "+--------------------------------------+-----------------------------------+---------------------------------------------------------+--------------------------------------------------------+---------------------------------+-------------------------+\n",
      "|                             Radiology|                                   |                                                   Device|                                    STAR Tumor Ablati...|                          Covered|                      Yes|\n",
      "|                             Radiology|                                   |                                                   Device|                                    STAR Tumor Ablati...|                          Covered|                      Yes|\n",
      "|                             Radiology|                                   |                                                   Device|                                    STAR Tumor Ablati...|                          Covered|                      Yes|\n",
      "+--------------------------------------+-----------------------------------+---------------------------------------------------------+--------------------------------------------------------+---------------------------------+-------------------------+\n",
      "only showing top 3 rows"
     ]
    }
   ],
   "source": [
    "# looking at the values of some of the columns to see \n",
    "# if they're similar to columns from the 2013-2015 dataset\n",
    "\n",
    "research_2016_2017_df.select('Product_Category_or_Therapeutic_Area_1', \n",
    "                             'Associated_Drug_or_Biological_NDC_1',\n",
    "                             'Indicate_Drug_or_Biological_or_Device_or_Medical_Supply_1',\n",
    "                             'Name_of_Drug_or_Biological_or_Device_or_Medical_Supply_1',\n",
    "                             'Covered_or_Noncovered_Indicator_1',\n",
    "                             'Related_Product_Indicator').show(3)"
   ]
  },
  {
   "cell_type": "code",
   "execution_count": 72,
   "metadata": {},
   "outputs": [],
   "source": [
    "modified_2013_2015_df = research_2013_2015_df.withColumn(\"Product_Category_or_Therapeutic_Area_1\", lit(\"Not Field\"))\n",
    "modified_2013_2015_df = modified_2013_2015_df.withColumn('Product_Category_or_Therapeutic_Area_2', lit('Not Field'))\n",
    "modified_2013_2015_df = modified_2013_2015_df.withColumn('Product_Category_or_Therapeutic_Area_3', lit('Not Field'))\n",
    "modified_2013_2015_df = modified_2013_2015_df.withColumn('Product_Category_or_Therapeutic_Area_4', lit('Not Field'))\n",
    "modified_2013_2015_df = modified_2013_2015_df.withColumn('Product_Category_or_Therapeutic_Area_5', lit('Not Field'))\n",
    "\n",
    "modified_2013_2015_df = modified_2013_2015_df.withColumn('Indicate_Drug_or_Biological_or_Device_or_Medical_Supply_1', \n",
    "                                                         lit('Not Field'))\n",
    "modified_2013_2015_df = modified_2013_2015_df.withColumn('Indicate_Drug_or_Biological_or_Device_or_Medical_Supply_2', \n",
    "                                                         lit('Not Field'))\n",
    "modified_2013_2015_df = modified_2013_2015_df.withColumn('Indicate_Drug_or_Biological_or_Device_or_Medical_Supply_3', \n",
    "                                                         lit('Not Field'))\n",
    "modified_2013_2015_df = modified_2013_2015_df.withColumn('Indicate_Drug_or_Biological_or_Device_or_Medical_Supply_4', \n",
    "                                                         lit('Not Field'))\n",
    "modified_2013_2015_df = modified_2013_2015_df.withColumn('Indicate_Drug_or_Biological_or_Device_or_Medical_Supply_5', \n",
    "                                                         lit('Not Field'))\n",
    "\n",
    "modified_2013_2015_df = modified_2013_2015_df.withColumn('Related_Product_Indicator', lit('Not Field'))\n",
    "modified_2013_2015_df = modified_2013_2015_df.withColumn('type', lit('research'))\n"
   ]
  },
  {
   "cell_type": "code",
   "execution_count": 73,
   "metadata": {},
   "outputs": [],
   "source": [
    "custom_udf = udf(check_columns, StringType())\n",
    "\n",
    "modified_2013_2015_df = modified_2013_2015_df.withColumn('Name_of_Drug_or_Biological_or_Device_or_Medical_Supply_1', \n",
    "                                                         custom_udf(modified_2013_2015_df['Name_of_Associated_Covered_Drug_or_Biological1'],\n",
    "                                                                    modified_2013_2015_df['Name_of_Associated_Covered_Device_or_Medical_Supply1']))\n"
   ]
  },
  {
   "cell_type": "code",
   "execution_count": 74,
   "metadata": {},
   "outputs": [],
   "source": [
    "modified_2013_2015_df = modified_2013_2015_df.withColumn('Name_of_Drug_or_Biological_or_Device_or_Medical_Supply_2', \n",
    "                                                         custom_udf(modified_2013_2015_df['Name_of_Associated_Covered_Drug_or_Biological2'],\n",
    "                                                                    modified_2013_2015_df['Name_of_Associated_Covered_Device_or_Medical_Supply2']))\n",
    "modified_2013_2015_df = modified_2013_2015_df.withColumn('Name_of_Drug_or_Biological_or_Device_or_Medical_Supply_3', \n",
    "                                                         custom_udf(modified_2013_2015_df['Name_of_Associated_Covered_Drug_or_Biological3'],\n",
    "                                                                    modified_2013_2015_df['Name_of_Associated_Covered_Device_or_Medical_Supply3']))\n",
    "modified_2013_2015_df = modified_2013_2015_df.withColumn('Name_of_Drug_or_Biological_or_Device_or_Medical_Supply_4', \n",
    "                                                         custom_udf(modified_2013_2015_df['Name_of_Associated_Covered_Drug_or_Biological4'],\n",
    "                                                                    modified_2013_2015_df['Name_of_Associated_Covered_Device_or_Medical_Supply4']))\n",
    "modified_2013_2015_df = modified_2013_2015_df.withColumn('Name_of_Drug_or_Biological_or_Device_or_Medical_Supply_5', \n",
    "                                                         custom_udf(modified_2013_2015_df['Name_of_Associated_Covered_Drug_or_Biological5'],\n",
    "                                                                    modified_2013_2015_df['Name_of_Associated_Covered_Device_or_Medical_Supply5']))"
   ]
  },
  {
   "cell_type": "code",
   "execution_count": 75,
   "metadata": {},
   "outputs": [],
   "source": [
    "new_column_name = 'Drug_or_Biological_NDC_1'\n",
    "\n",
    "modified_2013_2015_df = modified_2013_2015_df.withColumnRenamed('NDC_of_Associated_Covered_Drug_or_Biological1', \n",
    "                                                                new_column_name)\n",
    "\n",
    "modified_2016_2017_df = research_2016_2017_df.withColumnRenamed('Associated_Drug_or_Biological_NDC_1', \n",
    "                                                               new_column_name)\n",
    "\n",
    "modified_2016_2017_df = modified_2016_2017_df.withColumn('type', lit('research'))"
   ]
  },
  {
   "cell_type": "code",
   "execution_count": 76,
   "metadata": {},
   "outputs": [],
   "source": [
    "# for columns that are similar in content (between the 2013-2015 and 2016-2017 data\n",
    "# but are named differently, we created a new third column \n",
    "\n",
    "new_column_name_2 = 'Drug_or_Biological_NDC_2'\n",
    "\n",
    "modified_2013_2015_df = modified_2013_2015_df.withColumnRenamed('NDC_of_Associated_Covered_Drug_or_Biological2', \n",
    "                                                                new_column_name_2)\n",
    "\n",
    "modified_2016_2017_df = modified_2016_2017_df.withColumnRenamed('Associated_Drug_or_Biological_NDC_2', \n",
    "                                                               new_column_name_2)\n",
    "\n",
    "new_column_name_3 = 'Drug_or_Biological_NDC_3'\n",
    "\n",
    "modified_2013_2015_df = modified_2013_2015_df.withColumnRenamed('NDC_of_Associated_Covered_Drug_or_Biological3', \n",
    "                                                                new_column_name_3)\n",
    "\n",
    "modified_2016_2017_df = modified_2016_2017_df.withColumnRenamed('Associated_Drug_or_Biological_NDC_3', \n",
    "                                                               new_column_name_3)\n",
    "new_column_name_4 = 'Drug_or_Biological_NDC_4'\n",
    "\n",
    "modified_2013_2015_df = modified_2013_2015_df.withColumnRenamed('NDC_of_Associated_Covered_Drug_or_Biological4', \n",
    "                                                                new_column_name_4)\n",
    "\n",
    "modified_2016_2017_df = modified_2016_2017_df.withColumnRenamed('Associated_Drug_or_Biological_NDC_4', \n",
    "                                                               new_column_name_4)\n",
    "new_column_name_5 = 'Drug_or_Biological_NDC_5'\n",
    "\n",
    "modified_2013_2015_df = modified_2013_2015_df.withColumnRenamed('NDC_of_Associated_Covered_Drug_or_Biological5', \n",
    "                                                                new_column_name_5)\n",
    "\n",
    "modified_2016_2017_df = modified_2016_2017_df.withColumnRenamed('Associated_Drug_or_Biological_NDC_5', \n",
    "                                                               new_column_name_5)"
   ]
  },
  {
   "cell_type": "code",
   "execution_count": 77,
   "metadata": {},
   "outputs": [],
   "source": [
    "modified_2013_2015_df = modified_2013_2015_df.drop('Name_of_Associated_Covered_Device_or_Medical_Supply1', \n",
    "                                                   'Name_of_Associated_Covered_Device_or_Medical_Supply2',\n",
    "                                                  'Name_of_Associated_Covered_Device_or_Medical_Supply3',\n",
    "                                                  'Name_of_Associated_Covered_Device_or_Medical_Supply4',\n",
    "                                                  'Name_of_Associated_Covered_Device_or_Medical_Supply5',\n",
    "                                                  'Name_of_Associated_Covered_Drug_or_Biological1',\n",
    "                                                  'Name_of_Associated_Covered_Drug_or_Biological2',\n",
    "                                                  'Name_of_Associated_Covered_Drug_or_Biological3',\n",
    "                                                  'Name_of_Associated_Covered_Drug_or_Biological4',\n",
    "                                                  'Name_of_Associated_Covered_Drug_or_Biological5')"
   ]
  },
  {
   "cell_type": "code",
   "execution_count": 78,
   "metadata": {},
   "outputs": [],
   "source": [
    "# for those columns that didn't exist in the 2013-2015 dataset \n",
    "\n",
    "modified_2013_2015_df = modified_2013_2015_df.withColumn('Covered_or_Noncovered_Indicator_1', lit('Not Field'))\n",
    "modified_2013_2015_df = modified_2013_2015_df.withColumn('Covered_or_Noncovered_Indicator_2', lit('Not Field'))\n",
    "modified_2013_2015_df = modified_2013_2015_df.withColumn('Covered_or_Noncovered_Indicator_3', lit('Not Field'))\n",
    "modified_2013_2015_df = modified_2013_2015_df.withColumn('Covered_or_Noncovered_Indicator_4', lit('Not Field'))\n",
    "modified_2013_2015_df = modified_2013_2015_df.withColumn('Covered_or_Noncovered_Indicator_5', lit('Not Field'))\n",
    "\n",
    "modified_2016_2017_df = modified_2016_2017_df.withColumn('Product_Indicator', lit('Not Field'))"
   ]
  },
  {
   "cell_type": "code",
   "execution_count": 79,
   "metadata": {},
   "outputs": [
    {
     "name": "stdout",
     "output_type": "stream",
     "text": [
      "set([])"
     ]
    }
   ],
   "source": [
    "# confirming that there are no columns that are in the 2013-2015 dataset but not in the 2016-2017 dataset\n",
    "\n",
    "print(set(modified_2013_2015_df.columns).difference(set(modified_2016_2017_df.columns)))"
   ]
  },
  {
   "cell_type": "code",
   "execution_count": 80,
   "metadata": {},
   "outputs": [
    {
     "name": "stdout",
     "output_type": "stream",
     "text": [
      "set([])"
     ]
    }
   ],
   "source": [
    "# confirming that there are no columns that are in the 2016-2017 dataset but not in the 2013-2015 dataset\n",
    "\n",
    "print(set(modified_2016_2017_df.columns).difference(set(modified_2013_2015_df.columns)))"
   ]
  },
  {
   "cell_type": "code",
   "execution_count": 26,
   "metadata": {},
   "outputs": [
    {
     "name": "stdout",
     "output_type": "stream",
     "text": [
      "2035194\n",
      "1470472"
     ]
    }
   ],
   "source": [
    "# checking how many rows are in each dataset\n",
    "\n",
    "print(modified_2013_2015_df.count())\n",
    "print(modified_2016_2017_df.count())"
   ]
  },
  {
   "cell_type": "code",
   "execution_count": 88,
   "metadata": {},
   "outputs": [],
   "source": [
    "# at this point, all of the research data is standardized\n",
    "\n",
    "total_research_df = modified_2013_2015_df.union(modified_2016_2017_df)\n"
   ]
  },
  {
   "cell_type": "code",
   "execution_count": 51,
   "metadata": {},
   "outputs": [
    {
     "name": "stdout",
     "output_type": "stream",
     "text": [
      "3505666"
     ]
    }
   ],
   "source": [
    "# verifying the number of rows matches the sum of the two previous numbers\n",
    "\n",
    "print(total_research_df.count())"
   ]
  },
  {
   "cell_type": "code",
   "execution_count": 89,
   "metadata": {},
   "outputs": [
    {
     "name": "stdout",
     "output_type": "stream",
     "text": [
      "178"
     ]
    }
   ],
   "source": [
    "# confirming the number of columns\n",
    "\n",
    "print(len(total_research_df.columns))"
   ]
  },
  {
   "cell_type": "code",
   "execution_count": 34,
   "metadata": {},
   "outputs": [
    {
     "name": "stdout",
     "output_type": "stream",
     "text": [
      "2034828"
     ]
    }
   ],
   "source": [
    "total_research_df.filter(total_research_df.Total_Amount_of_Payment_USDollars!=0.0).count()"
   ]
  },
  {
   "cell_type": "code",
   "execution_count": null,
   "metadata": {},
   "outputs": [],
   "source": [
    "total_research_df.filter(total_research_df.Total_Amount_of_Payment_USDollars==0.0).count()"
   ]
  },
  {
   "cell_type": "code",
   "execution_count": 36,
   "metadata": {},
   "outputs": [
    {
     "name": "stdout",
     "output_type": "stream",
     "text": [
      "+------------------------------------+\n",
      "|Form_of_Payment_or_Transfer_of_Value|\n",
      "+------------------------------------+\n",
      "|                Cash or cash equi...|\n",
      "|                In-kind items and...|\n",
      "+------------------------------------+"
     ]
    }
   ],
   "source": [
    "total_research_df.filter(total_research_df.Total_Amount_of_Payment_USDollars==0.0)\\\n",
    "                 .select('Form_of_Payment_or_Transfer_of_Value').distinct().show()\n"
   ]
  },
  {
   "cell_type": "code",
   "execution_count": 107,
   "metadata": {},
   "outputs": [],
   "source": [
    "modified_total_research_df = total_research_df.drop('Physician_License_State_code2',\n",
    "                                                   'Physician_License_State_code3',\n",
    "                                                   'Physician_License_State_code4',\n",
    "                                                   'Physician_License_State_code5',\n",
    "                                                   'Teaching_Hospital_CCN',\n",
    "                                                   'Payment_Publication_Date',\n",
    "                                                   'Recipient_Postal_Code',\n",
    "                                                   'Recipient_Province',\n",
    "                                                    'Submitting_Applicable_Manufacturer_or_Applicable_GPO_Name', \n",
    "                                                    'Applicable_Manufacturer_or_Applicable_GPO_Making_Payment_ID', \n",
    "                                                    'Applicable_Manufacturer_or_Applicable_GPO_Making_Payment_Name',\n",
    "                                                    'Principal_Investigator_1_First_Name', \n",
    "                                                    'Principal_Investigator_1_Middle_Name', \n",
    "                                                    'Principal_Investigator_1_Last_Name', \n",
    "                                                    'Principal_Investigator_1_Name_Suffix',\n",
    "                                                    'Principal_Investigator_2_First_Name', \n",
    "                                                    'Principal_Investigator_2_Middle_Name', \n",
    "                                                    'Principal_Investigator_2_Last_Name', \n",
    "                                                    'Principal_Investigator_2_Name_Suffix',\n",
    "                                                    'Principal_Investigator_3_First_Name', \n",
    "                                                    'Principal_Investigator_3_Middle_Name', \n",
    "                                                    'Principal_Investigator_3_Last_Name', \n",
    "                                                    'Principal_Investigator_3_Name_Suffix',\n",
    "                                                    'Principal_Investigator_4_First_Name', \n",
    "                                                    'Principal_Investigator_4_Middle_Name', \n",
    "                                                    'Principal_Investigator_4_Last_Name', \n",
    "                                                    'Principal_Investigator_4_Name_Suffix',\n",
    "                                                    'Principal_Investigator_5_First_Name', \n",
    "                                                    'Principal_Investigator_5_Middle_Name', \n",
    "                                                    'Principal_Investigator_5_Last_Name', \n",
    "                                                    'Principal_Investigator_5_Name_Suffix',\n",
    "                                                    'Physician_First_Name', \n",
    "                                                    'Physician_Middle_Name', \n",
    "                                                    'Physician_Last_Name', \n",
    "                                                    'Physician_Name_Suffix',\n",
    "                                                    'Recipient_Primary_Business_Street_Address_Line1', \n",
    "                                                    'Recipient_Primary_Business_Street_Address_Line2',\n",
    "                                                    'Noncovered_Recipient_Entity_Name',\n",
    "                                                    'Teaching_Hospital_Name',\n",
    "                                                    'Name_of_Study',\n",
    "                                                    'Name_of_Drug_or_Biological_or_Device_or_Medical_Supply_1', \n",
    "                                                    'Name_of_Drug_or_Biological_or_Device_or_Medical_Supply_2', \n",
    "                                                    'Name_of_Drug_or_Biological_or_Device_or_Medical_Supply_3', \n",
    "                                                    'Name_of_Drug_or_Biological_or_Device_or_Medical_Supply_4', \n",
    "                                                    'Name_of_Drug_or_Biological_or_Device_or_Medical_Supply_5',\n",
    "                                                    'Drug_or_Biological_NDC_1', \n",
    "                                                    'Drug_or_Biological_NDC_2', \n",
    "                                                    'Drug_or_Biological_NDC_3', \n",
    "                                                    'Drug_or_Biological_NDC_4', \n",
    "                                                    'Drug_or_Biological_NDC_5',\n",
    "                                                    'Principal_Investigator_1_Business_Street_Address_Line1', \n",
    "                                                    'Principal_Investigator_1_Business_Street_Address_Line2',\n",
    "                                                    'Principal_Investigator_2_Business_Street_Address_Line1', \n",
    "                                                    'Principal_Investigator_2_Business_Street_Address_Line2',\n",
    "                                                    'Principal_Investigator_3_Business_Street_Address_Line1', \n",
    "                                                    'Principal_Investigator_3_Business_Street_Address_Line2',\n",
    "                                                    'Principal_Investigator_4_Business_Street_Address_Line1', \n",
    "                                                    'Principal_Investigator_4_Business_Street_Address_Line2',\n",
    "                                                    'Principal_Investigator_5_Business_Street_Address_Line1', \n",
    "                                                    'Principal_Investigator_5_Business_Street_Address_Line2'\n",
    "                                                   )"
   ]
  },
  {
   "cell_type": "code",
   "execution_count": 108,
   "metadata": {},
   "outputs": [
    {
     "name": "stdout",
     "output_type": "stream",
     "text": [
      "118"
     ]
    }
   ],
   "source": [
    "print(len(modified_total_research_df.columns))"
   ]
  },
  {
   "cell_type": "code",
   "execution_count": 100,
   "metadata": {},
   "outputs": [
    {
     "name": "stdout",
     "output_type": "stream",
     "text": [
      "['Change_Type', 'Covered_Recipient_Type', 'Teaching_Hospital_ID', 'Physician_Profile_ID', 'Recipient_City', 'Recipient_State', 'Recipient_Zip_Code', 'Recipient_Country', 'Physician_Primary_Type', 'Physician_Specialty', 'Physician_License_State_code1', 'Principal_Investigator_1_Profile_ID', 'Principal_Investigator_1_Business_Street_Address_Line1', 'Principal_Investigator_1_Business_Street_Address_Line2', 'Principal_Investigator_1_City', 'Principal_Investigator_1_State', 'Principal_Investigator_1_Zip_Code', 'Principal_Investigator_1_Country', 'Principal_Investigator_1_Province', 'Principal_Investigator_1_Postal_Code', 'Principal_Investigator_1_Primary_Type', 'Principal_Investigator_1_Specialty', 'Principal_Investigator_1_License_State_code1', 'Principal_Investigator_1_License_State_code2', 'Principal_Investigator_1_License_State_code3', 'Principal_Investigator_1_License_State_code4', 'Principal_Investigator_1_License_State_code5', 'Principal_Investigator_2_Profile_ID', 'Principal_Investigator_2_Business_Street_Address_Line1', 'Principal_Investigator_2_Business_Street_Address_Line2', 'Principal_Investigator_2_City', 'Principal_Investigator_2_State', 'Principal_Investigator_2_Zip_Code', 'Principal_Investigator_2_Country', 'Principal_Investigator_2_Province', 'Principal_Investigator_2_Postal_Code', 'Principal_Investigator_2_Primary_Type', 'Principal_Investigator_2_Specialty', 'Principal_Investigator_2_License_State_code1', 'Principal_Investigator_2_License_State_code2', 'Principal_Investigator_2_License_State_code3', 'Principal_Investigator_2_License_State_code4', 'Principal_Investigator_2_License_State_code5', 'Principal_Investigator_3_Profile_ID', 'Principal_Investigator_3_Business_Street_Address_Line1', 'Principal_Investigator_3_Business_Street_Address_Line2', 'Principal_Investigator_3_City', 'Principal_Investigator_3_State', 'Principal_Investigator_3_Zip_Code', 'Principal_Investigator_3_Country', 'Principal_Investigator_3_Province', 'Principal_Investigator_3_Postal_Code', 'Principal_Investigator_3_Primary_Type', 'Principal_Investigator_3_Specialty', 'Principal_Investigator_3_License_State_code1', 'Principal_Investigator_3_License_State_code2', 'Principal_Investigator_3_License_State_code3', 'Principal_Investigator_3_License_State_code4', 'Principal_Investigator_3_License_State_code5', 'Principal_Investigator_4_Profile_ID', 'Principal_Investigator_4_Business_Street_Address_Line1', 'Principal_Investigator_4_Business_Street_Address_Line2', 'Principal_Investigator_4_City', 'Principal_Investigator_4_State', 'Principal_Investigator_4_Zip_Code', 'Principal_Investigator_4_Country', 'Principal_Investigator_4_Province', 'Principal_Investigator_4_Postal_Code', 'Principal_Investigator_4_Primary_Type', 'Principal_Investigator_4_Specialty', 'Principal_Investigator_4_License_State_code1', 'Principal_Investigator_4_License_State_code2', 'Principal_Investigator_4_License_State_code3', 'Principal_Investigator_4_License_State_code4', 'Principal_Investigator_4_License_State_code5', 'Principal_Investigator_5_Profile_ID', 'Principal_Investigator_5_Business_Street_Address_Line1', 'Principal_Investigator_5_Business_Street_Address_Line2', 'Principal_Investigator_5_City', 'Principal_Investigator_5_State', 'Principal_Investigator_5_Zip_Code', 'Principal_Investigator_5_Country', 'Principal_Investigator_5_Province', 'Principal_Investigator_5_Postal_Code', 'Principal_Investigator_5_Primary_Type', 'Principal_Investigator_5_Specialty', 'Principal_Investigator_5_License_State_code1', 'Principal_Investigator_5_License_State_code2', 'Principal_Investigator_5_License_State_code3', 'Principal_Investigator_5_License_State_code4', 'Principal_Investigator_5_License_State_code5', 'Applicable_Manufacturer_or_Applicable_GPO_Making_Payment_State', 'Applicable_Manufacturer_or_Applicable_GPO_Making_Payment_Country', 'Product_Indicator', 'Drug_or_Biological_NDC_1', 'Drug_or_Biological_NDC_2', 'Drug_or_Biological_NDC_3', 'Drug_or_Biological_NDC_4', 'Drug_or_Biological_NDC_5', 'Total_Amount_of_Payment_USDollars', 'Date_of_Payment', 'Form_of_Payment_or_Transfer_of_Value', 'Expenditure_Category1', 'Expenditure_Category2', 'Expenditure_Category3', 'Expenditure_Category4', 'Expenditure_Category5', 'Expenditure_Category6', 'Preclinical_Research_Indicator', 'Delay_in_Publication_Indicator', 'Dispute_Status_for_Publication', 'Record_ID', 'Program_Year', 'ClinicalTrials_Gov_Identifier', 'Research_Information_Link', 'Context_of_Research', 'Product_Category_or_Therapeutic_Area_1', 'Product_Category_or_Therapeutic_Area_2', 'Product_Category_or_Therapeutic_Area_3', 'Product_Category_or_Therapeutic_Area_4', 'Product_Category_or_Therapeutic_Area_5', 'Indicate_Drug_or_Biological_or_Device_or_Medical_Supply_1', 'Indicate_Drug_or_Biological_or_Device_or_Medical_Supply_2', 'Indicate_Drug_or_Biological_or_Device_or_Medical_Supply_3', 'Indicate_Drug_or_Biological_or_Device_or_Medical_Supply_4', 'Indicate_Drug_or_Biological_or_Device_or_Medical_Supply_5', 'Related_Product_Indicator', 'type', 'Covered_or_Noncovered_Indicator_1', 'Covered_or_Noncovered_Indicator_2', 'Covered_or_Noncovered_Indicator_3', 'Covered_or_Noncovered_Indicator_4', 'Covered_or_Noncovered_Indicator_5']"
     ]
    }
   ],
   "source": [
    "modified_total_research_df.columns"
   ]
  },
  {
   "cell_type": "code",
   "execution_count": 109,
   "metadata": {},
   "outputs": [],
   "source": [
    "subset = modified_total_research_df.limit(100)"
   ]
  },
  {
   "cell_type": "code",
   "execution_count": 110,
   "metadata": {},
   "outputs": [],
   "source": [
    "subset.coalesce(1).write.save(\"s3a://msds697-openpayments/subset_research_100\", format='csv', header=True)\n"
   ]
  },
  {
   "cell_type": "code",
   "execution_count": null,
   "metadata": {},
   "outputs": [],
   "source": [
    "modified_total_research_df.coalesce(1).write.save(\"s3a://msds697-openpayments/total_research_unfiltered\",\n",
    "                                                  format='csv', header=True)\n"
   ]
  },
  {
   "cell_type": "code",
   "execution_count": 44,
   "metadata": {},
   "outputs": [],
   "source": [
    "modified_total_research_df.coalesce(1).write.save(\"s3a://msds697-openpayments/total_research_unfiltered\",\n",
    "                                                  format='csv', header=True)\n"
   ]
  },
  {
   "cell_type": "code",
   "execution_count": 45,
   "metadata": {},
   "outputs": [
    {
     "name": "stdout",
     "output_type": "stream",
     "text": [
      "2034828"
     ]
    }
   ],
   "source": [
    "# filter to remove rows with 0 dollars\n",
    "\n",
    "filtered_total_research_df = modified_total_research_df.filter(total_research_df.Total_Amount_of_Payment_USDollars != 0.0)\n",
    "print(filtered_total_research_df.count())"
   ]
  },
  {
   "cell_type": "code",
   "execution_count": 46,
   "metadata": {},
   "outputs": [],
   "source": [
    "modified_total_research_df.coalesce(1).write.save(\"s3a://msds697-openpayments/total_research_filtered\",\n",
    "                                                  format='csv', header=True)\n"
   ]
  },
  {
   "cell_type": "code",
   "execution_count": 30,
   "metadata": {},
   "outputs": [
    {
     "name": "stdout",
     "output_type": "stream",
     "text": [
      "177"
     ]
    }
   ],
   "source": [
    "print(len(total_research_df.columns))"
   ]
  },
  {
   "cell_type": "code",
   "execution_count": 31,
   "metadata": {},
   "outputs": [
    {
     "name": "stdout",
     "output_type": "stream",
     "text": [
      "['Change_Type', 'Covered_Recipient_Type', 'Noncovered_Recipient_Entity_Name', 'Teaching_Hospital_CCN', 'Teaching_Hospital_ID', 'Teaching_Hospital_Name', 'Physician_Profile_ID', 'Physician_First_Name', 'Physician_Middle_Name', 'Physician_Last_Name', 'Physician_Name_Suffix', 'Recipient_Primary_Business_Street_Address_Line1', 'Recipient_Primary_Business_Street_Address_Line2', 'Recipient_City', 'Recipient_State', 'Recipient_Zip_Code', 'Recipient_Country', 'Recipient_Province', 'Recipient_Postal_Code', 'Physician_Primary_Type', 'Physician_Specialty', 'Physician_License_State_code1', 'Physician_License_State_code2', 'Physician_License_State_code3', 'Physician_License_State_code4', 'Physician_License_State_code5', 'Principal_Investigator_1_Profile_ID', 'Principal_Investigator_1_First_Name', 'Principal_Investigator_1_Middle_Name', 'Principal_Investigator_1_Last_Name', 'Principal_Investigator_1_Name_Suffix', 'Principal_Investigator_1_Business_Street_Address_Line1', 'Principal_Investigator_1_Business_Street_Address_Line2', 'Principal_Investigator_1_City', 'Principal_Investigator_1_State', 'Principal_Investigator_1_Zip_Code', 'Principal_Investigator_1_Country', 'Principal_Investigator_1_Province', 'Principal_Investigator_1_Postal_Code', 'Principal_Investigator_1_Primary_Type', 'Principal_Investigator_1_Specialty', 'Principal_Investigator_1_License_State_code1', 'Principal_Investigator_1_License_State_code2', 'Principal_Investigator_1_License_State_code3', 'Principal_Investigator_1_License_State_code4', 'Principal_Investigator_1_License_State_code5', 'Principal_Investigator_2_Profile_ID', 'Principal_Investigator_2_First_Name', 'Principal_Investigator_2_Middle_Name', 'Principal_Investigator_2_Last_Name', 'Principal_Investigator_2_Name_Suffix', 'Principal_Investigator_2_Business_Street_Address_Line1', 'Principal_Investigator_2_Business_Street_Address_Line2', 'Principal_Investigator_2_City', 'Principal_Investigator_2_State', 'Principal_Investigator_2_Zip_Code', 'Principal_Investigator_2_Country', 'Principal_Investigator_2_Province', 'Principal_Investigator_2_Postal_Code', 'Principal_Investigator_2_Primary_Type', 'Principal_Investigator_2_Specialty', 'Principal_Investigator_2_License_State_code1', 'Principal_Investigator_2_License_State_code2', 'Principal_Investigator_2_License_State_code3', 'Principal_Investigator_2_License_State_code4', 'Principal_Investigator_2_License_State_code5', 'Principal_Investigator_3_Profile_ID', 'Principal_Investigator_3_First_Name', 'Principal_Investigator_3_Middle_Name', 'Principal_Investigator_3_Last_Name', 'Principal_Investigator_3_Name_Suffix', 'Principal_Investigator_3_Business_Street_Address_Line1', 'Principal_Investigator_3_Business_Street_Address_Line2', 'Principal_Investigator_3_City', 'Principal_Investigator_3_State', 'Principal_Investigator_3_Zip_Code', 'Principal_Investigator_3_Country', 'Principal_Investigator_3_Province', 'Principal_Investigator_3_Postal_Code', 'Principal_Investigator_3_Primary_Type', 'Principal_Investigator_3_Specialty', 'Principal_Investigator_3_License_State_code1', 'Principal_Investigator_3_License_State_code2', 'Principal_Investigator_3_License_State_code3', 'Principal_Investigator_3_License_State_code4', 'Principal_Investigator_3_License_State_code5', 'Principal_Investigator_4_Profile_ID', 'Principal_Investigator_4_First_Name', 'Principal_Investigator_4_Middle_Name', 'Principal_Investigator_4_Last_Name', 'Principal_Investigator_4_Name_Suffix', 'Principal_Investigator_4_Business_Street_Address_Line1', 'Principal_Investigator_4_Business_Street_Address_Line2', 'Principal_Investigator_4_City', 'Principal_Investigator_4_State', 'Principal_Investigator_4_Zip_Code', 'Principal_Investigator_4_Country', 'Principal_Investigator_4_Province', 'Principal_Investigator_4_Postal_Code', 'Principal_Investigator_4_Primary_Type', 'Principal_Investigator_4_Specialty', 'Principal_Investigator_4_License_State_code1', 'Principal_Investigator_4_License_State_code2', 'Principal_Investigator_4_License_State_code3', 'Principal_Investigator_4_License_State_code4', 'Principal_Investigator_4_License_State_code5', 'Principal_Investigator_5_Profile_ID', 'Principal_Investigator_5_First_Name', 'Principal_Investigator_5_Middle_Name', 'Principal_Investigator_5_Last_Name', 'Principal_Investigator_5_Name_Suffix', 'Principal_Investigator_5_Business_Street_Address_Line1', 'Principal_Investigator_5_Business_Street_Address_Line2', 'Principal_Investigator_5_City', 'Principal_Investigator_5_State', 'Principal_Investigator_5_Zip_Code', 'Principal_Investigator_5_Country', 'Principal_Investigator_5_Province', 'Principal_Investigator_5_Postal_Code', 'Principal_Investigator_5_Primary_Type', 'Principal_Investigator_5_Specialty', 'Principal_Investigator_5_License_State_code1', 'Principal_Investigator_5_License_State_code2', 'Principal_Investigator_5_License_State_code3', 'Principal_Investigator_5_License_State_code4', 'Principal_Investigator_5_License_State_code5', 'Submitting_Applicable_Manufacturer_or_Applicable_GPO_Name', 'Applicable_Manufacturer_or_Applicable_GPO_Making_Payment_ID', 'Applicable_Manufacturer_or_Applicable_GPO_Making_Payment_Name', 'Applicable_Manufacturer_or_Applicable_GPO_Making_Payment_State', 'Applicable_Manufacturer_or_Applicable_GPO_Making_Payment_Country', 'Product_Indicator', 'Drug_or_Biological_NDC_1', 'Drug_or_Biological_NDC_2', 'Drug_or_Biological_NDC_3', 'Drug_or_Biological_NDC_4', 'Drug_or_Biological_NDC_5', 'Total_Amount_of_Payment_USDollars', 'Date_of_Payment', 'Form_of_Payment_or_Transfer_of_Value', 'Expenditure_Category1', 'Expenditure_Category2', 'Expenditure_Category3', 'Expenditure_Category4', 'Expenditure_Category5', 'Expenditure_Category6', 'Preclinical_Research_Indicator', 'Delay_in_Publication_Indicator', 'Name_of_Study', 'Dispute_Status_for_Publication', 'Record_ID', 'Program_Year', 'Payment_Publication_Date', 'ClinicalTrials_Gov_Identifier', 'Research_Information_Link', 'Context_of_Research', 'Product_Category_or_Therapeutic_Area_1', 'Product_Category_or_Therapeutic_Area_2', 'Product_Category_or_Therapeutic_Area_3', 'Product_Category_or_Therapeutic_Area_4', 'Product_Category_or_Therapeutic_Area_5', 'Indicate_Drug_or_Biological_or_Device_or_Medical_Supply_1', 'Indicate_Drug_or_Biological_or_Device_or_Medical_Supply_2', 'Indicate_Drug_or_Biological_or_Device_or_Medical_Supply_3', 'Indicate_Drug_or_Biological_or_Device_or_Medical_Supply_4', 'Indicate_Drug_or_Biological_or_Device_or_Medical_Supply_5', 'Related_Product_Indicator', 'Name_of_Drug_or_Biological_or_Device_or_Medical_Supply_1', 'Name_of_Drug_or_Biological_or_Device_or_Medical_Supply_2', 'Name_of_Drug_or_Biological_or_Device_or_Medical_Supply_3', 'Name_of_Drug_or_Biological_or_Device_or_Medical_Supply_4', 'Name_of_Drug_or_Biological_or_Device_or_Medical_Supply_5', 'Covered_or_Noncovered_Indicator_1', 'Covered_or_Noncovered_Indicator_2', 'Covered_or_Noncovered_Indicator_3', 'Covered_or_Noncovered_Indicator_4', 'Covered_or_Noncovered_Indicator_5']"
     ]
    }
   ],
   "source": [
    "print(total_research_df.columns)"
   ]
  },
  {
   "cell_type": "code",
   "execution_count": 49,
   "metadata": {},
   "outputs": [],
   "source": [
    "# to unify the ownership files across the different years\n",
    "\n",
    "ownership_2013_2017 = sc.textFile(\"s3a://msds697-openpayments/OP_DTL_OWNRSHP_PGYR2017_P06292018.csv,\" + \n",
    "                                  \"s3a://msds697-openpayments/OP_DTL_OWNRSHP_PGYR2016_P06292018.csv,\" + \n",
    "                                  \"s3a://msds697-openpayments/OP_DTL_OWNRSHP_PGYR2015_P06292018.csv,\" + \n",
    "                                  \"s3a://msds697-openpayments/OP_DTL_OWNRSHP_PGYR2014_P06292018.csv,\" + \n",
    "                                  \"s3a://msds697-openpayments/OP_DTL_OWNRSHP_PGYR2013_P06292018.csv\", 2)\n",
    "\n"
   ]
  },
  {
   "cell_type": "code",
   "execution_count": 50,
   "metadata": {},
   "outputs": [
    {
     "name": "stdout",
     "output_type": "stream",
     "text": [
      "[['Change_Type', 'Physician_Profile_ID', 'Physician_First_Name', 'Physician_Middle_Name', 'Physician_Last_Name', 'Physician_Name_Suffix', 'Recipient_Primary_Business_Street_Address_Line1', 'Recipient_Primary_Business_Street_Address_Line2', 'Recipient_City', 'Recipient_State', 'Recipient_Zip_Code', 'Recipient_Country', 'Recipient_Province', 'Recipient_Postal_Code', 'Physician_Primary_Type', 'Physician_Specialty', 'Record_ID', 'Program_Year', 'Total_Amount_Invested_USDollars', 'Value_of_Interest', 'Terms_of_Interest', 'Submitting_Applicable_Manufacturer_or_Applicable_GPO_Name', 'Applicable_Manufacturer_or_Applicable_GPO_Making_Payment_ID', 'Applicable_Manufacturer_or_Applicable_GPO_Making_Payment_Name', 'Applicable_Manufacturer_or_Applicable_GPO_Making_Payment_State', 'Applicable_Manufacturer_or_Applicable_GPO_Making_Payment_Country', 'Dispute_Status_for_Publication', 'Interest_Held_by_Physician_or_an_Immediate_Family_Member', 'Payment_Publication_Date']]"
     ]
    }
   ],
   "source": [
    "columns_3 = ownership_2013_2017.map(split_comma).take(1)\n",
    "print(columns_3)"
   ]
  },
  {
   "cell_type": "code",
   "execution_count": 51,
   "metadata": {},
   "outputs": [
    {
     "name": "stdout",
     "output_type": "stream",
     "text": [
      "1"
     ]
    }
   ],
   "source": [
    "print(len(columns_3))"
   ]
  },
  {
   "cell_type": "code",
   "execution_count": 11,
   "metadata": {},
   "outputs": [],
   "source": [
    "test = sc.textFile('s3a://msds697-openpayments/subset_test_1/' + \n",
    "                   'part-00000-65c52fec-3de1-4643-9516-fa329ff684b2-c000.csv', \n",
    "                   2)\n"
   ]
  },
  {
   "cell_type": "code",
   "execution_count": 10,
   "metadata": {},
   "outputs": [
    {
     "name": "stderr",
     "output_type": "stream",
     "text": [
      "An error occurred while calling o188.partitions.\n",
      ": org.apache.hadoop.mapred.InvalidInputException: Input path does not exist: s3://msds697-openpayments/subset_test_1/part-00000-65c52fec-3de1-4643-9516-fa329ff684b2-c000.csv\n",
      "\tat org.apache.hadoop.mapred.FileInputFormat.singleThreadedListStatus(FileInputFormat.java:260)\n",
      "\tat org.apache.hadoop.mapred.FileInputFormat.listStatus(FileInputFormat.java:208)\n",
      "\tat org.apache.hadoop.mapred.FileInputFormat.getSplits(FileInputFormat.java:288)\n",
      "\tat org.apache.spark.rdd.HadoopRDD.getPartitions(HadoopRDD.scala:204)\n",
      "\tat org.apache.spark.rdd.RDD$$anonfun$partitions$2.apply(RDD.scala:253)\n",
      "\tat org.apache.spark.rdd.RDD$$anonfun$partitions$2.apply(RDD.scala:251)\n",
      "\tat scala.Option.getOrElse(Option.scala:121)\n",
      "\tat org.apache.spark.rdd.RDD.partitions(RDD.scala:251)\n",
      "\tat org.apache.spark.rdd.MapPartitionsRDD.getPartitions(MapPartitionsRDD.scala:49)\n",
      "\tat org.apache.spark.rdd.RDD$$anonfun$partitions$2.apply(RDD.scala:253)\n",
      "\tat org.apache.spark.rdd.RDD$$anonfun$partitions$2.apply(RDD.scala:251)\n",
      "\tat scala.Option.getOrElse(Option.scala:121)\n",
      "\tat org.apache.spark.rdd.RDD.partitions(RDD.scala:251)\n",
      "\tat org.apache.spark.api.java.JavaRDDLike$class.partitions(JavaRDDLike.scala:61)\n",
      "\tat org.apache.spark.api.java.AbstractJavaRDDLike.partitions(JavaRDDLike.scala:45)\n",
      "\tat sun.reflect.NativeMethodAccessorImpl.invoke0(Native Method)\n",
      "\tat sun.reflect.NativeMethodAccessorImpl.invoke(NativeMethodAccessorImpl.java:62)\n",
      "\tat sun.reflect.DelegatingMethodAccessorImpl.invoke(DelegatingMethodAccessorImpl.java:43)\n",
      "\tat java.lang.reflect.Method.invoke(Method.java:498)\n",
      "\tat py4j.reflection.MethodInvoker.invoke(MethodInvoker.java:244)\n",
      "\tat py4j.reflection.ReflectionEngine.invoke(ReflectionEngine.java:357)\n",
      "\tat py4j.Gateway.invoke(Gateway.java:282)\n",
      "\tat py4j.commands.AbstractCommand.invokeMethod(AbstractCommand.java:132)\n",
      "\tat py4j.commands.CallCommand.execute(CallCommand.java:79)\n",
      "\tat py4j.GatewayConnection.run(GatewayConnection.java:238)\n",
      "\tat java.lang.Thread.run(Thread.java:748)\n",
      "\n",
      "Traceback (most recent call last):\n",
      "  File \"/usr/lib/spark/python/lib/pyspark.zip/pyspark/rdd.py\", line 1327, in take\n",
      "    totalParts = self.getNumPartitions()\n",
      "  File \"/usr/lib/spark/python/lib/pyspark.zip/pyspark/rdd.py\", line 391, in getNumPartitions\n",
      "    return self._jrdd.partitions().size()\n",
      "  File \"/usr/lib/spark/python/lib/py4j-0.10.7-src.zip/py4j/java_gateway.py\", line 1257, in __call__\n",
      "    answer, self.gateway_client, self.target_id, self.name)\n",
      "  File \"/usr/lib/spark/python/lib/pyspark.zip/pyspark/sql/utils.py\", line 63, in deco\n",
      "    return f(*a, **kw)\n",
      "  File \"/usr/lib/spark/python/lib/py4j-0.10.7-src.zip/py4j/protocol.py\", line 328, in get_return_value\n",
      "    format(target_id, \".\", name), value)\n",
      "Py4JJavaError: An error occurred while calling o188.partitions.\n",
      ": org.apache.hadoop.mapred.InvalidInputException: Input path does not exist: s3://msds697-openpayments/subset_test_1/part-00000-65c52fec-3de1-4643-9516-fa329ff684b2-c000.csv\n",
      "\tat org.apache.hadoop.mapred.FileInputFormat.singleThreadedListStatus(FileInputFormat.java:260)\n",
      "\tat org.apache.hadoop.mapred.FileInputFormat.listStatus(FileInputFormat.java:208)\n",
      "\tat org.apache.hadoop.mapred.FileInputFormat.getSplits(FileInputFormat.java:288)\n",
      "\tat org.apache.spark.rdd.HadoopRDD.getPartitions(HadoopRDD.scala:204)\n",
      "\tat org.apache.spark.rdd.RDD$$anonfun$partitions$2.apply(RDD.scala:253)\n",
      "\tat org.apache.spark.rdd.RDD$$anonfun$partitions$2.apply(RDD.scala:251)\n",
      "\tat scala.Option.getOrElse(Option.scala:121)\n",
      "\tat org.apache.spark.rdd.RDD.partitions(RDD.scala:251)\n",
      "\tat org.apache.spark.rdd.MapPartitionsRDD.getPartitions(MapPartitionsRDD.scala:49)\n",
      "\tat org.apache.spark.rdd.RDD$$anonfun$partitions$2.apply(RDD.scala:253)\n",
      "\tat org.apache.spark.rdd.RDD$$anonfun$partitions$2.apply(RDD.scala:251)\n",
      "\tat scala.Option.getOrElse(Option.scala:121)\n",
      "\tat org.apache.spark.rdd.RDD.partitions(RDD.scala:251)\n",
      "\tat org.apache.spark.api.java.JavaRDDLike$class.partitions(JavaRDDLike.scala:61)\n",
      "\tat org.apache.spark.api.java.AbstractJavaRDDLike.partitions(JavaRDDLike.scala:45)\n",
      "\tat sun.reflect.NativeMethodAccessorImpl.invoke0(Native Method)\n",
      "\tat sun.reflect.NativeMethodAccessorImpl.invoke(NativeMethodAccessorImpl.java:62)\n",
      "\tat sun.reflect.DelegatingMethodAccessorImpl.invoke(DelegatingMethodAccessorImpl.java:43)\n",
      "\tat java.lang.reflect.Method.invoke(Method.java:498)\n",
      "\tat py4j.reflection.MethodInvoker.invoke(MethodInvoker.java:244)\n",
      "\tat py4j.reflection.ReflectionEngine.invoke(ReflectionEngine.java:357)\n",
      "\tat py4j.Gateway.invoke(Gateway.java:282)\n",
      "\tat py4j.commands.AbstractCommand.invokeMethod(AbstractCommand.java:132)\n",
      "\tat py4j.commands.CallCommand.execute(CallCommand.java:79)\n",
      "\tat py4j.GatewayConnection.run(GatewayConnection.java:238)\n",
      "\tat java.lang.Thread.run(Thread.java:748)\n",
      "\n",
      "\n"
     ]
    }
   ],
   "source": [
    "test.take(1)"
   ]
  },
  {
   "cell_type": "code",
   "execution_count": 16,
   "metadata": {},
   "outputs": [],
   "source": [
    "ss = SparkSession.builder.getOrCreate()"
   ]
  },
  {
   "cell_type": "code",
   "execution_count": 17,
   "metadata": {},
   "outputs": [
    {
     "name": "stderr",
     "output_type": "stream",
     "text": [
      "An error occurred while calling o218.csv.\n",
      ": java.nio.file.AccessDeniedException: s3a://msds697-openpayments/subset_test_1/part-00000-65c52fec-3de1-4643-9516-fa329ff684b2-c000.csv: getFileStatus on s3a://msds697-openpayments/subset_test_1/part-00000-65c52fec-3de1-4643-9516-fa329ff684b2-c000.csv: com.amazonaws.services.s3.model.AmazonS3Exception: Forbidden (Service: Amazon S3; Status Code: 403; Error Code: 403 Forbidden; Request ID: 66E1899044A2A03A; S3 Extended Request ID: i+bZtmt+P0bsrF01jc3+3tP3WBois5h9583Hl1Tk851iQwxFSJPbmgjUDGsUZyYZEMz4JSZdJkc=), S3 Extended Request ID: i+bZtmt+P0bsrF01jc3+3tP3WBois5h9583Hl1Tk851iQwxFSJPbmgjUDGsUZyYZEMz4JSZdJkc=\n",
      "\tat org.apache.hadoop.fs.s3a.S3AUtils.translateException(S3AUtils.java:158)\n",
      "\tat org.apache.hadoop.fs.s3a.S3AUtils.translateException(S3AUtils.java:101)\n",
      "\tat org.apache.hadoop.fs.s3a.S3AFileSystem.getFileStatus(S3AFileSystem.java:1568)\n",
      "\tat org.apache.hadoop.fs.s3a.S3AFileSystem.getFileStatus(S3AFileSystem.java:117)\n",
      "\tat org.apache.hadoop.fs.FileSystem.exists(FileSystem.java:1440)\n",
      "\tat org.apache.hadoop.fs.s3a.S3AFileSystem.exists(S3AFileSystem.java:2040)\n",
      "\tat org.apache.spark.sql.execution.datasources.DataSource$$anonfun$org$apache$spark$sql$execution$datasources$DataSource$$checkAndGlobPathIfNecessary$1.apply(DataSource.scala:557)\n",
      "\tat org.apache.spark.sql.execution.datasources.DataSource$$anonfun$org$apache$spark$sql$execution$datasources$DataSource$$checkAndGlobPathIfNecessary$1.apply(DataSource.scala:545)\n",
      "\tat scala.collection.TraversableLike$$anonfun$flatMap$1.apply(TraversableLike.scala:241)\n",
      "\tat scala.collection.TraversableLike$$anonfun$flatMap$1.apply(TraversableLike.scala:241)\n",
      "\tat scala.collection.immutable.List.foreach(List.scala:392)\n",
      "\tat scala.collection.TraversableLike$class.flatMap(TraversableLike.scala:241)\n",
      "\tat scala.collection.immutable.List.flatMap(List.scala:355)\n",
      "\tat org.apache.spark.sql.execution.datasources.DataSource.org$apache$spark$sql$execution$datasources$DataSource$$checkAndGlobPathIfNecessary(DataSource.scala:545)\n",
      "\tat org.apache.spark.sql.execution.datasources.DataSource.resolveRelation(DataSource.scala:359)\n",
      "\tat org.apache.spark.sql.DataFrameReader.loadV1Source(DataFrameReader.scala:223)\n",
      "\tat org.apache.spark.sql.DataFrameReader.load(DataFrameReader.scala:211)\n",
      "\tat org.apache.spark.sql.DataFrameReader.csv(DataFrameReader.scala:617)\n",
      "\tat sun.reflect.NativeMethodAccessorImpl.invoke0(Native Method)\n",
      "\tat sun.reflect.NativeMethodAccessorImpl.invoke(NativeMethodAccessorImpl.java:62)\n",
      "\tat sun.reflect.DelegatingMethodAccessorImpl.invoke(DelegatingMethodAccessorImpl.java:43)\n",
      "\tat java.lang.reflect.Method.invoke(Method.java:498)\n",
      "\tat py4j.reflection.MethodInvoker.invoke(MethodInvoker.java:244)\n",
      "\tat py4j.reflection.ReflectionEngine.invoke(ReflectionEngine.java:357)\n",
      "\tat py4j.Gateway.invoke(Gateway.java:282)\n",
      "\tat py4j.commands.AbstractCommand.invokeMethod(AbstractCommand.java:132)\n",
      "\tat py4j.commands.CallCommand.execute(CallCommand.java:79)\n",
      "\tat py4j.GatewayConnection.run(GatewayConnection.java:238)\n",
      "\tat java.lang.Thread.run(Thread.java:748)\n",
      "Caused by: com.amazonaws.services.s3.model.AmazonS3Exception: Forbidden (Service: Amazon S3; Status Code: 403; Error Code: 403 Forbidden; Request ID: 66E1899044A2A03A; S3 Extended Request ID: i+bZtmt+P0bsrF01jc3+3tP3WBois5h9583Hl1Tk851iQwxFSJPbmgjUDGsUZyYZEMz4JSZdJkc=), S3 Extended Request ID: i+bZtmt+P0bsrF01jc3+3tP3WBois5h9583Hl1Tk851iQwxFSJPbmgjUDGsUZyYZEMz4JSZdJkc=\n",
      "\tat com.amazonaws.http.AmazonHttpClient$RequestExecutor.handleErrorResponse(AmazonHttpClient.java:1695)\n",
      "\tat com.amazonaws.http.AmazonHttpClient$RequestExecutor.executeOneRequest(AmazonHttpClient.java:1350)\n",
      "\tat com.amazonaws.http.AmazonHttpClient$RequestExecutor.executeHelper(AmazonHttpClient.java:1101)\n",
      "\tat com.amazonaws.http.AmazonHttpClient$RequestExecutor.doExecute(AmazonHttpClient.java:758)\n",
      "\tat com.amazonaws.http.AmazonHttpClient$RequestExecutor.executeWithTimer(AmazonHttpClient.java:732)\n",
      "\tat com.amazonaws.http.AmazonHttpClient$RequestExecutor.execute(AmazonHttpClient.java:714)\n",
      "\tat com.amazonaws.http.AmazonHttpClient$RequestExecutor.access$500(AmazonHttpClient.java:674)\n",
      "\tat com.amazonaws.http.AmazonHttpClient$RequestExecutionBuilderImpl.execute(AmazonHttpClient.java:656)\n",
      "\tat com.amazonaws.http.AmazonHttpClient.execute(AmazonHttpClient.java:520)\n",
      "\tat com.amazonaws.services.s3.AmazonS3Client.invoke(AmazonS3Client.java:4705)\n",
      "\tat com.amazonaws.services.s3.AmazonS3Client.invoke(AmazonS3Client.java:4652)\n",
      "\tat com.amazonaws.services.s3.AmazonS3Client.getObjectMetadata(AmazonS3Client.java:1310)\n",
      "\tat com.amazonaws.services.s3.AmazonS3Client.getObjectMetadata(AmazonS3Client.java:1284)\n",
      "\tat org.apache.hadoop.fs.s3a.S3AFileSystem.getObjectMetadata(S3AFileSystem.java:904)\n",
      "\tat org.apache.hadoop.fs.s3a.S3AFileSystem.getFileStatus(S3AFileSystem.java:1553)\n",
      "\t... 26 more\n",
      "\n",
      "Traceback (most recent call last):\n",
      "  File \"/usr/lib/spark/python/lib/pyspark.zip/pyspark/sql/readwriter.py\", line 472, in csv\n",
      "    return self._df(self._jreader.csv(self._spark._sc._jvm.PythonUtils.toSeq(path)))\n",
      "  File \"/usr/lib/spark/python/lib/py4j-0.10.7-src.zip/py4j/java_gateway.py\", line 1257, in __call__\n",
      "    answer, self.gateway_client, self.target_id, self.name)\n",
      "  File \"/usr/lib/spark/python/lib/pyspark.zip/pyspark/sql/utils.py\", line 63, in deco\n",
      "    return f(*a, **kw)\n",
      "  File \"/usr/lib/spark/python/lib/py4j-0.10.7-src.zip/py4j/protocol.py\", line 328, in get_return_value\n",
      "    format(target_id, \".\", name), value)\n",
      "Py4JJavaError: An error occurred while calling o218.csv.\n",
      ": java.nio.file.AccessDeniedException: s3a://msds697-openpayments/subset_test_1/part-00000-65c52fec-3de1-4643-9516-fa329ff684b2-c000.csv: getFileStatus on s3a://msds697-openpayments/subset_test_1/part-00000-65c52fec-3de1-4643-9516-fa329ff684b2-c000.csv: com.amazonaws.services.s3.model.AmazonS3Exception: Forbidden (Service: Amazon S3; Status Code: 403; Error Code: 403 Forbidden; Request ID: 66E1899044A2A03A; S3 Extended Request ID: i+bZtmt+P0bsrF01jc3+3tP3WBois5h9583Hl1Tk851iQwxFSJPbmgjUDGsUZyYZEMz4JSZdJkc=), S3 Extended Request ID: i+bZtmt+P0bsrF01jc3+3tP3WBois5h9583Hl1Tk851iQwxFSJPbmgjUDGsUZyYZEMz4JSZdJkc=\n",
      "\tat org.apache.hadoop.fs.s3a.S3AUtils.translateException(S3AUtils.java:158)\n",
      "\tat org.apache.hadoop.fs.s3a.S3AUtils.translateException(S3AUtils.java:101)\n",
      "\tat org.apache.hadoop.fs.s3a.S3AFileSystem.getFileStatus(S3AFileSystem.java:1568)\n",
      "\tat org.apache.hadoop.fs.s3a.S3AFileSystem.getFileStatus(S3AFileSystem.java:117)\n",
      "\tat org.apache.hadoop.fs.FileSystem.exists(FileSystem.java:1440)\n",
      "\tat org.apache.hadoop.fs.s3a.S3AFileSystem.exists(S3AFileSystem.java:2040)\n",
      "\tat org.apache.spark.sql.execution.datasources.DataSource$$anonfun$org$apache$spark$sql$execution$datasources$DataSource$$checkAndGlobPathIfNecessary$1.apply(DataSource.scala:557)\n",
      "\tat org.apache.spark.sql.execution.datasources.DataSource$$anonfun$org$apache$spark$sql$execution$datasources$DataSource$$checkAndGlobPathIfNecessary$1.apply(DataSource.scala:545)\n",
      "\tat scala.collection.TraversableLike$$anonfun$flatMap$1.apply(TraversableLike.scala:241)\n",
      "\tat scala.collection.TraversableLike$$anonfun$flatMap$1.apply(TraversableLike.scala:241)\n",
      "\tat scala.collection.immutable.List.foreach(List.scala:392)\n",
      "\tat scala.collection.TraversableLike$class.flatMap(TraversableLike.scala:241)\n",
      "\tat scala.collection.immutable.List.flatMap(List.scala:355)\n",
      "\tat org.apache.spark.sql.execution.datasources.DataSource.org$apache$spark$sql$execution$datasources$DataSource$$checkAndGlobPathIfNecessary(DataSource.scala:545)\n",
      "\tat org.apache.spark.sql.execution.datasources.DataSource.resolveRelation(DataSource.scala:359)\n",
      "\tat org.apache.spark.sql.DataFrameReader.loadV1Source(DataFrameReader.scala:223)\n",
      "\tat org.apache.spark.sql.DataFrameReader.load(DataFrameReader.scala:211)\n",
      "\tat org.apache.spark.sql.DataFrameReader.csv(DataFrameReader.scala:617)\n",
      "\tat sun.reflect.NativeMethodAccessorImpl.invoke0(Native Method)\n",
      "\tat sun.reflect.NativeMethodAccessorImpl.invoke(NativeMethodAccessorImpl.java:62)\n",
      "\tat sun.reflect.DelegatingMethodAccessorImpl.invoke(DelegatingMethodAccessorImpl.java:43)\n",
      "\tat java.lang.reflect.Method.invoke(Method.java:498)\n",
      "\tat py4j.reflection.MethodInvoker.invoke(MethodInvoker.java:244)\n",
      "\tat py4j.reflection.ReflectionEngine.invoke(ReflectionEngine.java:357)\n",
      "\tat py4j.Gateway.invoke(Gateway.java:282)\n",
      "\tat py4j.commands.AbstractCommand.invokeMethod(AbstractCommand.java:132)\n",
      "\tat py4j.commands.CallCommand.execute(CallCommand.java:79)\n",
      "\tat py4j.GatewayConnection.run(GatewayConnection.java:238)\n",
      "\tat java.lang.Thread.run(Thread.java:748)\n",
      "Caused by: com.amazonaws.services.s3.model.AmazonS3Exception: Forbidden (Service: Amazon S3; Status Code: 403; Error Code: 403 Forbidden; Request ID: 66E1899044A2A03A; S3 Extended Request ID: i+bZtmt+P0bsrF01jc3+3tP3WBois5h9583Hl1Tk851iQwxFSJPbmgjUDGsUZyYZEMz4JSZdJkc=), S3 Extended Request ID: i+bZtmt+P0bsrF01jc3+3tP3WBois5h9583Hl1Tk851iQwxFSJPbmgjUDGsUZyYZEMz4JSZdJkc=\n",
      "\tat com.amazonaws.http.AmazonHttpClient$RequestExecutor.handleErrorResponse(AmazonHttpClient.java:1695)\n",
      "\tat com.amazonaws.http.AmazonHttpClient$RequestExecutor.executeOneRequest(AmazonHttpClient.java:1350)\n",
      "\tat com.amazonaws.http.AmazonHttpClient$RequestExecutor.executeHelper(AmazonHttpClient.java:1101)\n",
      "\tat com.amazonaws.http.AmazonHttpClient$RequestExecutor.doExecute(AmazonHttpClient.java:758)\n",
      "\tat com.amazonaws.http.AmazonHttpClient$RequestExecutor.executeWithTimer(AmazonHttpClient.java:732)\n",
      "\tat com.amazonaws.http.AmazonHttpClient$RequestExecutor.execute(AmazonHttpClient.java:714)\n",
      "\tat com.amazonaws.http.AmazonHttpClient$RequestExecutor.access$500(AmazonHttpClient.java:674)\n",
      "\tat com.amazonaws.http.AmazonHttpClient$RequestExecutionBuilderImpl.execute(AmazonHttpClient.java:656)\n",
      "\tat com.amazonaws.http.AmazonHttpClient.execute(AmazonHttpClient.java:520)\n",
      "\tat com.amazonaws.services.s3.AmazonS3Client.invoke(AmazonS3Client.java:4705)\n",
      "\tat com.amazonaws.services.s3.AmazonS3Client.invoke(AmazonS3Client.java:4652)\n",
      "\tat com.amazonaws.services.s3.AmazonS3Client.getObjectMetadata(AmazonS3Client.java:1310)\n",
      "\tat com.amazonaws.services.s3.AmazonS3Client.getObjectMetadata(AmazonS3Client.java:1284)\n",
      "\tat org.apache.hadoop.fs.s3a.S3AFileSystem.getObjectMetadata(S3AFileSystem.java:904)\n",
      "\tat org.apache.hadoop.fs.s3a.S3AFileSystem.getFileStatus(S3AFileSystem.java:1553)\n",
      "\t... 26 more\n",
      "\n",
      "\n"
     ]
    }
   ],
   "source": [
    "data = ss.read.csv('s3a://msds697-openpayments/subset_test_1/part-00000-65c52fec-3de1-4643-9516-fa329ff684b2-c000.csv')\n"
   ]
  },
  {
   "cell_type": "code",
   "execution_count": 18,
   "metadata": {},
   "outputs": [
    {
     "name": "stderr",
     "output_type": "stream",
     "text": [
      "An error occurred while calling o255.load.\n",
      ": java.nio.file.AccessDeniedException: s3a://msds697-openpayments/subset_test_1/part-00000-65c52fec-3de1-4643-9516-fa329ff684b2-c000.csv: getFileStatus on s3a://msds697-openpayments/subset_test_1/part-00000-65c52fec-3de1-4643-9516-fa329ff684b2-c000.csv: com.amazonaws.services.s3.model.AmazonS3Exception: Forbidden (Service: Amazon S3; Status Code: 403; Error Code: 403 Forbidden; Request ID: 521BF5D9E0989FA8; S3 Extended Request ID: v/UV4/cDsYZssVrauIphjWHXkFsMXDhCHzQEnVFCL9FQZSV/PnZ8zlld9oO3fqM1u0/JnYgusrA=), S3 Extended Request ID: v/UV4/cDsYZssVrauIphjWHXkFsMXDhCHzQEnVFCL9FQZSV/PnZ8zlld9oO3fqM1u0/JnYgusrA=\n",
      "\tat org.apache.hadoop.fs.s3a.S3AUtils.translateException(S3AUtils.java:158)\n",
      "\tat org.apache.hadoop.fs.s3a.S3AUtils.translateException(S3AUtils.java:101)\n",
      "\tat org.apache.hadoop.fs.s3a.S3AFileSystem.getFileStatus(S3AFileSystem.java:1568)\n",
      "\tat org.apache.hadoop.fs.s3a.S3AFileSystem.getFileStatus(S3AFileSystem.java:117)\n",
      "\tat org.apache.hadoop.fs.FileSystem.exists(FileSystem.java:1440)\n",
      "\tat org.apache.hadoop.fs.s3a.S3AFileSystem.exists(S3AFileSystem.java:2040)\n",
      "\tat org.apache.spark.sql.execution.datasources.DataSource$$anonfun$org$apache$spark$sql$execution$datasources$DataSource$$checkAndGlobPathIfNecessary$1.apply(DataSource.scala:557)\n",
      "\tat org.apache.spark.sql.execution.datasources.DataSource$$anonfun$org$apache$spark$sql$execution$datasources$DataSource$$checkAndGlobPathIfNecessary$1.apply(DataSource.scala:545)\n",
      "\tat scala.collection.TraversableLike$$anonfun$flatMap$1.apply(TraversableLike.scala:241)\n",
      "\tat scala.collection.TraversableLike$$anonfun$flatMap$1.apply(TraversableLike.scala:241)\n",
      "\tat scala.collection.immutable.List.foreach(List.scala:392)\n",
      "\tat scala.collection.TraversableLike$class.flatMap(TraversableLike.scala:241)\n",
      "\tat scala.collection.immutable.List.flatMap(List.scala:355)\n",
      "\tat org.apache.spark.sql.execution.datasources.DataSource.org$apache$spark$sql$execution$datasources$DataSource$$checkAndGlobPathIfNecessary(DataSource.scala:545)\n",
      "\tat org.apache.spark.sql.execution.datasources.DataSource.resolveRelation(DataSource.scala:359)\n",
      "\tat org.apache.spark.sql.DataFrameReader.loadV1Source(DataFrameReader.scala:223)\n",
      "\tat org.apache.spark.sql.DataFrameReader.load(DataFrameReader.scala:211)\n",
      "\tat org.apache.spark.sql.DataFrameReader.load(DataFrameReader.scala:178)\n",
      "\tat sun.reflect.NativeMethodAccessorImpl.invoke0(Native Method)\n",
      "\tat sun.reflect.NativeMethodAccessorImpl.invoke(NativeMethodAccessorImpl.java:62)\n",
      "\tat sun.reflect.DelegatingMethodAccessorImpl.invoke(DelegatingMethodAccessorImpl.java:43)\n",
      "\tat java.lang.reflect.Method.invoke(Method.java:498)\n",
      "\tat py4j.reflection.MethodInvoker.invoke(MethodInvoker.java:244)\n",
      "\tat py4j.reflection.ReflectionEngine.invoke(ReflectionEngine.java:357)\n",
      "\tat py4j.Gateway.invoke(Gateway.java:282)\n",
      "\tat py4j.commands.AbstractCommand.invokeMethod(AbstractCommand.java:132)\n",
      "\tat py4j.commands.CallCommand.execute(CallCommand.java:79)\n",
      "\tat py4j.GatewayConnection.run(GatewayConnection.java:238)\n",
      "\tat java.lang.Thread.run(Thread.java:748)\n",
      "Caused by: com.amazonaws.services.s3.model.AmazonS3Exception: Forbidden (Service: Amazon S3; Status Code: 403; Error Code: 403 Forbidden; Request ID: 521BF5D9E0989FA8; S3 Extended Request ID: v/UV4/cDsYZssVrauIphjWHXkFsMXDhCHzQEnVFCL9FQZSV/PnZ8zlld9oO3fqM1u0/JnYgusrA=), S3 Extended Request ID: v/UV4/cDsYZssVrauIphjWHXkFsMXDhCHzQEnVFCL9FQZSV/PnZ8zlld9oO3fqM1u0/JnYgusrA=\n",
      "\tat com.amazonaws.http.AmazonHttpClient$RequestExecutor.handleErrorResponse(AmazonHttpClient.java:1695)\n",
      "\tat com.amazonaws.http.AmazonHttpClient$RequestExecutor.executeOneRequest(AmazonHttpClient.java:1350)\n",
      "\tat com.amazonaws.http.AmazonHttpClient$RequestExecutor.executeHelper(AmazonHttpClient.java:1101)\n",
      "\tat com.amazonaws.http.AmazonHttpClient$RequestExecutor.doExecute(AmazonHttpClient.java:758)\n",
      "\tat com.amazonaws.http.AmazonHttpClient$RequestExecutor.executeWithTimer(AmazonHttpClient.java:732)\n",
      "\tat com.amazonaws.http.AmazonHttpClient$RequestExecutor.execute(AmazonHttpClient.java:714)\n",
      "\tat com.amazonaws.http.AmazonHttpClient$RequestExecutor.access$500(AmazonHttpClient.java:674)\n",
      "\tat com.amazonaws.http.AmazonHttpClient$RequestExecutionBuilderImpl.execute(AmazonHttpClient.java:656)\n",
      "\tat com.amazonaws.http.AmazonHttpClient.execute(AmazonHttpClient.java:520)\n",
      "\tat com.amazonaws.services.s3.AmazonS3Client.invoke(AmazonS3Client.java:4705)\n",
      "\tat com.amazonaws.services.s3.AmazonS3Client.invoke(AmazonS3Client.java:4652)\n",
      "\tat com.amazonaws.services.s3.AmazonS3Client.getObjectMetadata(AmazonS3Client.java:1310)\n",
      "\tat com.amazonaws.services.s3.AmazonS3Client.getObjectMetadata(AmazonS3Client.java:1284)\n",
      "\tat org.apache.hadoop.fs.s3a.S3AFileSystem.getObjectMetadata(S3AFileSystem.java:904)\n",
      "\tat org.apache.hadoop.fs.s3a.S3AFileSystem.getFileStatus(S3AFileSystem.java:1553)\n",
      "\t... 26 more\n",
      "\n",
      "Traceback (most recent call last):\n",
      "  File \"/usr/lib/spark/python/lib/pyspark.zip/pyspark/sql/readwriter.py\", line 166, in load\n",
      "    return self._df(self._jreader.load(path))\n",
      "  File \"/usr/lib/spark/python/lib/py4j-0.10.7-src.zip/py4j/java_gateway.py\", line 1257, in __call__\n",
      "    answer, self.gateway_client, self.target_id, self.name)\n",
      "  File \"/usr/lib/spark/python/lib/pyspark.zip/pyspark/sql/utils.py\", line 63, in deco\n",
      "    return f(*a, **kw)\n",
      "  File \"/usr/lib/spark/python/lib/py4j-0.10.7-src.zip/py4j/protocol.py\", line 328, in get_return_value\n",
      "    format(target_id, \".\", name), value)\n",
      "Py4JJavaError: An error occurred while calling o255.load.\n",
      ": java.nio.file.AccessDeniedException: s3a://msds697-openpayments/subset_test_1/part-00000-65c52fec-3de1-4643-9516-fa329ff684b2-c000.csv: getFileStatus on s3a://msds697-openpayments/subset_test_1/part-00000-65c52fec-3de1-4643-9516-fa329ff684b2-c000.csv: com.amazonaws.services.s3.model.AmazonS3Exception: Forbidden (Service: Amazon S3; Status Code: 403; Error Code: 403 Forbidden; Request ID: 521BF5D9E0989FA8; S3 Extended Request ID: v/UV4/cDsYZssVrauIphjWHXkFsMXDhCHzQEnVFCL9FQZSV/PnZ8zlld9oO3fqM1u0/JnYgusrA=), S3 Extended Request ID: v/UV4/cDsYZssVrauIphjWHXkFsMXDhCHzQEnVFCL9FQZSV/PnZ8zlld9oO3fqM1u0/JnYgusrA=\n",
      "\tat org.apache.hadoop.fs.s3a.S3AUtils.translateException(S3AUtils.java:158)\n",
      "\tat org.apache.hadoop.fs.s3a.S3AUtils.translateException(S3AUtils.java:101)\n",
      "\tat org.apache.hadoop.fs.s3a.S3AFileSystem.getFileStatus(S3AFileSystem.java:1568)\n",
      "\tat org.apache.hadoop.fs.s3a.S3AFileSystem.getFileStatus(S3AFileSystem.java:117)\n",
      "\tat org.apache.hadoop.fs.FileSystem.exists(FileSystem.java:1440)\n",
      "\tat org.apache.hadoop.fs.s3a.S3AFileSystem.exists(S3AFileSystem.java:2040)\n",
      "\tat org.apache.spark.sql.execution.datasources.DataSource$$anonfun$org$apache$spark$sql$execution$datasources$DataSource$$checkAndGlobPathIfNecessary$1.apply(DataSource.scala:557)\n",
      "\tat org.apache.spark.sql.execution.datasources.DataSource$$anonfun$org$apache$spark$sql$execution$datasources$DataSource$$checkAndGlobPathIfNecessary$1.apply(DataSource.scala:545)\n",
      "\tat scala.collection.TraversableLike$$anonfun$flatMap$1.apply(TraversableLike.scala:241)\n",
      "\tat scala.collection.TraversableLike$$anonfun$flatMap$1.apply(TraversableLike.scala:241)\n",
      "\tat scala.collection.immutable.List.foreach(List.scala:392)\n",
      "\tat scala.collection.TraversableLike$class.flatMap(TraversableLike.scala:241)\n",
      "\tat scala.collection.immutable.List.flatMap(List.scala:355)\n",
      "\tat org.apache.spark.sql.execution.datasources.DataSource.org$apache$spark$sql$execution$datasources$DataSource$$checkAndGlobPathIfNecessary(DataSource.scala:545)\n",
      "\tat org.apache.spark.sql.execution.datasources.DataSource.resolveRelation(DataSource.scala:359)\n",
      "\tat org.apache.spark.sql.DataFrameReader.loadV1Source(DataFrameReader.scala:223)\n",
      "\tat org.apache.spark.sql.DataFrameReader.load(DataFrameReader.scala:211)\n",
      "\tat org.apache.spark.sql.DataFrameReader.load(DataFrameReader.scala:178)\n",
      "\tat sun.reflect.NativeMethodAccessorImpl.invoke0(Native Method)\n",
      "\tat sun.reflect.NativeMethodAccessorImpl.invoke(NativeMethodAccessorImpl.java:62)\n",
      "\tat sun.reflect.DelegatingMethodAccessorImpl.invoke(DelegatingMethodAccessorImpl.java:43)\n",
      "\tat java.lang.reflect.Method.invoke(Method.java:498)\n",
      "\tat py4j.reflection.MethodInvoker.invoke(MethodInvoker.java:244)\n",
      "\tat py4j.reflection.ReflectionEngine.invoke(ReflectionEngine.java:357)\n",
      "\tat py4j.Gateway.invoke(Gateway.java:282)\n",
      "\tat py4j.commands.AbstractCommand.invokeMethod(AbstractCommand.java:132)\n",
      "\tat py4j.commands.CallCommand.execute(CallCommand.java:79)\n",
      "\tat py4j.GatewayConnection.run(GatewayConnection.java:238)\n",
      "\tat java.lang.Thread.run(Thread.java:748)\n",
      "Caused by: com.amazonaws.services.s3.model.AmazonS3Exception: Forbidden (Service: Amazon S3; Status Code: 403; Error Code: 403 Forbidden; Request ID: 521BF5D9E0989FA8; S3 Extended Request ID: v/UV4/cDsYZssVrauIphjWHXkFsMXDhCHzQEnVFCL9FQZSV/PnZ8zlld9oO3fqM1u0/JnYgusrA=), S3 Extended Request ID: v/UV4/cDsYZssVrauIphjWHXkFsMXDhCHzQEnVFCL9FQZSV/PnZ8zlld9oO3fqM1u0/JnYgusrA=\n",
      "\tat com.amazonaws.http.AmazonHttpClient$RequestExecutor.handleErrorResponse(AmazonHttpClient.java:1695)\n",
      "\tat com.amazonaws.http.AmazonHttpClient$RequestExecutor.executeOneRequest(AmazonHttpClient.java:1350)\n",
      "\tat com.amazonaws.http.AmazonHttpClient$RequestExecutor.executeHelper(AmazonHttpClient.java:1101)\n",
      "\tat com.amazonaws.http.AmazonHttpClient$RequestExecutor.doExecute(AmazonHttpClient.java:758)\n",
      "\tat com.amazonaws.http.AmazonHttpClient$RequestExecutor.executeWithTimer(AmazonHttpClient.java:732)\n",
      "\tat com.amazonaws.http.AmazonHttpClient$RequestExecutor.execute(AmazonHttpClient.java:714)\n",
      "\tat com.amazonaws.http.AmazonHttpClient$RequestExecutor.access$500(AmazonHttpClient.java:674)\n",
      "\tat com.amazonaws.http.AmazonHttpClient$RequestExecutionBuilderImpl.execute(AmazonHttpClient.java:656)\n",
      "\tat com.amazonaws.http.AmazonHttpClient.execute(AmazonHttpClient.java:520)\n",
      "\tat com.amazonaws.services.s3.AmazonS3Client.invoke(AmazonS3Client.java:4705)\n",
      "\tat com.amazonaws.services.s3.AmazonS3Client.invoke(AmazonS3Client.java:4652)\n",
      "\tat com.amazonaws.services.s3.AmazonS3Client.getObjectMetadata(AmazonS3Client.java:1310)\n",
      "\tat com.amazonaws.services.s3.AmazonS3Client.getObjectMetadata(AmazonS3Client.java:1284)\n",
      "\tat org.apache.hadoop.fs.s3a.S3AFileSystem.getObjectMetadata(S3AFileSystem.java:904)\n",
      "\tat org.apache.hadoop.fs.s3a.S3AFileSystem.getFileStatus(S3AFileSystem.java:1553)\n",
      "\t... 26 more\n",
      "\n",
      "\n"
     ]
    }
   ],
   "source": [
    "subset_uploaded_file = 's3a://msds697-openpayments/subset_test_1/' + \\\n",
    "                       'part-00000-65c52fec-3de1-4643-9516-fa329ff684b2-c000.csv'\n",
    "subset_uploaded = spark.read.format(\"csv\").option(\"header\", \n",
    "                                                  \"true\")\\\n",
    "                       .option(\"encoding\", \"utf-8\").load(subset_uploaded_file)\n"
   ]
  },
  {
   "cell_type": "code",
   "execution_count": 19,
   "metadata": {},
   "outputs": [
    {
     "name": "stderr",
     "output_type": "stream",
     "text": [
      "An error occurred while calling o290.load.\n",
      ": java.nio.file.AccessDeniedException: s3a://msds697-openpayments/subset_test_1/part-00000-65c52fec-3de1-4643-9516-fa329ff684b2-c000.csv: getFileStatus on s3a://msds697-openpayments/subset_test_1/part-00000-65c52fec-3de1-4643-9516-fa329ff684b2-c000.csv: com.amazonaws.services.s3.model.AmazonS3Exception: Forbidden (Service: Amazon S3; Status Code: 403; Error Code: 403 Forbidden; Request ID: 4779FE454C81AF93; S3 Extended Request ID: 0pdu64V+Lpq1uKzO/Ahlxwyn/01Y98vIeXLU25Ug7RIISweNlQKrXRRzgWRBrgBlCZ+eDqjH/vI=), S3 Extended Request ID: 0pdu64V+Lpq1uKzO/Ahlxwyn/01Y98vIeXLU25Ug7RIISweNlQKrXRRzgWRBrgBlCZ+eDqjH/vI=\n",
      "\tat org.apache.hadoop.fs.s3a.S3AUtils.translateException(S3AUtils.java:158)\n",
      "\tat org.apache.hadoop.fs.s3a.S3AUtils.translateException(S3AUtils.java:101)\n",
      "\tat org.apache.hadoop.fs.s3a.S3AFileSystem.getFileStatus(S3AFileSystem.java:1568)\n",
      "\tat org.apache.hadoop.fs.s3a.S3AFileSystem.getFileStatus(S3AFileSystem.java:117)\n",
      "\tat org.apache.hadoop.fs.FileSystem.exists(FileSystem.java:1440)\n",
      "\tat org.apache.hadoop.fs.s3a.S3AFileSystem.exists(S3AFileSystem.java:2040)\n",
      "\tat org.apache.spark.sql.execution.datasources.DataSource$$anonfun$org$apache$spark$sql$execution$datasources$DataSource$$checkAndGlobPathIfNecessary$1.apply(DataSource.scala:557)\n",
      "\tat org.apache.spark.sql.execution.datasources.DataSource$$anonfun$org$apache$spark$sql$execution$datasources$DataSource$$checkAndGlobPathIfNecessary$1.apply(DataSource.scala:545)\n",
      "\tat scala.collection.TraversableLike$$anonfun$flatMap$1.apply(TraversableLike.scala:241)\n",
      "\tat scala.collection.TraversableLike$$anonfun$flatMap$1.apply(TraversableLike.scala:241)\n",
      "\tat scala.collection.immutable.List.foreach(List.scala:392)\n",
      "\tat scala.collection.TraversableLike$class.flatMap(TraversableLike.scala:241)\n",
      "\tat scala.collection.immutable.List.flatMap(List.scala:355)\n",
      "\tat org.apache.spark.sql.execution.datasources.DataSource.org$apache$spark$sql$execution$datasources$DataSource$$checkAndGlobPathIfNecessary(DataSource.scala:545)\n",
      "\tat org.apache.spark.sql.execution.datasources.DataSource.resolveRelation(DataSource.scala:359)\n",
      "\tat org.apache.spark.sql.DataFrameReader.loadV1Source(DataFrameReader.scala:223)\n",
      "\tat org.apache.spark.sql.DataFrameReader.load(DataFrameReader.scala:211)\n",
      "\tat org.apache.spark.sql.DataFrameReader.load(DataFrameReader.scala:178)\n",
      "\tat sun.reflect.NativeMethodAccessorImpl.invoke0(Native Method)\n",
      "\tat sun.reflect.NativeMethodAccessorImpl.invoke(NativeMethodAccessorImpl.java:62)\n",
      "\tat sun.reflect.DelegatingMethodAccessorImpl.invoke(DelegatingMethodAccessorImpl.java:43)\n",
      "\tat java.lang.reflect.Method.invoke(Method.java:498)\n",
      "\tat py4j.reflection.MethodInvoker.invoke(MethodInvoker.java:244)\n",
      "\tat py4j.reflection.ReflectionEngine.invoke(ReflectionEngine.java:357)\n",
      "\tat py4j.Gateway.invoke(Gateway.java:282)\n",
      "\tat py4j.commands.AbstractCommand.invokeMethod(AbstractCommand.java:132)\n",
      "\tat py4j.commands.CallCommand.execute(CallCommand.java:79)\n",
      "\tat py4j.GatewayConnection.run(GatewayConnection.java:238)\n",
      "\tat java.lang.Thread.run(Thread.java:748)\n",
      "Caused by: com.amazonaws.services.s3.model.AmazonS3Exception: Forbidden (Service: Amazon S3; Status Code: 403; Error Code: 403 Forbidden; Request ID: 4779FE454C81AF93; S3 Extended Request ID: 0pdu64V+Lpq1uKzO/Ahlxwyn/01Y98vIeXLU25Ug7RIISweNlQKrXRRzgWRBrgBlCZ+eDqjH/vI=), S3 Extended Request ID: 0pdu64V+Lpq1uKzO/Ahlxwyn/01Y98vIeXLU25Ug7RIISweNlQKrXRRzgWRBrgBlCZ+eDqjH/vI=\n",
      "\tat com.amazonaws.http.AmazonHttpClient$RequestExecutor.handleErrorResponse(AmazonHttpClient.java:1695)\n",
      "\tat com.amazonaws.http.AmazonHttpClient$RequestExecutor.executeOneRequest(AmazonHttpClient.java:1350)\n",
      "\tat com.amazonaws.http.AmazonHttpClient$RequestExecutor.executeHelper(AmazonHttpClient.java:1101)\n",
      "\tat com.amazonaws.http.AmazonHttpClient$RequestExecutor.doExecute(AmazonHttpClient.java:758)\n",
      "\tat com.amazonaws.http.AmazonHttpClient$RequestExecutor.executeWithTimer(AmazonHttpClient.java:732)\n",
      "\tat com.amazonaws.http.AmazonHttpClient$RequestExecutor.execute(AmazonHttpClient.java:714)\n",
      "\tat com.amazonaws.http.AmazonHttpClient$RequestExecutor.access$500(AmazonHttpClient.java:674)\n",
      "\tat com.amazonaws.http.AmazonHttpClient$RequestExecutionBuilderImpl.execute(AmazonHttpClient.java:656)\n",
      "\tat com.amazonaws.http.AmazonHttpClient.execute(AmazonHttpClient.java:520)\n",
      "\tat com.amazonaws.services.s3.AmazonS3Client.invoke(AmazonS3Client.java:4705)\n",
      "\tat com.amazonaws.services.s3.AmazonS3Client.invoke(AmazonS3Client.java:4652)\n",
      "\tat com.amazonaws.services.s3.AmazonS3Client.getObjectMetadata(AmazonS3Client.java:1310)\n",
      "\tat com.amazonaws.services.s3.AmazonS3Client.getObjectMetadata(AmazonS3Client.java:1284)\n",
      "\tat org.apache.hadoop.fs.s3a.S3AFileSystem.getObjectMetadata(S3AFileSystem.java:904)\n",
      "\tat org.apache.hadoop.fs.s3a.S3AFileSystem.getFileStatus(S3AFileSystem.java:1553)\n",
      "\t... 26 more\n",
      "\n",
      "Traceback (most recent call last):\n",
      "  File \"/usr/lib/spark/python/lib/pyspark.zip/pyspark/sql/readwriter.py\", line 166, in load\n",
      "    return self._df(self._jreader.load(path))\n",
      "  File \"/usr/lib/spark/python/lib/py4j-0.10.7-src.zip/py4j/java_gateway.py\", line 1257, in __call__\n",
      "    answer, self.gateway_client, self.target_id, self.name)\n",
      "  File \"/usr/lib/spark/python/lib/pyspark.zip/pyspark/sql/utils.py\", line 63, in deco\n",
      "    return f(*a, **kw)\n",
      "  File \"/usr/lib/spark/python/lib/py4j-0.10.7-src.zip/py4j/protocol.py\", line 328, in get_return_value\n",
      "    format(target_id, \".\", name), value)\n",
      "Py4JJavaError: An error occurred while calling o290.load.\n",
      ": java.nio.file.AccessDeniedException: s3a://msds697-openpayments/subset_test_1/part-00000-65c52fec-3de1-4643-9516-fa329ff684b2-c000.csv: getFileStatus on s3a://msds697-openpayments/subset_test_1/part-00000-65c52fec-3de1-4643-9516-fa329ff684b2-c000.csv: com.amazonaws.services.s3.model.AmazonS3Exception: Forbidden (Service: Amazon S3; Status Code: 403; Error Code: 403 Forbidden; Request ID: 4779FE454C81AF93; S3 Extended Request ID: 0pdu64V+Lpq1uKzO/Ahlxwyn/01Y98vIeXLU25Ug7RIISweNlQKrXRRzgWRBrgBlCZ+eDqjH/vI=), S3 Extended Request ID: 0pdu64V+Lpq1uKzO/Ahlxwyn/01Y98vIeXLU25Ug7RIISweNlQKrXRRzgWRBrgBlCZ+eDqjH/vI=\n",
      "\tat org.apache.hadoop.fs.s3a.S3AUtils.translateException(S3AUtils.java:158)\n",
      "\tat org.apache.hadoop.fs.s3a.S3AUtils.translateException(S3AUtils.java:101)\n",
      "\tat org.apache.hadoop.fs.s3a.S3AFileSystem.getFileStatus(S3AFileSystem.java:1568)\n",
      "\tat org.apache.hadoop.fs.s3a.S3AFileSystem.getFileStatus(S3AFileSystem.java:117)\n",
      "\tat org.apache.hadoop.fs.FileSystem.exists(FileSystem.java:1440)\n",
      "\tat org.apache.hadoop.fs.s3a.S3AFileSystem.exists(S3AFileSystem.java:2040)\n",
      "\tat org.apache.spark.sql.execution.datasources.DataSource$$anonfun$org$apache$spark$sql$execution$datasources$DataSource$$checkAndGlobPathIfNecessary$1.apply(DataSource.scala:557)\n",
      "\tat org.apache.spark.sql.execution.datasources.DataSource$$anonfun$org$apache$spark$sql$execution$datasources$DataSource$$checkAndGlobPathIfNecessary$1.apply(DataSource.scala:545)\n",
      "\tat scala.collection.TraversableLike$$anonfun$flatMap$1.apply(TraversableLike.scala:241)\n",
      "\tat scala.collection.TraversableLike$$anonfun$flatMap$1.apply(TraversableLike.scala:241)\n",
      "\tat scala.collection.immutable.List.foreach(List.scala:392)\n",
      "\tat scala.collection.TraversableLike$class.flatMap(TraversableLike.scala:241)\n",
      "\tat scala.collection.immutable.List.flatMap(List.scala:355)\n",
      "\tat org.apache.spark.sql.execution.datasources.DataSource.org$apache$spark$sql$execution$datasources$DataSource$$checkAndGlobPathIfNecessary(DataSource.scala:545)\n",
      "\tat org.apache.spark.sql.execution.datasources.DataSource.resolveRelation(DataSource.scala:359)\n",
      "\tat org.apache.spark.sql.DataFrameReader.loadV1Source(DataFrameReader.scala:223)\n",
      "\tat org.apache.spark.sql.DataFrameReader.load(DataFrameReader.scala:211)\n",
      "\tat org.apache.spark.sql.DataFrameReader.load(DataFrameReader.scala:178)\n",
      "\tat sun.reflect.NativeMethodAccessorImpl.invoke0(Native Method)\n",
      "\tat sun.reflect.NativeMethodAccessorImpl.invoke(NativeMethodAccessorImpl.java:62)\n",
      "\tat sun.reflect.DelegatingMethodAccessorImpl.invoke(DelegatingMethodAccessorImpl.java:43)\n",
      "\tat java.lang.reflect.Method.invoke(Method.java:498)\n",
      "\tat py4j.reflection.MethodInvoker.invoke(MethodInvoker.java:244)\n",
      "\tat py4j.reflection.ReflectionEngine.invoke(ReflectionEngine.java:357)\n",
      "\tat py4j.Gateway.invoke(Gateway.java:282)\n",
      "\tat py4j.commands.AbstractCommand.invokeMethod(AbstractCommand.java:132)\n",
      "\tat py4j.commands.CallCommand.execute(CallCommand.java:79)\n",
      "\tat py4j.GatewayConnection.run(GatewayConnection.java:238)\n",
      "\tat java.lang.Thread.run(Thread.java:748)\n",
      "Caused by: com.amazonaws.services.s3.model.AmazonS3Exception: Forbidden (Service: Amazon S3; Status Code: 403; Error Code: 403 Forbidden; Request ID: 4779FE454C81AF93; S3 Extended Request ID: 0pdu64V+Lpq1uKzO/Ahlxwyn/01Y98vIeXLU25Ug7RIISweNlQKrXRRzgWRBrgBlCZ+eDqjH/vI=), S3 Extended Request ID: 0pdu64V+Lpq1uKzO/Ahlxwyn/01Y98vIeXLU25Ug7RIISweNlQKrXRRzgWRBrgBlCZ+eDqjH/vI=\n",
      "\tat com.amazonaws.http.AmazonHttpClient$RequestExecutor.handleErrorResponse(AmazonHttpClient.java:1695)\n",
      "\tat com.amazonaws.http.AmazonHttpClient$RequestExecutor.executeOneRequest(AmazonHttpClient.java:1350)\n",
      "\tat com.amazonaws.http.AmazonHttpClient$RequestExecutor.executeHelper(AmazonHttpClient.java:1101)\n",
      "\tat com.amazonaws.http.AmazonHttpClient$RequestExecutor.doExecute(AmazonHttpClient.java:758)\n",
      "\tat com.amazonaws.http.AmazonHttpClient$RequestExecutor.executeWithTimer(AmazonHttpClient.java:732)\n",
      "\tat com.amazonaws.http.AmazonHttpClient$RequestExecutor.execute(AmazonHttpClient.java:714)\n",
      "\tat com.amazonaws.http.AmazonHttpClient$RequestExecutor.access$500(AmazonHttpClient.java:674)\n",
      "\tat com.amazonaws.http.AmazonHttpClient$RequestExecutionBuilderImpl.execute(AmazonHttpClient.java:656)\n",
      "\tat com.amazonaws.http.AmazonHttpClient.execute(AmazonHttpClient.java:520)\n",
      "\tat com.amazonaws.services.s3.AmazonS3Client.invoke(AmazonS3Client.java:4705)\n",
      "\tat com.amazonaws.services.s3.AmazonS3Client.invoke(AmazonS3Client.java:4652)\n",
      "\tat com.amazonaws.services.s3.AmazonS3Client.getObjectMetadata(AmazonS3Client.java:1310)\n",
      "\tat com.amazonaws.services.s3.AmazonS3Client.getObjectMetadata(AmazonS3Client.java:1284)\n",
      "\tat org.apache.hadoop.fs.s3a.S3AFileSystem.getObjectMetadata(S3AFileSystem.java:904)\n",
      "\tat org.apache.hadoop.fs.s3a.S3AFileSystem.getFileStatus(S3AFileSystem.java:1553)\n",
      "\t... 26 more\n",
      "\n",
      "\n"
     ]
    }
   ],
   "source": [
    "subset_file = 's3://msds697-openpayments/subset_test_2/part-00000-0010f144-ce79-41ee-aad3-473a76d0a6b6-c000.csv'\n",
    "subset_uploaded = spark.read.format(\"csv\").option(\"header\", \"true\")\\\n",
    "                       .option(\"encoding\", \"utf-8\").load(subset_uploaded_file)"
   ]
  }
 ],
 "metadata": {
  "kernelspec": {
   "display_name": "PySpark",
   "language": "",
   "name": "pysparkkernel"
  },
  "language_info": {
   "codemirror_mode": {
    "name": "python",
    "version": 2
   },
   "mimetype": "text/x-python",
   "name": "pyspark",
   "pygments_lexer": "python2"
  }
 },
 "nbformat": 4,
 "nbformat_minor": 2
}
